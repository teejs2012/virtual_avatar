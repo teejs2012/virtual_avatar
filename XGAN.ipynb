{
 "cells": [
  {
   "cell_type": "code",
   "execution_count": 1,
   "metadata": {},
   "outputs": [],
   "source": [
    "import os, time, pickle\n",
    "from lib import networks, utils, train_history\n",
    "import torch\n",
    "import torch.nn as nn\n",
    "import torch.optim as optim\n",
    "import matplotlib.pyplot as plt\n",
    "from torchvision import transforms\n",
    "from torchvision import datasets"
   ]
  },
  {
   "cell_type": "code",
   "execution_count": 2,
   "metadata": {},
   "outputs": [
    {
     "data": {
      "text/plain": [
       "device(type='cuda')"
      ]
     },
     "execution_count": 2,
     "metadata": {},
     "output_type": "execute_result"
    }
   ],
   "source": [
    "device = torch.device('cuda' if torch.cuda.is_available() else 'cpu')\n",
    "if torch.backends.cudnn.enabled:\n",
    "    torch.backends.cudnn.benchmark = True\n",
    "device"
   ]
  },
  {
   "cell_type": "markdown",
   "metadata": {},
   "source": [
    "### Hyper-parameters"
   ]
  },
  {
   "cell_type": "code",
   "execution_count": 3,
   "metadata": {},
   "outputs": [],
   "source": [
    "batch_size=10\n",
    "input_size=128\n",
    "train_epoch=20\n",
    "\n",
    "#input channel for discriminator\n",
    "in_ngc=3\n",
    "#output channel for discriminator\n",
    "out_ngc=3\n",
    "#generator first layer number of filters\n",
    "ngf=8\n",
    "#input channel for discriminator\n",
    "in_ndc=3\n",
    "#output channel for discriminator\n",
    "out_ndc=1\n",
    "#discriminator first layer number of filters\n",
    "ndf=32\n",
    "# resnet layer\n",
    "nb = 4\n",
    "# coupled layer\n",
    "coupled_layer = 1\n",
    "# decoupled layer\n",
    "decoupled_layer = 4\n",
    "#latent vector length\n",
    "latent_len = 4096\n",
    "\n",
    "#learning rate, default=0.0002\n",
    "lrD=0.0001\n",
    "lrG=0.0002\n",
    "lrC = 0.0001\n",
    "\n",
    "#generator lambda\n",
    "rec_lambda=1\n",
    "sem_lambda=10\n",
    "idt_lambda=0.1\n",
    "dann_lambda=1\n",
    "\n",
    "#beta for Adam optimizer\n",
    "beta1=0.5\n",
    "beta2=0.999"
   ]
  },
  {
   "cell_type": "markdown",
   "metadata": {},
   "source": [
    "### Folder structure"
   ]
  },
  {
   "cell_type": "code",
   "execution_count": 4,
   "metadata": {},
   "outputs": [],
   "source": [
    "# results save path\n",
    "project_name = 'XGAN_9'\n",
    "result_path = project_name+'_results'\n",
    "src_result_name = 'G_S'\n",
    "tgt_result_name = 'G_T'\n",
    "\n",
    "data_path = 'data'\n",
    "src_data_path = os.path.join(data_path,'src_data_path_new')\n",
    "# tgt_data_path = os.path.join(data_path,'tgt_data_path')\n",
    "tgt_data_path = os.path.join(data_path,'clear_blur_tgt_data_path')\n",
    "\n",
    "#ensure data folder exists\n",
    "if not os.path.isdir(os.path.join(result_path, src_result_name)):\n",
    "    os.makedirs(os.path.join(result_path, src_result_name))\n",
    "if not os.path.isdir(os.path.join(result_path, tgt_result_name)):\n",
    "    os.makedirs(os.path.join(result_path, tgt_result_name))\n",
    "if not os.path.isdir(os.path.join(src_data_path,'train')):\n",
    "    os.makedirs(os.path.join(src_data_path,'train'))\n",
    "if not os.path.isdir(os.path.join(tgt_data_path,'train')):\n",
    "    os.makedirs(os.path.join(tgt_data_path,'train'))"
   ]
  },
  {
   "cell_type": "markdown",
   "metadata": {},
   "source": [
    "### Load Data"
   ]
  },
  {
   "cell_type": "code",
   "execution_count": 5,
   "metadata": {},
   "outputs": [],
   "source": [
    "# data_loader\n",
    "transform = transforms.Compose([\n",
    "        transforms.Resize((input_size, input_size)),\n",
    "        transforms.ToTensor(),\n",
    "        transforms.Normalize(mean=(0.5, 0.5, 0.5), std=(0.5, 0.5, 0.5))\n",
    "])\n",
    "\n",
    "tgt_transform = transforms.Compose([\n",
    "        transforms.Resize((input_size, 2*input_size)),\n",
    "        transforms.ToTensor(),\n",
    "        transforms.Normalize(mean=(0.5, 0.5, 0.5), std=(0.5, 0.5, 0.5))\n",
    "])\n",
    "# train_loader_S = utils.data_load(os.path.join('data', src_data), 'train', transform, batch_size, shuffle=True, drop_last=True)\n",
    "# train_loader_T = utils.data_load(os.path.join('data', tgt_data), 'train', transform, batch_size, shuffle=True, drop_last=True)\n",
    "train_loader_S = torch.utils.data.DataLoader(datasets.ImageFolder(src_data_path, transform), batch_size=batch_size, shuffle=True, drop_last=True)\n",
    "train_loader_T = torch.utils.data.DataLoader(datasets.ImageFolder(tgt_data_path, tgt_transform), batch_size=batch_size, shuffle=True, drop_last=True)\n"
   ]
  },
  {
   "cell_type": "markdown",
   "metadata": {},
   "source": [
    "### Model define"
   ]
  },
  {
   "cell_type": "code",
   "execution_count": 12,
   "metadata": {
    "scrolled": false
   },
   "outputs": [
    {
     "data": {
      "text/plain": [
       "xgan_classifier2(\n",
       "  (classifier): Linear(in_features=4096, out_features=2, bias=True)\n",
       ")"
      ]
     },
     "execution_count": 12,
     "metadata": {},
     "output_type": "execute_result"
    }
   ],
   "source": [
    "# network\n",
    "# G = networks.xgan_generator(in_ngc,out_ngc,ngf)\n",
    "G = networks.xgan_generator2(in_ngc,out_ngc,ngf,nb,coupled_layer,decoupled_layer)\n",
    "# G = networks.xgan_generator3(in_ngc,out_ngc,ngf)\n",
    "# G = networks.xgan_generator4(in_ngc,out_ngc,ngf,input_size,coupled_layer,decoupled_layer)\n",
    "\n",
    "D = networks.discriminator(in_ndc, out_ndc, ndf)\n",
    "C = networks.xgan_classifier2(latent_len)\n",
    "# C = networks.xgan_classifier(latent_len)\n",
    "\n",
    "G.to(device)\n",
    "D.to(device)\n",
    "C.to(device)"
   ]
  },
  {
   "cell_type": "code",
   "execution_count": 13,
   "metadata": {},
   "outputs": [],
   "source": [
    "# loss\n",
    "MSE_loss = nn.MSELoss().to(device)\n",
    "L1_loss = nn.L1Loss().to(device)\n",
    "Cross_Entropy_loss = nn.CrossEntropyLoss().to(device)\n",
    "\n",
    "def D_loss_criterion(D_decision,device,zeros,trick=True):\n",
    "    if(zeros):\n",
    "        if(trick):\n",
    "            return MSE_loss(D_decision, torch.rand(D_decision.size(), device=device)/10.0)\n",
    "        return MSE_loss(D_decision, torch.zeros(D_decision.size(), device=device))\n",
    "    else:\n",
    "        if(trick):\n",
    "            return MSE_loss(D_decision, 1-torch.rand(D_decision.size(), device=device)/10.0)\n",
    "        return MSE_loss(D_decision, torch.ones(D_decision.size(), device=device))"
   ]
  },
  {
   "cell_type": "code",
   "execution_count": 14,
   "metadata": {},
   "outputs": [],
   "source": [
    "# optimizer\n",
    "G_optimizer = optim.Adam(G.parameters(), lr=lrG, betas=(beta1, beta2))\n",
    "D_optimizer = optim.Adam(D.parameters(), lr=lrD, betas=(beta1, beta2))\n",
    "C_optimizer = optim.Adam(C.parameters(), lr=lrC, betas=(beta1,beta2))"
   ]
  },
  {
   "cell_type": "code",
   "execution_count": null,
   "metadata": {},
   "outputs": [],
   "source": [
    "train_hist = train_history.train_history(['per_epoch_time',\n",
    "                                          'G_rec_loss',\n",
    "                                          'G_sem_loss',\n",
    "                                          'G_gan_loss',\n",
    "                                          'G_dann_loss',\n",
    "                                          'D_loss',\n",
    "                                          'C_loss'])"
   ]
  },
  {
   "cell_type": "code",
   "execution_count": 15,
   "metadata": {},
   "outputs": [],
   "source": [
    "# train history\n",
    "train_hist = {}\n",
    "train_hist['per_epoch_time'] = []\n",
    "train_hist['total_time'] = []\n",
    "train_hist['G_rec_loss']=[]\n",
    "train_hist['G_sem_loss']=[]\n",
    "train_hist['G_gan_loss']=[]\n",
    "train_hist['G_dann_loss']=[]\n",
    "train_hist['D_loss']=[]\n",
    "train_hist['C_loss']=[]"
   ]
  },
  {
   "cell_type": "markdown",
   "metadata": {},
   "source": [
    "### Load existing model parameters"
   ]
  },
  {
   "cell_type": "code",
   "execution_count": 40,
   "metadata": {},
   "outputs": [],
   "source": [
    "G.load_state_dict(torch.load(os.path.join(result_path, 'G.pkl')))\n",
    "C.load_state_dict(torch.load(os.path.join(result_path, 'C.pkl')))\n",
    "D.load_state_dict(torch.load(os.path.join(result_path, 'D.pkl')))"
   ]
  },
  {
   "cell_type": "markdown",
   "metadata": {},
   "source": [
    "### Load train hist"
   ]
  },
  {
   "cell_type": "code",
   "execution_count": null,
   "metadata": {},
   "outputs": [],
   "source": [
    "train_hist.load_train(os.path.join(result_path, 'train_hist.pkl'))"
   ]
  },
  {
   "cell_type": "code",
   "execution_count": 11,
   "metadata": {},
   "outputs": [],
   "source": [
    "with open(os.path.join(result_path, 'train_hist.pkl'), 'rb') as pickle_file:\n",
    "    train_hist = pickle.load(pickle_file)"
   ]
  },
  {
   "cell_type": "markdown",
   "metadata": {},
   "source": [
    "### Starting epoch"
   ]
  },
  {
   "cell_type": "code",
   "execution_count": 22,
   "metadata": {},
   "outputs": [],
   "source": [
    "#starting_epoch is used to avoid overriding of the previously generated results\n",
    "starting_epoch = 40"
   ]
  },
  {
   "cell_type": "markdown",
   "metadata": {},
   "source": [
    "### Train"
   ]
  },
  {
   "cell_type": "code",
   "execution_count": 23,
   "metadata": {},
   "outputs": [
    {
     "name": "stdout",
     "output_type": "stream",
     "text": [
      "training start!\n",
      "[41/60] - time: 222.34, G_rec loss: 46639.766, G_sem loss: 37.057, G_gan loss: 0.903, G_dann loss: 16.002, D loss: 0.003, C loss: 0.007\n",
      "[42/60] - time: 223.77, G_rec loss: 46470.855, G_sem loss: 35.062, G_gan loss: 0.906, G_dann loss: 15.740, D loss: 0.003, C loss: 0.007\n",
      "[43/60] - time: 224.89, G_rec loss: 46318.078, G_sem loss: 34.304, G_gan loss: 0.904, G_dann loss: 15.765, D loss: 0.003, C loss: 0.006\n",
      "[44/60] - time: 225.12, G_rec loss: 46063.312, G_sem loss: 33.828, G_gan loss: 0.903, G_dann loss: 15.906, D loss: 0.003, C loss: 0.006\n",
      "[45/60] - time: 226.26, G_rec loss: 45899.707, G_sem loss: 33.440, G_gan loss: 0.908, G_dann loss: 15.983, D loss: 0.004, C loss: 0.007\n",
      "[46/60] - time: 225.31, G_rec loss: 45769.133, G_sem loss: 33.352, G_gan loss: 0.903, G_dann loss: 16.059, D loss: 0.003, C loss: 0.006\n",
      "[47/60] - time: 226.66, G_rec loss: 45575.254, G_sem loss: 33.204, G_gan loss: 0.904, G_dann loss: 16.170, D loss: 0.003, C loss: 0.007\n",
      "[48/60] - time: 225.92, G_rec loss: 45334.859, G_sem loss: 32.953, G_gan loss: 0.903, G_dann loss: 16.316, D loss: 0.003, C loss: 0.006\n",
      "[49/60] - time: 225.91, G_rec loss: 45357.820, G_sem loss: 32.902, G_gan loss: 0.903, G_dann loss: 16.329, D loss: 0.003, C loss: 0.006\n",
      "[50/60] - time: 225.60, G_rec loss: 45150.188, G_sem loss: 32.805, G_gan loss: 0.903, G_dann loss: 16.345, D loss: 0.003, C loss: 0.006\n",
      "[51/60] - time: 224.95, G_rec loss: 45018.047, G_sem loss: 32.876, G_gan loss: 0.903, G_dann loss: 16.574, D loss: 0.003, C loss: 0.006\n",
      "[52/60] - time: 225.49, G_rec loss: 44852.723, G_sem loss: 32.691, G_gan loss: 0.903, G_dann loss: 16.619, D loss: 0.003, C loss: 0.006\n",
      "[53/60] - time: 222.93, G_rec loss: 44767.691, G_sem loss: 32.613, G_gan loss: 0.906, G_dann loss: 16.669, D loss: 0.004, C loss: 0.005\n"
     ]
    },
    {
     "ename": "KeyboardInterrupt",
     "evalue": "",
     "output_type": "error",
     "traceback": [
      "\u001b[0;31m---------------------------------------------------------------------------\u001b[0m",
      "\u001b[0;31mKeyboardInterrupt\u001b[0m                         Traceback (most recent call last)",
      "\u001b[0;32m<ipython-input-23-3eec153a10c5>\u001b[0m in \u001b[0;36m<module>\u001b[0;34m()\u001b[0m\n\u001b[1;32m     18\u001b[0m     \u001b[0mD_losses\u001b[0m \u001b[0;34m=\u001b[0m \u001b[0;34m[\u001b[0m\u001b[0;34m]\u001b[0m\u001b[0;34m\u001b[0m\u001b[0m\n\u001b[1;32m     19\u001b[0m     \u001b[0mC_losses\u001b[0m \u001b[0;34m=\u001b[0m \u001b[0;34m[\u001b[0m\u001b[0;34m]\u001b[0m\u001b[0;34m\u001b[0m\u001b[0m\n\u001b[0;32m---> 20\u001b[0;31m     \u001b[0;32mfor\u001b[0m \u001b[0;34m(\u001b[0m\u001b[0mreal_S\u001b[0m\u001b[0;34m,\u001b[0m\u001b[0m_\u001b[0m\u001b[0;34m)\u001b[0m\u001b[0;34m,\u001b[0m\u001b[0;34m(\u001b[0m\u001b[0my\u001b[0m\u001b[0;34m,\u001b[0m\u001b[0m_\u001b[0m\u001b[0;34m)\u001b[0m \u001b[0;32min\u001b[0m \u001b[0mzip\u001b[0m\u001b[0;34m(\u001b[0m\u001b[0mtrain_loader_S\u001b[0m\u001b[0;34m,\u001b[0m \u001b[0mtrain_loader_T\u001b[0m\u001b[0;34m)\u001b[0m\u001b[0;34m:\u001b[0m\u001b[0;34m\u001b[0m\u001b[0m\n\u001b[0m\u001b[1;32m     21\u001b[0m         \u001b[0mG\u001b[0m\u001b[0;34m.\u001b[0m\u001b[0mtrain\u001b[0m\u001b[0;34m(\u001b[0m\u001b[0;34m)\u001b[0m\u001b[0;34m\u001b[0m\u001b[0m\n\u001b[1;32m     22\u001b[0m \u001b[0;34m\u001b[0m\u001b[0m\n",
      "\u001b[0;32m~/anaconda3/envs/pytorch/lib/python3.5/site-packages/torch/utils/data/dataloader.py\u001b[0m in \u001b[0;36m__next__\u001b[0;34m(self)\u001b[0m\n\u001b[1;32m    312\u001b[0m         \u001b[0;32mif\u001b[0m \u001b[0mself\u001b[0m\u001b[0;34m.\u001b[0m\u001b[0mnum_workers\u001b[0m \u001b[0;34m==\u001b[0m \u001b[0;36m0\u001b[0m\u001b[0;34m:\u001b[0m  \u001b[0;31m# same-process loading\u001b[0m\u001b[0;34m\u001b[0m\u001b[0m\n\u001b[1;32m    313\u001b[0m             \u001b[0mindices\u001b[0m \u001b[0;34m=\u001b[0m \u001b[0mnext\u001b[0m\u001b[0;34m(\u001b[0m\u001b[0mself\u001b[0m\u001b[0;34m.\u001b[0m\u001b[0msample_iter\u001b[0m\u001b[0;34m)\u001b[0m  \u001b[0;31m# may raise StopIteration\u001b[0m\u001b[0;34m\u001b[0m\u001b[0m\n\u001b[0;32m--> 314\u001b[0;31m             \u001b[0mbatch\u001b[0m \u001b[0;34m=\u001b[0m \u001b[0mself\u001b[0m\u001b[0;34m.\u001b[0m\u001b[0mcollate_fn\u001b[0m\u001b[0;34m(\u001b[0m\u001b[0;34m[\u001b[0m\u001b[0mself\u001b[0m\u001b[0;34m.\u001b[0m\u001b[0mdataset\u001b[0m\u001b[0;34m[\u001b[0m\u001b[0mi\u001b[0m\u001b[0;34m]\u001b[0m \u001b[0;32mfor\u001b[0m \u001b[0mi\u001b[0m \u001b[0;32min\u001b[0m \u001b[0mindices\u001b[0m\u001b[0;34m]\u001b[0m\u001b[0;34m)\u001b[0m\u001b[0;34m\u001b[0m\u001b[0m\n\u001b[0m\u001b[1;32m    315\u001b[0m             \u001b[0;32mif\u001b[0m \u001b[0mself\u001b[0m\u001b[0;34m.\u001b[0m\u001b[0mpin_memory\u001b[0m\u001b[0;34m:\u001b[0m\u001b[0;34m\u001b[0m\u001b[0m\n\u001b[1;32m    316\u001b[0m                 \u001b[0mbatch\u001b[0m \u001b[0;34m=\u001b[0m \u001b[0mpin_memory_batch\u001b[0m\u001b[0;34m(\u001b[0m\u001b[0mbatch\u001b[0m\u001b[0;34m)\u001b[0m\u001b[0;34m\u001b[0m\u001b[0m\n",
      "\u001b[0;32m~/anaconda3/envs/pytorch/lib/python3.5/site-packages/torch/utils/data/dataloader.py\u001b[0m in \u001b[0;36m<listcomp>\u001b[0;34m(.0)\u001b[0m\n\u001b[1;32m    312\u001b[0m         \u001b[0;32mif\u001b[0m \u001b[0mself\u001b[0m\u001b[0;34m.\u001b[0m\u001b[0mnum_workers\u001b[0m \u001b[0;34m==\u001b[0m \u001b[0;36m0\u001b[0m\u001b[0;34m:\u001b[0m  \u001b[0;31m# same-process loading\u001b[0m\u001b[0;34m\u001b[0m\u001b[0m\n\u001b[1;32m    313\u001b[0m             \u001b[0mindices\u001b[0m \u001b[0;34m=\u001b[0m \u001b[0mnext\u001b[0m\u001b[0;34m(\u001b[0m\u001b[0mself\u001b[0m\u001b[0;34m.\u001b[0m\u001b[0msample_iter\u001b[0m\u001b[0;34m)\u001b[0m  \u001b[0;31m# may raise StopIteration\u001b[0m\u001b[0;34m\u001b[0m\u001b[0m\n\u001b[0;32m--> 314\u001b[0;31m             \u001b[0mbatch\u001b[0m \u001b[0;34m=\u001b[0m \u001b[0mself\u001b[0m\u001b[0;34m.\u001b[0m\u001b[0mcollate_fn\u001b[0m\u001b[0;34m(\u001b[0m\u001b[0;34m[\u001b[0m\u001b[0mself\u001b[0m\u001b[0;34m.\u001b[0m\u001b[0mdataset\u001b[0m\u001b[0;34m[\u001b[0m\u001b[0mi\u001b[0m\u001b[0;34m]\u001b[0m \u001b[0;32mfor\u001b[0m \u001b[0mi\u001b[0m \u001b[0;32min\u001b[0m \u001b[0mindices\u001b[0m\u001b[0;34m]\u001b[0m\u001b[0;34m)\u001b[0m\u001b[0;34m\u001b[0m\u001b[0m\n\u001b[0m\u001b[1;32m    315\u001b[0m             \u001b[0;32mif\u001b[0m \u001b[0mself\u001b[0m\u001b[0;34m.\u001b[0m\u001b[0mpin_memory\u001b[0m\u001b[0;34m:\u001b[0m\u001b[0;34m\u001b[0m\u001b[0m\n\u001b[1;32m    316\u001b[0m                 \u001b[0mbatch\u001b[0m \u001b[0;34m=\u001b[0m \u001b[0mpin_memory_batch\u001b[0m\u001b[0;34m(\u001b[0m\u001b[0mbatch\u001b[0m\u001b[0;34m)\u001b[0m\u001b[0;34m\u001b[0m\u001b[0m\n",
      "\u001b[0;32m~/anaconda3/envs/pytorch/lib/python3.5/site-packages/torchvision/datasets/folder.py\u001b[0m in \u001b[0;36m__getitem__\u001b[0;34m(self, index)\u001b[0m\n\u001b[1;32m    101\u001b[0m         \u001b[0msample\u001b[0m \u001b[0;34m=\u001b[0m \u001b[0mself\u001b[0m\u001b[0;34m.\u001b[0m\u001b[0mloader\u001b[0m\u001b[0;34m(\u001b[0m\u001b[0mpath\u001b[0m\u001b[0;34m)\u001b[0m\u001b[0;34m\u001b[0m\u001b[0m\n\u001b[1;32m    102\u001b[0m         \u001b[0;32mif\u001b[0m \u001b[0mself\u001b[0m\u001b[0;34m.\u001b[0m\u001b[0mtransform\u001b[0m \u001b[0;32mis\u001b[0m \u001b[0;32mnot\u001b[0m \u001b[0;32mNone\u001b[0m\u001b[0;34m:\u001b[0m\u001b[0;34m\u001b[0m\u001b[0m\n\u001b[0;32m--> 103\u001b[0;31m             \u001b[0msample\u001b[0m \u001b[0;34m=\u001b[0m \u001b[0mself\u001b[0m\u001b[0;34m.\u001b[0m\u001b[0mtransform\u001b[0m\u001b[0;34m(\u001b[0m\u001b[0msample\u001b[0m\u001b[0;34m)\u001b[0m\u001b[0;34m\u001b[0m\u001b[0m\n\u001b[0m\u001b[1;32m    104\u001b[0m         \u001b[0;32mif\u001b[0m \u001b[0mself\u001b[0m\u001b[0;34m.\u001b[0m\u001b[0mtarget_transform\u001b[0m \u001b[0;32mis\u001b[0m \u001b[0;32mnot\u001b[0m \u001b[0;32mNone\u001b[0m\u001b[0;34m:\u001b[0m\u001b[0;34m\u001b[0m\u001b[0m\n\u001b[1;32m    105\u001b[0m             \u001b[0mtarget\u001b[0m \u001b[0;34m=\u001b[0m \u001b[0mself\u001b[0m\u001b[0;34m.\u001b[0m\u001b[0mtarget_transform\u001b[0m\u001b[0;34m(\u001b[0m\u001b[0mtarget\u001b[0m\u001b[0;34m)\u001b[0m\u001b[0;34m\u001b[0m\u001b[0m\n",
      "\u001b[0;32m~/anaconda3/envs/pytorch/lib/python3.5/site-packages/torchvision/transforms/transforms.py\u001b[0m in \u001b[0;36m__call__\u001b[0;34m(self, img)\u001b[0m\n\u001b[1;32m     47\u001b[0m     \u001b[0;32mdef\u001b[0m \u001b[0m__call__\u001b[0m\u001b[0;34m(\u001b[0m\u001b[0mself\u001b[0m\u001b[0;34m,\u001b[0m \u001b[0mimg\u001b[0m\u001b[0;34m)\u001b[0m\u001b[0;34m:\u001b[0m\u001b[0;34m\u001b[0m\u001b[0m\n\u001b[1;32m     48\u001b[0m         \u001b[0;32mfor\u001b[0m \u001b[0mt\u001b[0m \u001b[0;32min\u001b[0m \u001b[0mself\u001b[0m\u001b[0;34m.\u001b[0m\u001b[0mtransforms\u001b[0m\u001b[0;34m:\u001b[0m\u001b[0;34m\u001b[0m\u001b[0m\n\u001b[0;32m---> 49\u001b[0;31m             \u001b[0mimg\u001b[0m \u001b[0;34m=\u001b[0m \u001b[0mt\u001b[0m\u001b[0;34m(\u001b[0m\u001b[0mimg\u001b[0m\u001b[0;34m)\u001b[0m\u001b[0;34m\u001b[0m\u001b[0m\n\u001b[0m\u001b[1;32m     50\u001b[0m         \u001b[0;32mreturn\u001b[0m \u001b[0mimg\u001b[0m\u001b[0;34m\u001b[0m\u001b[0m\n\u001b[1;32m     51\u001b[0m \u001b[0;34m\u001b[0m\u001b[0m\n",
      "\u001b[0;32m~/anaconda3/envs/pytorch/lib/python3.5/site-packages/torchvision/transforms/transforms.py\u001b[0m in \u001b[0;36m__call__\u001b[0;34m(self, img)\u001b[0m\n\u001b[1;32m    173\u001b[0m             \u001b[0mPIL\u001b[0m \u001b[0mImage\u001b[0m\u001b[0;34m:\u001b[0m \u001b[0mRescaled\u001b[0m \u001b[0mimage\u001b[0m\u001b[0;34m.\u001b[0m\u001b[0;34m\u001b[0m\u001b[0m\n\u001b[1;32m    174\u001b[0m         \"\"\"\n\u001b[0;32m--> 175\u001b[0;31m         \u001b[0;32mreturn\u001b[0m \u001b[0mF\u001b[0m\u001b[0;34m.\u001b[0m\u001b[0mresize\u001b[0m\u001b[0;34m(\u001b[0m\u001b[0mimg\u001b[0m\u001b[0;34m,\u001b[0m \u001b[0mself\u001b[0m\u001b[0;34m.\u001b[0m\u001b[0msize\u001b[0m\u001b[0;34m,\u001b[0m \u001b[0mself\u001b[0m\u001b[0;34m.\u001b[0m\u001b[0minterpolation\u001b[0m\u001b[0;34m)\u001b[0m\u001b[0;34m\u001b[0m\u001b[0m\n\u001b[0m\u001b[1;32m    176\u001b[0m \u001b[0;34m\u001b[0m\u001b[0m\n\u001b[1;32m    177\u001b[0m     \u001b[0;32mdef\u001b[0m \u001b[0m__repr__\u001b[0m\u001b[0;34m(\u001b[0m\u001b[0mself\u001b[0m\u001b[0;34m)\u001b[0m\u001b[0;34m:\u001b[0m\u001b[0;34m\u001b[0m\u001b[0m\n",
      "\u001b[0;32m~/anaconda3/envs/pytorch/lib/python3.5/site-packages/torchvision/transforms/functional.py\u001b[0m in \u001b[0;36mresize\u001b[0;34m(img, size, interpolation)\u001b[0m\n\u001b[1;32m    204\u001b[0m             \u001b[0;32mreturn\u001b[0m \u001b[0mimg\u001b[0m\u001b[0;34m.\u001b[0m\u001b[0mresize\u001b[0m\u001b[0;34m(\u001b[0m\u001b[0;34m(\u001b[0m\u001b[0mow\u001b[0m\u001b[0;34m,\u001b[0m \u001b[0moh\u001b[0m\u001b[0;34m)\u001b[0m\u001b[0;34m,\u001b[0m \u001b[0minterpolation\u001b[0m\u001b[0;34m)\u001b[0m\u001b[0;34m\u001b[0m\u001b[0m\n\u001b[1;32m    205\u001b[0m     \u001b[0;32melse\u001b[0m\u001b[0;34m:\u001b[0m\u001b[0;34m\u001b[0m\u001b[0m\n\u001b[0;32m--> 206\u001b[0;31m         \u001b[0;32mreturn\u001b[0m \u001b[0mimg\u001b[0m\u001b[0;34m.\u001b[0m\u001b[0mresize\u001b[0m\u001b[0;34m(\u001b[0m\u001b[0msize\u001b[0m\u001b[0;34m[\u001b[0m\u001b[0;34m:\u001b[0m\u001b[0;34m:\u001b[0m\u001b[0;34m-\u001b[0m\u001b[0;36m1\u001b[0m\u001b[0;34m]\u001b[0m\u001b[0;34m,\u001b[0m \u001b[0minterpolation\u001b[0m\u001b[0;34m)\u001b[0m\u001b[0;34m\u001b[0m\u001b[0m\n\u001b[0m\u001b[1;32m    207\u001b[0m \u001b[0;34m\u001b[0m\u001b[0m\n\u001b[1;32m    208\u001b[0m \u001b[0;34m\u001b[0m\u001b[0m\n",
      "\u001b[0;32m~/anaconda3/envs/pytorch/lib/python3.5/site-packages/PIL/Image.py\u001b[0m in \u001b[0;36mresize\u001b[0;34m(self, size, resample, box)\u001b[0m\n\u001b[1;32m   1747\u001b[0m         \u001b[0mself\u001b[0m\u001b[0;34m.\u001b[0m\u001b[0mload\u001b[0m\u001b[0;34m(\u001b[0m\u001b[0;34m)\u001b[0m\u001b[0;34m\u001b[0m\u001b[0m\n\u001b[1;32m   1748\u001b[0m \u001b[0;34m\u001b[0m\u001b[0m\n\u001b[0;32m-> 1749\u001b[0;31m         \u001b[0;32mreturn\u001b[0m \u001b[0mself\u001b[0m\u001b[0;34m.\u001b[0m\u001b[0m_new\u001b[0m\u001b[0;34m(\u001b[0m\u001b[0mself\u001b[0m\u001b[0;34m.\u001b[0m\u001b[0mim\u001b[0m\u001b[0;34m.\u001b[0m\u001b[0mresize\u001b[0m\u001b[0;34m(\u001b[0m\u001b[0msize\u001b[0m\u001b[0;34m,\u001b[0m \u001b[0mresample\u001b[0m\u001b[0;34m,\u001b[0m \u001b[0mbox\u001b[0m\u001b[0;34m)\u001b[0m\u001b[0;34m)\u001b[0m\u001b[0;34m\u001b[0m\u001b[0m\n\u001b[0m\u001b[1;32m   1750\u001b[0m \u001b[0;34m\u001b[0m\u001b[0m\n\u001b[1;32m   1751\u001b[0m     def rotate(self, angle, resample=NEAREST, expand=0, center=None,\n",
      "\u001b[0;31mKeyboardInterrupt\u001b[0m: "
     ]
    }
   ],
   "source": [
    "print('training start!')\n",
    "start_time = time.time()\n",
    "num_pool = 50\n",
    "fake_pool = utils.ImagePool(num_pool)\n",
    "for epoch in range(train_epoch):\n",
    "    epoch_start_time = time.time()\n",
    "#     print(\"==> Epoch {}/{}\".format(starting_epoch+epoch + 1, starting_epoch+train_epoch))\n",
    "#     if (epoch + 1) > decay_epoch:\n",
    "#         D_A_optimizer.param_groups[0]['lr'] -= lrD / 10\n",
    "#         D_B_optimizer.param_groups[0]['lr'] -= lrD / 10\n",
    "#         G_optimizer.param_groups[0]['lr'] -= lrG / 10\n",
    "    \n",
    "    G_rec_losses = []\n",
    "    G_sem_losses = []\n",
    "    G_gan_losses = []\n",
    "    G_dann_losses = []\n",
    "    \n",
    "    D_losses = []\n",
    "    C_losses = []\n",
    "    for (real_S,_),(y,_) in zip(train_loader_S, train_loader_T):\n",
    "        G.train()\n",
    "         \n",
    "        blur_T = y[:, :, :, input_size:]\n",
    "        real_T = y[:, :, :, :input_size]\n",
    "        real_S, real_T, blur_T = real_S.to(device), real_T.to(device), blur_T.to(device)\n",
    "\n",
    "        # Train generator G\n",
    "        # do not record grad for D and C to save time\n",
    "        for model in [D, C]:\n",
    "            for param in model.parameters():\n",
    "                param.requires_grad = False\n",
    "        # S->T\n",
    "        real_S_latent = G.enc_s2t(real_S)     \n",
    "        real_S_recon = G.dec_t2s(real_S_latent)\n",
    "        fake_T = G.dec_s2t(real_S_latent)\n",
    "        fake_T_latent = G.enc_t2s(fake_T)\n",
    "              \n",
    "        #T->S\n",
    "        real_T_latent = G.enc_t2s(real_T)     \n",
    "        real_T_recon = G.dec_s2t(real_T_latent)      \n",
    "        fake_S = G.dec_t2s(real_T_latent)\n",
    "        fake_S_latent = G.enc_s2t(fake_S)\n",
    "        \n",
    "        # identity loss\n",
    "#         G_idt_loss = L1_loss(real_S, fake_T)\n",
    "        \n",
    "        # rec loss\n",
    "        G_S_rec_loss = L1_loss(real_S, real_S_recon)\n",
    "        G_T_rec_loss = L1_loss(real_T, real_T_recon)\n",
    "        \n",
    "        # semantic loss\n",
    "        G_S_sem_loss = MSE_loss(real_S_latent,fake_T_latent)\n",
    "        G_T_sem_loss = MSE_loss(real_T_latent, fake_S_latent)\n",
    "        \n",
    "        # gan loss, only do for S->T to save computing\n",
    "        D_decision = D(fake_T)\n",
    "        G_gan_loss = D_loss_criterion(D_decision,device,zeros=False,trick=False)\n",
    "\n",
    "        # domain adversarial loss\n",
    "        # source should be 0, so we want it to classify as 1, target should be 1, so we want it to classify as 0\n",
    "        C_S_decision = C(real_S_latent)\n",
    "        C_T_decision = C(real_T_latent)\n",
    "        G_dann_loss = Cross_Entropy_loss(C_S_decision, torch.ones(C_S_decision.shape[0], dtype=torch.long, device=device)) + Cross_Entropy_loss(C_T_decision, torch.zeros(C_T_decision.shape[0],dtype=torch.long,device=device))     \n",
    "        \n",
    "        # Back propagation\n",
    "        G_rec_loss = 0.5*(G_S_rec_loss + G_T_rec_loss)\n",
    "        G_sem_loss = 0.5*(G_S_sem_loss + G_T_sem_loss)\n",
    "#         G_loss = G_gan_loss + rec_lambda*G_rec_loss + sem_lambda*G_sem_loss + dann_lambda*G_dann_loss + idt_lambda*G_idt_loss\n",
    "        G_loss = G_gan_loss + rec_lambda*G_rec_loss + sem_lambda*G_sem_loss + dann_lambda*G_dann_loss\n",
    "\n",
    "        G_rec_losses.append(G_rec_loss)\n",
    "        G_sem_losses.append(G_sem_loss)\n",
    "        G_gan_losses.append(G_gan_loss)\n",
    "        G_dann_losses.append(G_dann_loss)\n",
    "        \n",
    "        G_optimizer.zero_grad()\n",
    "        G_loss.backward()\n",
    "        G_optimizer.step()\n",
    "\n",
    "        #train D and C parameters\n",
    "        for model in [D, C]:\n",
    "            for param in model.parameters():\n",
    "                param.requires_grad = True\n",
    "                \n",
    "        # Train discriminator D\n",
    "        D_real_decision = D(real_S)\n",
    "        D_real_loss = D_loss_criterion(D_real_decision,device,zeros=False,trick=True)\n",
    "        fake_T = fake_pool.query(fake_T.detach())\n",
    "        D_fake_decision = D(fake_T)\n",
    "        D_fake_loss = D_loss_criterion(D_fake_decision,device,zeros=True,trick=True)\n",
    "        D_blur_decision = D(blur_T)\n",
    "        D_blur_loss = D_loss_criterion(D_blur_decision,device,zeros=True,trick=True)\n",
    "        D_loss = D_real_loss + D_fake_loss + D_blur_loss\n",
    "        D_losses.append(D_loss)\n",
    "        D_optimizer.zero_grad()\n",
    "        D_loss.backward()\n",
    "        D_optimizer.step()\n",
    "\n",
    "        #Train classifier C\n",
    "        real_S_latent = G.enc_s2t(real_S)\n",
    "        real_T_latent = G.enc_t2s(real_T)\n",
    "        C_S_decision = C(real_S_latent.detach())\n",
    "        C_T_decision = C(real_T_latent.detach())\n",
    "        C_loss = 0.5*(Cross_Entropy_loss(C_S_decision, torch.zeros(C_S_decision.shape[0],dtype=torch.long,device=device)) + Cross_Entropy_loss(C_T_decision, torch.ones(C_T_decision.shape[0],dtype=torch.long,device=device)))\n",
    "        C_losses.append(C_loss)\n",
    "        C_optimizer.zero_grad()\n",
    "        C_loss.backward()\n",
    "        C_optimizer.step()\n",
    "        \n",
    "    #record train history\n",
    "    train_params = []\n",
    "    per_epoch_time = time.time() - epoch_start_time\n",
    "    train_params.append(per_epoch_time)\n",
    "    for loss in [G_rec_losses,G_sem_losses,G_gan_losses,G_dann_losses,D_losses,C_losses]:\n",
    "        train_params.append(torch.mean(torch.FloatTensor(loss)))  \n",
    "    train_hist.add_params(train_params)\n",
    "    print(str.format('{}/{}',starting_epoch+epoch+1,starting_epoch+train_epoch) + train_hist.get_last_param_str())\n",
    "    \n",
    "    #Save image result\n",
    "    with torch.no_grad():\n",
    "        G.eval()\n",
    "        for n, (x, _) in enumerate(train_loader_S):\n",
    "            x = x.to(device)\n",
    "            G_latent = G.enc_s2t(x)\n",
    "            G_result = G.dec_s2t(G_latent)\n",
    "            G_recon = G.dec_t2s(G_latent)\n",
    "            result = torch.cat((x[0], G_result[0], G_recon[0]), 2)\n",
    "            path = os.path.join(result_path, 'G_S', str(epoch+starting_epoch) + '_epoch_'  + '_train_' + str(n + 1) + '.png')\n",
    "            plt.imsave(path, (result.cpu().numpy().transpose(1, 2, 0) + 1) / 2)\n",
    "            if n == 2:\n",
    "                break\n",
    "\n",
    "#         for n, (x,_) in enumerate(train_loader_T):\n",
    "#             x = x.to(device)\n",
    "#             G_latent = G.enc_t2s(x)\n",
    "#             G_result = G.dec_t2s(G_latent)\n",
    "#             G_recon = G.dec_s2t(G_latent)\n",
    "#             result = torch.cat((x[0],G_result[0],G_recon[0]),2)\n",
    "#             path = os.path.join(result_path,'G_T',str(epoch+starting_epoch) + '_epoch_' +'_train_'+str(n+1)+'.png')\n",
    "#             plt.imsave(path, (result.cpu().numpy().transpose(1, 2, 0) + 1) / 2)\n",
    "#             if n == 2:\n",
    "#                 break\n",
    "                \n",
    "        torch.save(G.state_dict(), os.path.join(result_path, 'G.pkl'))\n",
    "        torch.save(D.state_dict(), os.path.join(result_path, 'D.pkl'))\n",
    "        torch.save(C.state_dict(), os.path.join(result_path, 'C.pkl'))\n",
    "        train_hist.save_train(os.path.join(result_path,  'train_hist.pkl'))\n"
   ]
  },
  {
   "cell_type": "code",
   "execution_count": 20,
   "metadata": {},
   "outputs": [],
   "source": [
    "with open(os.path.join(result_path,  'train_hist.pkl'), 'wb') as f:\n",
    "    pickle.dump(train_hist, f)"
   ]
  }
 ],
 "metadata": {
  "kernelspec": {
   "display_name": "Python 3",
   "language": "python",
   "name": "python3"
  },
  "language_info": {
   "codemirror_mode": {
    "name": "ipython",
    "version": 3
   },
   "file_extension": ".py",
   "mimetype": "text/x-python",
   "name": "python",
   "nbconvert_exporter": "python",
   "pygments_lexer": "ipython3",
   "version": "3.5.5"
  }
 },
 "nbformat": 4,
 "nbformat_minor": 2
}
