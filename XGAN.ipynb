{
 "cells": [
  {
   "cell_type": "code",
   "execution_count": 1,
   "metadata": {},
   "outputs": [],
   "source": [
    "import os, time, pickle\n",
    "from lib import networks, utils\n",
    "import torch\n",
    "import torch.nn as nn\n",
    "import torch.optim as optim\n",
    "import matplotlib.pyplot as plt\n",
    "from torchvision import transforms\n",
    "from torchvision import datasets"
   ]
  },
  {
   "cell_type": "code",
   "execution_count": 2,
   "metadata": {},
   "outputs": [
    {
     "data": {
      "text/plain": [
       "device(type='cuda')"
      ]
     },
     "execution_count": 2,
     "metadata": {},
     "output_type": "execute_result"
    }
   ],
   "source": [
    "device = torch.device('cuda' if torch.cuda.is_available() else 'cpu')\n",
    "if torch.backends.cudnn.enabled:\n",
    "    torch.backends.cudnn.benchmark = True\n",
    "device"
   ]
  },
  {
   "cell_type": "markdown",
   "metadata": {},
   "source": [
    "### Hyper-parameters"
   ]
  },
  {
   "cell_type": "code",
   "execution_count": 3,
   "metadata": {},
   "outputs": [],
   "source": [
    "batch_size=10\n",
    "input_size=128\n",
    "train_epoch=20\n",
    "\n",
    "#input channel for discriminator\n",
    "in_ngc=3\n",
    "#output channel for discriminator\n",
    "out_ngc=3\n",
    "#generator first layer number of filters\n",
    "ngf=8\n",
    "#input channel for discriminator\n",
    "in_ndc=3\n",
    "#output channel for discriminator\n",
    "out_ndc=1\n",
    "#discriminator first layer number of filters\n",
    "ndf=32\n",
    "#latent vector length\n",
    "latent_len = 1024\n",
    "# latent_len = 16384\n",
    "\n",
    "\n",
    "\n",
    "#learning rate, default=0.0002\n",
    "lrD=0.0001\n",
    "lrG=0.0002\n",
    "lrC = 0.0001\n",
    "\n",
    "#generator lambda\n",
    "rec_lambda=100\n",
    "sem_lambda=10\n",
    "idt_lambda=0.1\n",
    "dann_lambda=1\n",
    "\n",
    "#beta for Adam optimizer\n",
    "beta1=0.5\n",
    "beta2=0.999"
   ]
  },
  {
   "cell_type": "markdown",
   "metadata": {},
   "source": [
    "### Folder structure"
   ]
  },
  {
   "cell_type": "code",
   "execution_count": 4,
   "metadata": {},
   "outputs": [],
   "source": [
    "# results save path\n",
    "project_name = 'XGAN_4'\n",
    "result_path = project_name+'_results'\n",
    "src_result_name = 'G_S'\n",
    "tgt_result_name = 'G_T'\n",
    "\n",
    "data_path = 'data'\n",
    "src_data_path = os.path.join(data_path,'src_data_path_new')\n",
    "tgt_data_path = os.path.join(data_path,'tgt_data_path')\n",
    "\n",
    "#ensure data folder exists\n",
    "if not os.path.isdir(os.path.join(result_path, src_result_name)):\n",
    "    os.makedirs(os.path.join(result_path, src_result_name))\n",
    "if not os.path.isdir(os.path.join(result_path, tgt_result_name)):\n",
    "    os.makedirs(os.path.join(result_path, tgt_result_name))\n",
    "if not os.path.isdir(os.path.join(src_data_path,'train')):\n",
    "    os.makedirs(os.path.join(src_data_path,'train'))\n",
    "if not os.path.isdir(os.path.join(tgt_data_path,'train')):\n",
    "    os.makedirs(os.path.join(tgt_data_path,'train'))"
   ]
  },
  {
   "cell_type": "markdown",
   "metadata": {},
   "source": [
    "### Load Data"
   ]
  },
  {
   "cell_type": "code",
   "execution_count": 5,
   "metadata": {},
   "outputs": [],
   "source": [
    "# data_loader\n",
    "transform = transforms.Compose([\n",
    "        transforms.Resize((input_size, input_size)),\n",
    "        transforms.ToTensor(),\n",
    "        transforms.Normalize(mean=(0.5, 0.5, 0.5), std=(0.5, 0.5, 0.5))\n",
    "])\n",
    "# train_loader_S = utils.data_load(os.path.join('data', src_data), 'train', transform, batch_size, shuffle=True, drop_last=True)\n",
    "# train_loader_T = utils.data_load(os.path.join('data', tgt_data), 'train', transform, batch_size, shuffle=True, drop_last=True)\n",
    "train_loader_S = torch.utils.data.DataLoader(datasets.ImageFolder(src_data_path, transform), batch_size=batch_size, shuffle=True, drop_last=True)\n",
    "train_loader_T = torch.utils.data.DataLoader(datasets.ImageFolder(tgt_data_path, transform), batch_size=batch_size, shuffle=True, drop_last=True)\n"
   ]
  },
  {
   "cell_type": "markdown",
   "metadata": {},
   "source": [
    "### Model define"
   ]
  },
  {
   "cell_type": "code",
   "execution_count": 6,
   "metadata": {
    "scrolled": false
   },
   "outputs": [
    {
     "data": {
      "text/plain": [
       "xgan_classifier2(\n",
       "  (classifier): Linear(in_features=1024, out_features=2, bias=True)\n",
       ")"
      ]
     },
     "execution_count": 6,
     "metadata": {},
     "output_type": "execute_result"
    }
   ],
   "source": [
    "# network\n",
    "# G = networks.xgan_generator(in_ngc,out_ngc,ngf)\n",
    "G = networks.xgan_generator3(in_ngc,out_ngc,ngf)\n",
    "# G = networks.xgan_generator3(in_ngc,out_ngc,ngf)\n",
    "D = networks.discriminator(in_ndc, out_ndc, ndf)\n",
    "# C = networks.xgan_classifier(latent_len)\n",
    "C = networks.xgan_classifier2(latent_len)\n",
    "\n",
    "G.to(device)\n",
    "D.to(device)\n",
    "C.to(device)"
   ]
  },
  {
   "cell_type": "code",
   "execution_count": 7,
   "metadata": {},
   "outputs": [],
   "source": [
    "# loss\n",
    "MSE_loss = nn.MSELoss().to(device)\n",
    "L1_loss = nn.L1Loss().to(device)\n",
    "Cross_Entropy_loss = nn.CrossEntropyLoss().to(device)"
   ]
  },
  {
   "cell_type": "code",
   "execution_count": 8,
   "metadata": {},
   "outputs": [],
   "source": [
    "# optimizer\n",
    "G_optimizer = optim.Adam(G.parameters(), lr=lrG, betas=(beta1, beta2))\n",
    "D_optimizer = optim.Adam(D.parameters(), lr=lrD, betas=(beta1, beta2))\n",
    "C_optimizer = optim.Adam(C.parameters(), lr=lrC, betas=(beta1,beta2))"
   ]
  },
  {
   "cell_type": "code",
   "execution_count": 9,
   "metadata": {},
   "outputs": [],
   "source": [
    "# train history\n",
    "train_hist = {}\n",
    "train_hist['per_epoch_time'] = []\n",
    "train_hist['total_time'] = []\n",
    "train_hist['G_rec_loss']=[]\n",
    "train_hist['G_sem_loss']=[]\n",
    "train_hist['G_gan_loss']=[]\n",
    "train_hist['G_dann_loss']=[]\n",
    "train_hist['D_loss']=[]\n",
    "train_hist['C_loss']=[]"
   ]
  },
  {
   "cell_type": "markdown",
   "metadata": {},
   "source": [
    "### Load existing model parameters"
   ]
  },
  {
   "cell_type": "code",
   "execution_count": 40,
   "metadata": {},
   "outputs": [],
   "source": [
    "G.load_state_dict(torch.load(os.path.join(result_path, 'G.pkl')))\n",
    "C.load_state_dict(torch.load(os.path.join(result_path, 'C.pkl')))\n",
    "D.load_state_dict(torch.load(os.path.join(result_path, 'D.pkl')))"
   ]
  },
  {
   "cell_type": "markdown",
   "metadata": {},
   "source": [
    "### Load train hist"
   ]
  },
  {
   "cell_type": "code",
   "execution_count": 11,
   "metadata": {},
   "outputs": [],
   "source": [
    "with open(os.path.join(result_path, 'train_hist.pkl'), 'rb') as pickle_file:\n",
    "    train_hist = pickle.load(pickle_file)"
   ]
  },
  {
   "cell_type": "markdown",
   "metadata": {},
   "source": [
    "### Starting epoch"
   ]
  },
  {
   "cell_type": "code",
   "execution_count": 10,
   "metadata": {},
   "outputs": [],
   "source": [
    "#starting_epoch is used to avoid overriding of the previously generated results\n",
    "starting_epoch = 0"
   ]
  },
  {
   "cell_type": "markdown",
   "metadata": {},
   "source": [
    "### Train"
   ]
  },
  {
   "cell_type": "code",
   "execution_count": null,
   "metadata": {},
   "outputs": [
    {
     "name": "stdout",
     "output_type": "stream",
     "text": [
      "training start!\n",
      "[1/20] - time: 168.61, G_rec loss: 138647.203, G_sem loss: 2880.891, G_gan loss: 0.868, G_dann loss: 4.145, D loss: 0.006, C loss: 0.273\n",
      "[2/20] - time: 168.10, G_rec loss: 112961.719, G_sem loss: 2389.870, G_gan loss: 0.890, G_dann loss: 5.934, D loss: 0.003, C loss: 0.199\n",
      "[3/20] - time: 167.67, G_rec loss: 105834.578, G_sem loss: 2268.426, G_gan loss: 0.899, G_dann loss: 5.638, D loss: 0.002, C loss: 0.224\n",
      "[4/20] - time: 168.43, G_rec loss: 101352.281, G_sem loss: 2258.639, G_gan loss: 0.899, G_dann loss: 5.699, D loss: 0.002, C loss: 0.217\n",
      "[5/20] - time: 167.72, G_rec loss: 97718.211, G_sem loss: 2267.601, G_gan loss: 0.901, G_dann loss: 5.759, D loss: 0.002, C loss: 0.227\n"
     ]
    }
   ],
   "source": [
    "print('training start!')\n",
    "start_time = time.time()\n",
    "num_pool = 50\n",
    "fake_pool = utils.ImagePool(num_pool)\n",
    "for epoch in range(train_epoch):\n",
    "    epoch_start_time = time.time()\n",
    "#     print(\"==> Epoch {}/{}\".format(starting_epoch+epoch + 1, starting_epoch+train_epoch))\n",
    "#     if (epoch + 1) > decay_epoch:\n",
    "#         D_A_optimizer.param_groups[0]['lr'] -= lrD / 10\n",
    "#         D_B_optimizer.param_groups[0]['lr'] -= lrD / 10\n",
    "#         G_optimizer.param_groups[0]['lr'] -= lrG / 10\n",
    "    \n",
    "    G_rec_losses = []\n",
    "    G_sem_losses = []\n",
    "    G_gan_losses = []\n",
    "    G_dann_losses = []\n",
    "    \n",
    "    D_losses = []\n",
    "    C_losses = []\n",
    "    for (real_S,_),(real_T,_) in zip(train_loader_S, train_loader_T):\n",
    "        G.train()\n",
    "\n",
    "        # input image data\n",
    "        real_S = real_S.to(device)\n",
    "        real_T = real_T.to(device)\n",
    "\n",
    "        # Train generator G\n",
    "        # do not record grad for D and C to save time\n",
    "        for model in [D, C]:\n",
    "            for param in model.parameters():\n",
    "                param.requires_grad = False\n",
    "        # S->T\n",
    "        real_S_latent = G.enc_s2t(real_S)     \n",
    "        real_S_recon = G.dec_t2s(real_S_latent)\n",
    "        fake_T = G.dec_s2t(real_S_latent)\n",
    "        fake_T_latent = G.enc_t2s(fake_T)\n",
    "              \n",
    "        #T->S\n",
    "        real_T_latent = G.enc_t2s(real_T)     \n",
    "        real_T_recon = G.dec_s2t(real_T_latent)      \n",
    "        fake_S = G.dec_t2s(real_T_latent)\n",
    "        fake_S_latent = G.enc_s2t(fake_S)\n",
    "        \n",
    "        # identity loss\n",
    "        G_idt_loss = L1_loss(real_S, fake_T)\n",
    "        \n",
    "        # rec loss\n",
    "        G_S_rec_loss = L1_loss(real_S, real_S_recon)\n",
    "        G_T_rec_loss = L1_loss(real_T, real_T_recon)\n",
    "        \n",
    "        # semantic loss\n",
    "        G_S_sem_loss = MSE_loss(real_S_latent,fake_T_latent)\n",
    "        G_T_sem_loss = MSE_loss(real_T_latent, fake_S_latent)\n",
    "        \n",
    "        # gan loss, only do for S->T to save computing\n",
    "        D_decision = D(fake_T)\n",
    "        G_gan_loss = MSE_loss(D_decision, torch.ones(D_decision.size(), device=device))\n",
    "\n",
    "        # domain adversarial loss\n",
    "        # source should be 0, so we want it to classify as 1, target should be 1, so we want it to classify as 0\n",
    "        C_S_decision = C(real_S_latent)\n",
    "        C_T_decision = C(real_T_latent)\n",
    "        G_dann_loss = Cross_Entropy_loss(C_S_decision, torch.ones(C_S_decision.shape[0], dtype=torch.long, device=device)) + Cross_Entropy_loss(C_T_decision, torch.zeros(C_T_decision.shape[0],dtype=torch.long,device=device))     \n",
    "        \n",
    "        # Back propagation\n",
    "        G_rec_loss = 0.5*(G_S_rec_loss + G_T_rec_loss)\n",
    "        G_sem_loss = 0.5*(G_S_sem_loss + G_T_sem_loss)\n",
    "#         G_loss = G_gan_loss + rec_lambda*G_rec_loss + sem_lambda*G_sem_loss + dann_lambda*G_dann_loss + idt_lambda*G_idt_loss\n",
    "        G_loss = G_gan_loss + rec_lambda*G_rec_loss + sem_lambda*G_sem_loss + dann_lambda*G_dann_loss\n",
    "\n",
    "        G_rec_losses.append(G_rec_loss)\n",
    "        G_sem_losses.append(G_sem_loss)\n",
    "        G_gan_losses.append(G_gan_loss)\n",
    "        G_dann_losses.append(G_dann_loss)\n",
    "        \n",
    "        G_optimizer.zero_grad()\n",
    "        G_loss.backward()\n",
    "        G_optimizer.step()\n",
    "\n",
    "        #train D and C parameters\n",
    "        for model in [D, C]:\n",
    "            for param in model.parameters():\n",
    "                param.requires_grad = True\n",
    "                \n",
    "        # Train discriminator D\n",
    "        D_real_decision = D(real_S)\n",
    "        D_real_loss = MSE_loss(D_real_decision, 1-torch.rand(D_real_decision.size(), device=device)/10.0)\n",
    "        fake_T = fake_pool.query(fake_T.detach())\n",
    "        D_fake_decision = D(fake_T)\n",
    "        D_fake_loss = MSE_loss(D_fake_decision, torch.rand(D_fake_decision.size(), device=device)/10.0)\n",
    "        D_loss = (D_real_loss + D_fake_loss) * 0.5\n",
    "        D_losses.append(D_loss)\n",
    "        D_optimizer.zero_grad()\n",
    "        D_loss.backward()\n",
    "        D_optimizer.step()\n",
    "\n",
    "        #Train classifier C\n",
    "        real_S_latent = G.enc_s2t(real_S)\n",
    "        real_T_latent = G.enc_t2s(real_T)\n",
    "        C_S_decision = C(real_S_latent.detach())\n",
    "        C_T_decision = C(real_T_latent.detach())\n",
    "        C_loss = 0.5*(Cross_Entropy_loss(C_S_decision, torch.zeros(C_S_decision.shape[0],dtype=torch.long,device=device)) + Cross_Entropy_loss(C_T_decision, torch.ones(C_T_decision.shape[0],dtype=torch.long,device=device)))\n",
    "        C_losses.append(C_loss)\n",
    "        C_optimizer.zero_grad()\n",
    "        C_loss.backward()\n",
    "        C_optimizer.step()\n",
    "        \n",
    "    per_epoch_time = time.time() - epoch_start_time\n",
    "    train_hist['per_epoch_time'].append(per_epoch_time)\n",
    "    \n",
    "    G_rec_loss_avg = torch.mean(torch.FloatTensor(G_rec_losses))\n",
    "    G_sem_loss_avg = torch.mean(torch.FloatTensor(G_sem_losses))\n",
    "    G_gan_loss_avg = torch.mean(torch.FloatTensor(G_gan_losses))\n",
    "    G_dann_loss_avg = torch.mean(torch.FloatTensor(G_dann_losses))\n",
    "    D_loss_avg = torch.mean(torch.FloatTensor(D_losses))\n",
    "    C_loss_avg = torch.mean(torch.FloatTensor(C_losses))\n",
    "\n",
    "    train_hist['G_rec_loss'].append(G_rec_loss_avg)\n",
    "    train_hist['G_sem_loss'].append(G_sem_loss_avg)\n",
    "    train_hist['G_gan_loss'].append(G_gan_loss_avg)\n",
    "    train_hist['G_dann_loss'].append(G_dann_loss_avg)\n",
    "\n",
    "    train_hist['D_loss'].append(torch.mean(torch.FloatTensor(D_losses)))\n",
    "    train_hist['C_loss'].append(torch.mean(torch.FloatTensor(C_losses)))\n",
    "\n",
    "    \n",
    "    print(\n",
    "    '[%d/%d] - time: %.2f, G_rec loss: %.3f, G_sem loss: %.3f, G_gan loss: %.3f, G_dann loss: %.3f, D loss: %.3f, C loss: %.3f' \n",
    "        % ((starting_epoch+epoch + 1), starting_epoch+train_epoch, per_epoch_time, G_rec_loss_avg, G_sem_loss_avg,G_gan_loss_avg,G_dann_loss_avg, D_loss_avg, C_loss_avg))\n",
    "    \n",
    "    #Save image result\n",
    "    with torch.no_grad():\n",
    "        G.eval()\n",
    "        for n, (x, _) in enumerate(train_loader_S):\n",
    "            x = x.to(device)\n",
    "            G_latent = G.enc_s2t(x)\n",
    "            G_result = G.dec_s2t(G_latent)\n",
    "            G_recon = G.dec_t2s(G_latent)\n",
    "            result = torch.cat((x[0], G_result[0], G_recon[0]), 2)\n",
    "            path = os.path.join(result_path, 'G_S', str(epoch+starting_epoch) + '_epoch_'  + '_train_' + str(n + 1) + '.png')\n",
    "            plt.imsave(path, (result.cpu().numpy().transpose(1, 2, 0) + 1) / 2)\n",
    "            if n == 2:\n",
    "                break\n",
    "\n",
    "        for n, (x,_) in enumerate(train_loader_T):\n",
    "            x = x.to(device)\n",
    "            G_latent = G.enc_t2s(x)\n",
    "            G_result = G.dec_t2s(G_latent)\n",
    "            G_recon = G.dec_s2t(G_latent)\n",
    "            result = torch.cat((x[0],G_result[0],G_recon[0]),2)\n",
    "            path = os.path.join(result_path,'G_T',str(epoch+starting_epoch) + '_epoch_' +'_train_'+str(n+1)+'.png')\n",
    "            plt.imsave(path, (result.cpu().numpy().transpose(1, 2, 0) + 1) / 2)\n",
    "            if n == 2:\n",
    "                break\n",
    "                \n",
    "        torch.save(G.state_dict(), os.path.join(result_path, 'G.pkl'))\n",
    "        torch.save(D.state_dict(), os.path.join(result_path, 'D.pkl'))\n",
    "        torch.save(C.state_dict(), os.path.join(result_path, 'C.pkl'))\n",
    "        with open(os.path.join(result_path,  'train_hist.pkl'), 'wb') as f:\n",
    "            pickle.dump(train_hist, f)\n",
    "\n",
    "total_time = time.time() - start_time\n",
    "train_hist['total_time'].append(total_time)\n"
   ]
  },
  {
   "cell_type": "code",
   "execution_count": 20,
   "metadata": {},
   "outputs": [],
   "source": [
    "with open(os.path.join(result_path,  'train_hist.pkl'), 'wb') as f:\n",
    "    pickle.dump(train_hist, f)"
   ]
  }
 ],
 "metadata": {
  "kernelspec": {
   "display_name": "Python 3",
   "language": "python",
   "name": "python3"
  },
  "language_info": {
   "codemirror_mode": {
    "name": "ipython",
    "version": 3
   },
   "file_extension": ".py",
   "mimetype": "text/x-python",
   "name": "python",
   "nbconvert_exporter": "python",
   "pygments_lexer": "ipython3",
   "version": "3.5.5"
  }
 },
 "nbformat": 4,
 "nbformat_minor": 2
}
