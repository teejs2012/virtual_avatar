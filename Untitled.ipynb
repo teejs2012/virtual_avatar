{
 "cells": [
  {
   "cell_type": "code",
   "execution_count": 4,
   "metadata": {},
   "outputs": [],
   "source": [
    "from torchvision import datasets\n",
    "from torchvision import transforms\n",
    "import os\n",
    "import torch\n",
    "import torch.nn as nn\n",
    "import torch.nn.functional as F"
   ]
  },
  {
   "cell_type": "code",
   "execution_count": 5,
   "metadata": {},
   "outputs": [],
   "source": [
    "nn.Conv2d?\n",
    "class Net(nn.Module):\n",
    "    def __init__(self):\n",
    "        super(Net, self).__init__()\n",
    "        self.conv1 = nn.Conv2d(3,6,5)\n",
    "        self.pool = nn.MaxPool2d(2,2)\n",
    "        self.conv2 = nn.Conv2d(6,16,5)\n",
    "        self.fc1 = nn.Linear(16*5*5, 120)\n",
    "        self.fc2 = nn.Linear(120,10)\n",
    "    def forward(self, x):\n",
    "        x = self.pool(F.relu(self.conv1(x)))\n",
    "        x = self.pool(F.relu(self.conv2(x)))\n",
    "        x = x.view(-1, 16*5*5)\n",
    "        x = F.relu(self.fc1(x))\n",
    "        x = F.relu(self.fc2(x))\n",
    "        return x\n",
    "net = Net()"
   ]
  },
  {
   "cell_type": "code",
   "execution_count": 7,
   "metadata": {},
   "outputs": [],
   "source": [
    "net.train?"
   ]
  },
  {
   "cell_type": "code",
   "execution_count": 26,
   "metadata": {},
   "outputs": [],
   "source": [
    "src_transform = transforms.Compose([\n",
    "        transforms.Resize((input_size, input_size)),\n",
    "        transforms.ToTensor(),\n",
    "        transforms.Normalize(mean=(0.5, 0.5, 0.5), std=(0.5, 0.5, 0.5))\n",
    "])\n",
    "\n",
    "dset = datasets.ImageFolder(os.path.join('data', src_data), src_transform)\n",
    "ind = dset.class_to_idx[\"train\"]\n",
    "n = 0\n",
    "for i in range(dset.__len__()):\n",
    "    if ind != dset.imgs[n][1]:\n",
    "        del dset.imgs[n]\n",
    "        n -= 1\n",
    "\n",
    "    n += 1"
   ]
  },
  {
   "cell_type": "code",
   "execution_count": 27,
   "metadata": {},
   "outputs": [],
   "source": [
    "train_loader_src = torch.utils.data.DataLoader(dset, 8, shuffle=True, drop_last=True)"
   ]
  },
  {
   "cell_type": "code",
   "execution_count": 29,
   "metadata": {},
   "outputs": [
    {
     "data": {
      "text/plain": [
       "11284"
      ]
     },
     "execution_count": 29,
     "metadata": {},
     "output_type": "execute_result"
    }
   ],
   "source": [
    "dset.__len__()"
   ]
  },
  {
   "cell_type": "code",
   "execution_count": 31,
   "metadata": {},
   "outputs": [
    {
     "data": {
      "text/plain": [
       "torch.Size([8, 1, 64, 64])"
      ]
     },
     "execution_count": 31,
     "metadata": {},
     "output_type": "execute_result"
    }
   ],
   "source": [
    "torch.ones(8, 1, 256 // 4, 256 // 4).size()"
   ]
  },
  {
   "cell_type": "code",
   "execution_count": 32,
   "metadata": {},
   "outputs": [
    {
     "ename": "SyntaxError",
     "evalue": "invalid syntax (<ipython-input-32-0a97f642cfb2>, line 1)",
     "output_type": "error",
     "traceback": [
      "\u001b[0;36m  File \u001b[0;32m\"<ipython-input-32-0a97f642cfb2>\"\u001b[0;36m, line \u001b[0;32m1\u001b[0m\n\u001b[0;31m    1+\u001b[0m\n\u001b[0m      ^\u001b[0m\n\u001b[0;31mSyntaxError\u001b[0m\u001b[0;31m:\u001b[0m invalid syntax\n"
     ]
    }
   ],
   "source": [
    "1+1"
   ]
  },
  {
   "cell_type": "code",
   "execution_count": 28,
   "metadata": {},
   "outputs": [
    {
     "data": {
      "text/plain": [
       "1410"
      ]
     },
     "execution_count": 28,
     "metadata": {},
     "output_type": "execute_result"
    }
   ],
   "source": [
    "c = 0\n",
    "for x, _ in train_loader_src:\n",
    "    c+=1\n",
    "c"
   ]
  },
  {
   "cell_type": "code",
   "execution_count": 12,
   "metadata": {},
   "outputs": [
    {
     "name": "stdout",
     "output_type": "stream",
     "text": [
      "change i\n"
     ]
    },
    {
     "data": {
      "text/plain": [
       "[1, 1, 3, 4, 5]"
      ]
     },
     "execution_count": 12,
     "metadata": {},
     "output_type": "execute_result"
    }
   ],
   "source": [
    "alist = [1,2,3,4,5]\n",
    "alist_copy = alist\n",
    "# alist_copy[1] = 1\n",
    "for i,a in enumerate(alist):\n",
    "#     print(str(i) + ' and ' + str(a))\n",
    "    if a==2:\n",
    "        alist[i]=1\n",
    "        print('change i')\n",
    "alist_copy"
   ]
  },
  {
   "cell_type": "code",
   "execution_count": 22,
   "metadata": {},
   "outputs": [],
   "source": [
    "import urllib.request\n",
    "import json"
   ]
  },
  {
   "cell_type": "code",
   "execution_count": 32,
   "metadata": {},
   "outputs": [
    {
     "name": "stdout",
     "output_type": "stream",
     "text": [
      "[{'tags': ['syn', 'adj'], 'word': 'glad', 'score': 49146}, {'tags': ['syn', 'adj'], 'word': 'pleased', 'score': 46512}, {'tags': ['syn', 'adj'], 'word': 'fortunate', 'score': 42133}, {'tags': ['syn', 'adj'], 'word': 'contented', 'score': 40556}, {'tags': ['syn', 'adj', 'prop'], 'word': 'blessed', 'score': 39809}, {'tags': ['syn', 'adj'], 'word': 'joyful', 'score': 38744}, {'tags': ['syn', 'adj'], 'word': 'joyous', 'score': 37443}, {'tags': ['syn', 'v'], 'word': 'laughing', 'score': 36125}, {'tags': ['syn', 'adj'], 'word': 'euphoric', 'score': 35213}, {'tags': ['syn', 'adj'], 'word': 'blissful', 'score': 34626}, {'tags': ['syn', 'adj'], 'word': 'prosperous', 'score': 33908}, {'tags': ['syn', 'adj'], 'word': 'bright', 'score': 33116}, {'tags': ['syn', 'adj', 'prop'], 'word': 'golden', 'score': 30962}, {'tags': ['syn', 'adj'], 'word': 'felicitous', 'score': 29675}, {'tags': ['syn', 'adj'], 'word': 'content', 'score': 29163}, {'tags': ['syn', 'adj'], 'word': 'halcyon', 'score': 29098}, {'tags': ['syn', 'adj'], 'word': 'paradisiacal', 'score': 28892}, {'tags': ['syn', 'adj'], 'word': 'riant', 'score': 28060}, {'tags': ['syn', 'adj', 'prop'], 'word': 'elysian', 'score': 28007}, {'tags': ['syn', 'adj'], 'word': 'expansive', 'score': 27302}, {'tags': ['syn', 'adj'], 'word': 'euphoriant', 'score': 24574}, {'tags': ['syn', 'adj'], 'word': 'paradisaic', 'score': 24574}, {'tags': ['syn', 'adj'], 'word': 'paradisaical', 'score': 24574}, {'tags': ['syn', 'adj'], 'word': 'paradisal', 'score': 24574}, {'tags': ['syn', 'adj'], 'word': 'paradisiac', 'score': 24574}, {'tags': ['syn', 'adj'], 'word': 'paradisial', 'score': 24574}, {'tags': ['syn', 'adj'], 'word': 'well-chosen', 'score': 24574}, {'tags': ['adj'], 'word': 'ecstatic', 'score': 21816}, {'tags': ['adj'], 'word': 'proud', 'score': 21177}, {'tags': ['adj'], 'word': 'satisfied', 'score': 21012}, {'tags': ['adj'], 'word': 'delighted', 'score': 20845}, {'tags': ['adj'], 'word': 'excited', 'score': 20734}, {'tags': ['adj'], 'word': 'thankful', 'score': 20389}, {'tags': ['adj'], 'word': 'unhappy', 'score': 20015}, {'tags': ['adj'], 'word': 'grateful', 'score': 19586}, {'tags': ['adj'], 'word': 'nice', 'score': 18626}, {'tags': ['adj'], 'word': 'appreciative', 'score': 17992}, {'tags': ['adj'], 'word': 'sad', 'score': 17908}, {'tags': ['adj'], 'word': 'good', 'score': 17478}, {'tags': ['adj'], 'word': 'lucky', 'score': 17397}, {'tags': ['adj'], 'word': 'okay', 'score': 16902}, {'tags': ['v'], 'word': 'psyched', 'score': 16523}, {'tags': ['adj'], 'word': 'wonderful', 'score': 16367}, {'tags': ['adj'], 'word': 'comfortable', 'score': 16353}, {'tags': ['adj'], 'word': 'gratified', 'score': 16060}, {'tags': ['adj'], 'word': 'displeased', 'score': 15894}, {'tags': ['adj'], 'word': 'keen', 'score': 15649}, {'tags': ['adj'], 'word': 'welcome', 'score': 15421}, {'tags': ['adj'], 'word': 'pleasing', 'score': 15100}, {'tags': ['adj'], 'word': 'enthusiastic', 'score': 15021}, {'tags': ['adj'], 'word': 'gratifying', 'score': 14687}, {'tags': ['adj'], 'word': 'willing', 'score': 14614}, {'tags': ['adj'], 'word': 'satisfying', 'score': 14505}, {'tags': ['adj'], 'word': 'dissatisfied', 'score': 14413}, {'tags': ['adj'], 'word': 'agreeable', 'score': 14353}, {'tags': ['adj'], 'word': 'pleasant', 'score': 14199}, {'tags': ['adv'], 'word': 'happily', 'score': 14047}, {'tags': ['adj'], 'word': 'great', 'score': 14038}, {'tags': ['adj'], 'word': 'ready', 'score': 13972}, {'tags': ['adj'], 'word': 'satisfactory', 'score': 13593}, {'tags': ['adj'], 'word': 'lovely', 'score': 13109}, {'tags': ['adj'], 'word': 'enjoyable', 'score': 13095}, {'tags': ['n'], 'word': 'fun', 'score': 13024}, {'tags': ['adj'], 'word': 'pissed', 'score': 12952}, {'tags': ['adj'], 'word': 'upbeat', 'score': 12920}, {'tags': ['adj'], 'word': 'cheerful', 'score': 12834}, {'tags': ['adj'], 'word': 'exciting', 'score': 12664}, {'tags': ['adj', 'prop'], 'word': 'jolly', 'score': 12592}, {'tags': ['adj'], 'word': 'fruitful', 'score': 12417}, {'tags': ['adv'], 'word': 'gladly', 'score': 12406}, {'tags': ['adj'], 'word': 'encouraged', 'score': 12088}, {'tags': ['v'], 'word': 'appreciate', 'score': 12012}, {'tags': ['adj'], 'word': 'positive', 'score': 11842}, {'tags': ['v'], 'word': 'rejoice', 'score': 11792}, {'tags': ['v'], 'word': 'welcomed', 'score': 11718}, {'tags': ['n'], 'word': 'joy', 'score': 11706}, {'tags': ['adj'], 'word': 'charmed', 'score': 11318}, {'tags': ['adj'], 'word': 'cheery', 'score': 11204}, {'tags': ['n'], 'word': 'smile', 'score': 11135}, {'tags': ['n'], 'word': 'happiness', 'score': 11054}, {'tags': ['adj'], 'word': 'like', 'score': 10920}, {'tags': ['adj'], 'word': 'successful', 'score': 10919}, {'tags': ['adj'], 'word': 'unfortunate', 'score': 10872}, {'tags': ['adj'], 'word': 'prepared', 'score': 10856}, {'tags': ['adj'], 'word': 'beautiful', 'score': 10501}, {'tags': ['adj'], 'word': 'delightful', 'score': 9827}, {'tags': ['adv'], 'word': 'fortunately', 'score': 9821}, {'tags': ['adj'], 'word': 'chipper', 'score': 9745}, {'tags': ['adj'], 'word': 'merry', 'score': 9708}, {'tags': ['adv'], 'word': 'well', 'score': 9670}, {'tags': ['n'], 'word': 'pleasure', 'score': 9539}, {'tags': ['adj'], 'word': 'complacent', 'score': 9360}, {'tags': ['adv'], 'word': 'thankfully', 'score': 9296}, {'tags': ['adj'], 'word': 'smug', 'score': 9106}, {'tags': ['adj'], 'word': 'pleasurable', 'score': 9048}, {'tags': ['adj'], 'word': 'fine', 'score': 9046}, {'tags': ['adj'], 'word': 'right', 'score': 8972}, {'tags': ['adj'], 'word': 'excellent', 'score': 8931}, {'tags': ['adj'], 'word': 'ideal', 'score': 8784}, {'tags': ['v'], 'word': 'said', 'score': 8573}]\n",
      "[{'tags': ['syn', 'adj'], 'word': 'saddening', 'score': 48584}, {'tags': ['syn', 'adj'], 'word': 'distressing', 'score': 45319}, {'tags': ['syn', 'adj'], 'word': 'sorry', 'score': 44907}, {'tags': ['syn', 'adj'], 'word': 'tragic', 'score': 44791}, {'tags': ['syn', 'adj'], 'word': 'bittersweet', 'score': 44771}, {'tags': ['syn', 'adj'], 'word': 'depressing', 'score': 44129}, {'tags': ['syn', 'adj'], 'word': 'sorrowful', 'score': 42863}, {'tags': ['syn', 'v'], 'word': 'sadden', 'score': 41951}, {'tags': ['syn', 'adj'], 'word': 'lamentable', 'score': 40675}, {'tags': ['syn', 'adj'], 'word': 'pitiful', 'score': 39850}, {'tags': ['syn', 'adj'], 'word': 'melancholy', 'score': 38779}, {'tags': ['syn', 'adj'], 'word': 'deplorable', 'score': 38755}, {'tags': ['syn', 'adj'], 'word': 'mournful', 'score': 38612}, {'tags': ['syn', 'adj'], 'word': 'miserable', 'score': 38601}, {'tags': ['syn', 'adj'], 'word': 'bad', 'score': 38389}, {'tags': ['syn', 'adj'], 'word': 'unhappy', 'score': 38114}, {'tags': ['syn', 'adj'], 'word': 'nostalgic', 'score': 37160}, {'tags': ['syn', 'adj'], 'word': 'wretched', 'score': 36779}, {'tags': ['syn', 'adj'], 'word': 'gloomy', 'score': 36156}, {'tags': ['syn', 'adj'], 'word': 'doleful', 'score': 35962}, {'tags': ['syn', 'adj'], 'word': 'wistful', 'score': 35905}, {'tags': ['syn', 'adj'], 'word': 'melancholic', 'score': 35310}, {'tags': ['syn', 'adj'], 'word': 'homesick', 'score': 35290}, {'tags': ['syn', 'adj'], 'word': 'tragicomic', 'score': 35123}, {'tags': ['syn', 'adj'], 'word': 'tragical', 'score': 34778}, {'tags': ['syn', 'adj'], 'word': 'pensive', 'score': 33827}, {'tags': ['syn', 'n'], 'word': 'suffering', 'score': 33702}, {'tags': ['syn', 'n'], 'word': 'yearning', 'score': 33329}, {'tags': ['syn', 'adj'], 'word': 'depressive', 'score': 31901}, {'tags': ['syn', 'adj'], 'word': 'lovesick', 'score': 30838}, {'tags': ['syn', 'adj'], 'word': 'heavyhearted', 'score': 24293}, {'tags': ['syn', 'adj'], 'word': 'tragicomical', 'score': 24293}, {'tags': ['v'], 'word': 'saddened', 'score': 22099}, {'tags': ['adj'], 'word': 'disheartening', 'score': 21646}, {'tags': ['adj'], 'word': 'unfortunate', 'score': 20972}, {'tags': ['adj'], 'word': 'regretful', 'score': 19937}, {'tags': ['adj'], 'word': 'heartbroken', 'score': 19929}, {'tags': ['adj'], 'word': 'shameful', 'score': 19791}, {'tags': ['adj'], 'word': 'regrettable', 'score': 19414}, {'tags': ['n'], 'word': 'shame', 'score': 18426}, {'tags': ['adj'], 'word': 'terrible', 'score': 18261}, {'tags': ['adj'], 'word': 'happy', 'score': 17908}, {'tags': ['adj'], 'word': 'disappointed', 'score': 17452}, {'tags': ['adj'], 'word': 'pathetic', 'score': 17447}, {'tags': ['adj'], 'word': 'disgraceful', 'score': 17330}, {'tags': ['n'], 'word': 'pity', 'score': 17206}, {'tags': ['adj'], 'word': 'disgusting', 'score': 17090}, {'tags': ['adj'], 'word': 'disheartened', 'score': 16929}, {'tags': ['v'], 'word': 'grieved', 'score': 16425}, {'tags': ['adj'], 'word': 'appalling', 'score': 16166}, {'tags': ['adj'], 'word': 'disappointing', 'score': 16107}, {'tags': ['adj'], 'word': 'ashamed', 'score': 16031}, {'tags': ['adj'], 'word': 'disturbing', 'score': 15860}, {'tags': ['adj'], 'word': 'painful', 'score': 15752}, {'tags': ['v'], 'word': 'bummed', 'score': 15743}, {'tags': ['n'], 'word': 'sorrow', 'score': 15379}, {'tags': ['adj'], 'word': 'dejected', 'score': 15264}, {'tags': ['adj'], 'word': 'grim', 'score': 15065}, {'tags': ['adj'], 'word': 'awful', 'score': 15005}, {'tags': ['adj'], 'word': 'despondent', 'score': 14968}, {'tags': ['adj'], 'word': 'embarrassing', 'score': 14907}, {'tags': ['adj'], 'word': 'lonely', 'score': 14896}, {'tags': ['adj'], 'word': 'sickening', 'score': 14778}, {'tags': ['adj'], 'word': 'dreadful', 'score': 14695}, {'tags': ['adj'], 'word': 'sombre', 'score': 14629}, {'tags': ['adj'], 'word': 'dismayed', 'score': 14560}, {'tags': ['n'], 'word': 'mourning', 'score': 14287}, {'tags': ['adj'], 'word': 'morose', 'score': 14088}, {'tags': ['adj'], 'word': 'forlorn', 'score': 13758}, {'tags': ['adj'], 'word': 'ugly', 'score': 13753}, {'tags': ['adj'], 'word': 'bleak', 'score': 13713}, {'tags': ['adj'], 'word': 'unpleasant', 'score': 13524}, {'tags': ['adj'], 'word': 'bitter', 'score': 13502}, {'tags': ['adj'], 'word': 'sobering', 'score': 13353}, {'tags': ['adj'], 'word': 'disconsolate', 'score': 13341}, {'tags': ['adj'], 'word': 'glum', 'score': 13250}, {'tags': ['n'], 'word': 'boring', 'score': 12641}, {'tags': ['v', 'n'], 'word': 'hate', 'score': 12403}, {'tags': ['n'], 'word': 'triste', 'score': 12401}, {'tags': ['adj'], 'word': 'downcast', 'score': 12314}, {'tags': ['adj'], 'word': 'mad', 'score': 12168}, {'tags': ['adj'], 'word': 'dreary', 'score': 12146}, {'tags': ['adj'], 'word': 'crying', 'score': 11959}, {'tags': ['adj'], 'word': 'annoying', 'score': 11811}, {'tags': ['adj'], 'word': 'inconvenient', 'score': 11743}, {'tags': ['adj'], 'word': 'desperate', 'score': 11716}, {'tags': ['adj'], 'word': 'dull', 'score': 11543}, {'tags': ['adj'], 'word': 'dire', 'score': 11390}, {'tags': ['adj'], 'word': 'rueful', 'score': 11314}, {'tags': ['adj'], 'word': 'dismal', 'score': 11182}, {'tags': ['adj'], 'word': 'discouraging', 'score': 11121}, {'tags': ['adj'], 'word': 'unlucky', 'score': 11030}, {'tags': ['adj'], 'word': 'disastrous', 'score': 10877}, {'tags': ['adj'], 'word': 'uncomfortable', 'score': 10807}, {'tags': ['adj'], 'word': 'depressed', 'score': 10805}, {'tags': ['n'], 'word': 'grief', 'score': 10690}, {'tags': ['adj', 'prop'], 'word': 'stark', 'score': 10600}, {'tags': ['v', 'n'], 'word': 'upset', 'score': 10523}, {'tags': ['adj'], 'word': 'dark', 'score': 10215}, {'tags': ['adj'], 'word': 'sinister', 'score': 10207}]\n",
      "[{'tags': ['syn', 'n'], 'word': 'pasture', 'score': 37484}, {'tags': ['syn', 'n'], 'word': 'forage', 'score': 35989}, {'tags': ['syn', 'n'], 'word': 'weed', 'score': 33303}, {'tags': ['syn', 'n'], 'word': 'pasturage', 'score': 31449}, {'tags': ['syn', 'n'], 'word': 'peach', 'score': 30462}, {'tags': ['syn', 'n'], 'word': 'cannabis sativa', 'score': 29412}, {'tags': ['syn', 'n'], 'word': 'skunk', 'score': 29067}, {'tags': ['syn', 'n'], 'word': 'marihuana', 'score': 27791}, {'tags': ['syn', 'n'], 'word': 'marijuana', 'score': 27611}, {'tags': ['syn', 'n'], 'word': 'cannabis', 'score': 27220}, {'tags': ['syn', 'n'], 'word': 'pot', 'score': 27045}, {'tags': ['syn', 'n'], 'word': 'ganja', 'score': 27041}, {'tags': ['syn', 'n'], 'word': 'rat', 'score': 26761}, {'tags': ['syn', 'n'], 'word': 'smoke', 'score': 26326}, {'tags': ['syn', 'n', 'prop'], 'word': 'mary jane', 'score': 26189}, {'tags': ['syn', 'n'], 'word': 'snitch', 'score': 26079}, {'tags': ['syn', 'n'], 'word': 'shit', 'score': 25463}, {'tags': ['syn', 'n'], 'word': 'dope', 'score': 25340}, {'tags': ['syn', 'n'], 'word': 'stag', 'score': 23795}, {'tags': ['syn', 'n'], 'word': 'shop', 'score': 23286}, {'tags': ['syn', 'v'], 'word': 'betray', 'score': 23166}, {'tags': ['syn', 'n'], 'word': 'gage', 'score': 23155}, {'tags': ['syn', 'n'], 'word': 'eatage', 'score': 21413}, {'tags': ['syn', 'v'], 'word': 'grass over', 'score': 21413}, {'tags': ['syn', 'n'], 'word': 'mary-jane', 'score': 21413}, {'tags': ['syn', 'v'], 'word': 'tell on', 'score': 21413}, {'tags': ['syn', 'v'], 'word': 'denounce', 'score': 21412}, {'tags': ['syn', 'v'], 'word': 'give away', 'score': 21412}, {'tags': ['syn', 'n'], 'word': 'sens', 'score': 21412}, {'tags': ['syn', 'n'], 'word': 'sess', 'score': 21412}, {'tags': ['n'], 'word': 'vegetation', 'score': 18867}, {'tags': ['n'], 'word': 'sod', 'score': 18543}, {'tags': ['n'], 'word': 'lawn', 'score': 18465}, {'tags': ['adj'], 'word': 'grassy', 'score': 18347}, {'tags': ['n'], 'word': 'turf', 'score': 16682}, {'tags': ['n'], 'word': 'grassland', 'score': 16540}, {'tags': ['n'], 'word': 'hay', 'score': 15275}, {'tags': ['n'], 'word': 'greenery', 'score': 15162}, {'tags': ['n'], 'word': 'tallgrass', 'score': 14491}, {'tags': ['n'], 'word': 'pastureland', 'score': 14208}, {'tags': ['n'], 'word': 'grasslands', 'score': 13873}, {'tags': ['n'], 'word': 'grazing', 'score': 13427}, {'tags': ['n'], 'word': 'prairie', 'score': 12795}, {'tags': ['n'], 'word': 'eelgrass', 'score': 12457}, {'tags': ['adj'], 'word': 'herbaceous', 'score': 12164}, {'tags': ['n'], 'word': 'dew', 'score': 11697}, {'tags': ['n'], 'word': 'bush', 'score': 11534}, {'tags': ['n'], 'word': 'prairies', 'score': 11516}, {'tags': ['n'], 'word': 'rangeland', 'score': 11255}, {'tags': ['n'], 'word': 'hemp', 'score': 10706}, {'tags': ['n'], 'word': 'carpet', 'score': 10483}, {'tags': ['n'], 'word': 'green', 'score': 9985}, {'tags': ['n'], 'word': 'herb', 'score': 9756}, {'tags': ['n'], 'word': 'herbs', 'score': 9644}, {'tags': ['n'], 'word': 'straw', 'score': 9600}, {'tags': ['n'], 'word': 'pitch', 'score': 9550}, {'tags': ['n'], 'word': 'reed', 'score': 9546}, {'tags': ['n'], 'word': 'daisy', 'score': 9450}, {'tags': ['adj'], 'word': 'tall', 'score': 9198}, {'tags': ['adj'], 'word': 'greasy', 'score': 9054}, {'tags': ['n'], 'word': 'pollen', 'score': 8362}, {'tags': ['n'], 'word': 'pickerel', 'score': 7145}, {'tags': ['n'], 'word': 'rug', 'score': 6709}, {'tags': ['n'], 'word': 'skirts', 'score': 6423}, {'tags': ['adj'], 'word': 'herbal', 'score': 6287}, {'tags': ['n'], 'word': 'fat', 'score': 6169}, {'tags': ['n'], 'word': 'stuff', 'score': 5937}, {'tags': ['n'], 'word': 'indigo', 'score': 5910}, {'tags': ['n'], 'word': 'fatty', 'score': 5847}, {'tags': ['n'], 'word': 'plant', 'score': 5767}, {'tags': ['n'], 'word': 'spliff', 'score': 5711}, {'tags': ['adj'], 'word': 'spotted', 'score': 5400}, {'tags': ['n'], 'word': 'tea', 'score': 5338}, {'tags': ['n'], 'word': 'bowling', 'score': 5125}, {'tags': ['n'], 'word': 'meal', 'score': 4660}, {'tags': ['n'], 'word': 'fodder', 'score': 4382}, {'tags': ['n'], 'word': 'poison', 'score': 4150}, {'tags': ['n'], 'word': 'base', 'score': 3798}, {'tags': ['adj'], 'word': 'stiff', 'score': 3745}, {'tags': ['n'], 'word': 'puff', 'score': 3502}, {'tags': ['n'], 'word': 'glass', 'score': 3489}, {'tags': ['n'], 'word': 'grace', 'score': 3314}, {'tags': ['n'], 'word': 'basis', 'score': 3111}, {'tags': ['n'], 'word': 'gear', 'score': 2961}, {'tags': ['n'], 'word': 'hash', 'score': 2913}, {'tags': ['n'], 'word': 'budding', 'score': 2756}, {'tags': ['n'], 'word': 'hashish', 'score': 2720}, {'tags': ['n'], 'word': 'pike', 'score': 2406}, {'tags': ['n'], 'word': 'canary', 'score': 1796}, {'tags': ['n', 'prop'], 'word': 'tso', 'score': 1650}, {'tags': ['n'], 'word': 'stash', 'score': 1137}, {'tags': ['adj'], 'word': 'bold', 'score': 918}, {'tags': ['n', 'prop'], 'word': 'cho', 'score': 768}, {'tags': ['adj'], 'word': 'exciting', 'score': 682}, {'tags': ['n'], 'word': 'informer', 'score': 332}, {'tags': ['n'], 'word': 'drafting', 'score': 282}, {'tags': ['n'], 'word': 'brochet', 'score': 1}, {'tags': ['n', 'prop'], 'word': 'gramineae', 'score': 1}, {'tags': ['n', 'prop'], 'word': 'tsao', 'score': 1}, {'tags': ['v', 'adj'], 'word': 'aspiring'}]\n"
     ]
    },
    {
     "data": {
      "text/plain": [
       "[{'Name': 'happy', 'synonyms': ['glad', 'pleased', 'fortunate', 'contented']},\n",
       " {'Name': 'sad',\n",
       "  'synonyms': ['saddening', 'distressing', 'sorry', 'tragic', 'bittersweet']},\n",
       " {'Name': 'grass', 'synonyms': []}]"
      ]
     },
     "execution_count": 32,
     "metadata": {},
     "output_type": "execute_result"
    }
   ],
   "source": [
    "\n",
    "input = [\n",
    "    {\"Name\":\"happy\"}, \n",
    "    {\"Name\":\"sad\"}, \n",
    "    {\"Name\":\"grass\"}]\n",
    "for i,label in enumerate(input):\n",
    "    url = \"https://api.datamuse.com/words?ml=\"+label['Name']\n",
    "    request = urllib.request.Request(url)\n",
    "    response = urllib.request.urlopen(request)\n",
    "    results = response.read().decode('utf-8')\n",
    "    results = json.loads(results)\n",
    "    print(results)\n",
    "    synonyms=[]\n",
    "    count = 0\n",
    "    for result in results:\n",
    "        count+=1\n",
    "        if(result['score']>40000):\n",
    "            synonyms.append(result['word'])\n",
    "        else:\n",
    "            break\n",
    "        if(count>4):\n",
    "            break\n",
    "    input[i]['synonyms'] = synonyms\n",
    "\n",
    "input"
   ]
  }
 ],
 "metadata": {
  "kernelspec": {
   "display_name": "Python 3",
   "language": "python",
   "name": "python3"
  },
  "language_info": {
   "codemirror_mode": {
    "name": "ipython",
    "version": 3
   },
   "file_extension": ".py",
   "mimetype": "text/x-python",
   "name": "python",
   "nbconvert_exporter": "python",
   "pygments_lexer": "ipython3",
   "version": "3.5.5"
  }
 },
 "nbformat": 4,
 "nbformat_minor": 2
}
