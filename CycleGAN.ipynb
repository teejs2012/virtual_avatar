{
 "cells": [
  {
   "cell_type": "code",
   "execution_count": 1,
   "metadata": {},
   "outputs": [],
   "source": [
    "import os, time, pickle, argparse, networks, utils\n",
    "import torch\n",
    "import torch.nn as nn\n",
    "import torch.optim as optim\n",
    "import matplotlib.pyplot as plt\n",
    "from torchvision import transforms\n",
    "from edge_promoting import edge_promoting\n",
    "import itertools"
   ]
  },
  {
   "cell_type": "markdown",
   "metadata": {},
   "source": [
    "### Parameters "
   ]
  },
  {
   "cell_type": "code",
   "execution_count": 2,
   "metadata": {},
   "outputs": [],
   "source": [
    "name='project_name'\n",
    "#source data path\n",
    "src_data='src_data_path'\n",
    "#target data path\n",
    "tgt_data='tgt_data_path'\n",
    "#pre-trained VGG19 model path\n",
    "vgg_model='pre_trained_VGG19_model_path/vgg19.pth'\n",
    "#input channel for generator\n",
    "in_ngc=3\n",
    "#output channel for generator\n",
    "out_ngc=3\n",
    "#input channel for discriminator\n",
    "in_ndc=3\n",
    "#output channel for discriminator\n",
    "out_ndc=1\n",
    "batch_size=8\n",
    "ngf=64\n",
    "ndf=32\n",
    "#the number of resnet block layer for generator\n",
    "nb=8\n",
    "#input size\n",
    "input_size=256\n",
    "train_epoch=10\n",
    "#Discriminator learning rate, default=0.0002\n",
    "lrD=0.0002\n",
    "#Generator learning rate, default=0.0002\n",
    "lrG=0.0002\n",
    "#lambda for loss\n",
    "lambdaA=10\n",
    "lambdaB=10\n",
    "decay_epoch = 10\n",
    "\n",
    "#beta1 for Adam optimizer\n",
    "beta1=0.5\n",
    "#beta2 for Adam optimizer\n",
    "beta2=0.999"
   ]
  },
  {
   "cell_type": "code",
   "execution_count": 3,
   "metadata": {},
   "outputs": [],
   "source": [
    "device = torch.device('cuda' if torch.cuda.is_available() else 'cpu')\n",
    "if torch.backends.cudnn.enabled:\n",
    "    torch.backends.cudnn.benchmark = True"
   ]
  },
  {
   "cell_type": "code",
   "execution_count": 4,
   "metadata": {},
   "outputs": [
    {
     "data": {
      "text/plain": [
       "device(type='cuda')"
      ]
     },
     "execution_count": 4,
     "metadata": {},
     "output_type": "execute_result"
    }
   ],
   "source": [
    "device"
   ]
  },
  {
   "cell_type": "code",
   "execution_count": 6,
   "metadata": {},
   "outputs": [],
   "source": [
    "# results save path\n",
    "if not os.path.isdir(os.path.join(name + '_results', 'Cycle_G_A')):\n",
    "    os.makedirs(os.path.join(name + '_results', 'Cycle_G_A'))\n",
    "if not os.path.isdir(os.path.join(name + '_results', 'Cycle_G_B')):\n",
    "    os.makedirs(os.path.join(name + '_results', 'Cycle_G_B'))"
   ]
  },
  {
   "cell_type": "code",
   "execution_count": 7,
   "metadata": {},
   "outputs": [],
   "source": [
    "#setup source and target folder\n",
    "if not os.path.isdir(os.path.join('data',tgt_data,'train')):\n",
    "    os.makedirs(os.path.join('data',tgt_data,'train'))\n",
    "if not os.path.isdir(os.path.join('data',tgt_data,'test')):\n",
    "    os.makedirs(os.path.join('data',tgt_data,'test'))\n",
    "if not os.path.isdir(os.path.join('data',src_data,'train')):\n",
    "    os.makedirs(os.path.join('data',src_data,'train'))\n",
    "if not os.path.isdir(os.path.join('data',src_data,'test')):\n",
    "    os.makedirs(os.path.join('data',src_data,'test'))"
   ]
  },
  {
   "cell_type": "code",
   "execution_count": 5,
   "metadata": {},
   "outputs": [],
   "source": [
    "# data_loader\n",
    "transform = transforms.Compose([\n",
    "        transforms.Resize((input_size, input_size)),\n",
    "        transforms.ToTensor(),\n",
    "        transforms.Normalize(mean=(0.5, 0.5, 0.5), std=(0.5, 0.5, 0.5))\n",
    "])\n",
    "train_loader_A = utils.data_load(os.path.join('data', src_data), 'train', transform, batch_size, shuffle=True, drop_last=True)\n",
    "train_loader_B = utils.data_load(os.path.join('data', tgt_data), 'train', transform, batch_size, shuffle=True, drop_last=True)\n",
    "test_loader_A = utils.data_load(os.path.join('data', src_data), 'test', transform, 1, shuffle=True, drop_last=True)"
   ]
  },
  {
   "cell_type": "code",
   "execution_count": 6,
   "metadata": {},
   "outputs": [
    {
     "data": {
      "text/plain": [
       "discriminator(\n",
       "  (convs): Sequential(\n",
       "    (0): Conv2d(3, 32, kernel_size=(3, 3), stride=(1, 1), padding=(1, 1))\n",
       "    (1): LeakyReLU(negative_slope=0.2, inplace)\n",
       "    (2): Conv2d(32, 64, kernel_size=(3, 3), stride=(2, 2), padding=(1, 1))\n",
       "    (3): LeakyReLU(negative_slope=0.2, inplace)\n",
       "    (4): Conv2d(64, 128, kernel_size=(3, 3), stride=(1, 1), padding=(1, 1))\n",
       "    (5): InstanceNorm2d(128, eps=1e-05, momentum=0.1, affine=False, track_running_stats=False)\n",
       "    (6): LeakyReLU(negative_slope=0.2, inplace)\n",
       "    (7): Conv2d(128, 128, kernel_size=(3, 3), stride=(2, 2), padding=(1, 1))\n",
       "    (8): LeakyReLU(negative_slope=0.2, inplace)\n",
       "    (9): Conv2d(128, 256, kernel_size=(3, 3), stride=(1, 1), padding=(1, 1))\n",
       "    (10): InstanceNorm2d(256, eps=1e-05, momentum=0.1, affine=False, track_running_stats=False)\n",
       "    (11): LeakyReLU(negative_slope=0.2, inplace)\n",
       "    (12): Conv2d(256, 256, kernel_size=(3, 3), stride=(1, 1), padding=(1, 1))\n",
       "    (13): InstanceNorm2d(256, eps=1e-05, momentum=0.1, affine=False, track_running_stats=False)\n",
       "    (14): LeakyReLU(negative_slope=0.2, inplace)\n",
       "    (15): Conv2d(256, 1, kernel_size=(3, 3), stride=(1, 1), padding=(1, 1))\n",
       "    (16): Sigmoid()\n",
       "  )\n",
       ")"
      ]
     },
     "execution_count": 6,
     "metadata": {},
     "output_type": "execute_result"
    }
   ],
   "source": [
    "# network\n",
    "G_A = networks.generator(in_ngc, out_ngc, ngf, nb)\n",
    "G_B = networks.generator(in_ngc, out_ngc, ngf, nb)\n",
    "D_A = networks.discriminator(in_ndc, out_ndc, ndf)\n",
    "D_B = networks.discriminator(in_ndc, out_ndc, ndf)\n",
    "\n",
    "G_A.to(device)\n",
    "G_B.to(device)\n",
    "D_A.to(device)\n",
    "D_B.to(device)"
   ]
  },
  {
   "cell_type": "markdown",
   "metadata": {},
   "source": [
    "### Load existing model parameters"
   ]
  },
  {
   "cell_type": "code",
   "execution_count": 7,
   "metadata": {},
   "outputs": [],
   "source": [
    "G_A.load_state_dict(torch.load(os.path.join(name + '_results', 'G_A.pkl')))\n",
    "G_B.load_state_dict(torch.load(os.path.join(name + '_results', 'G_B.pkl')))"
   ]
  },
  {
   "cell_type": "markdown",
   "metadata": {},
   "source": [
    "### end loading parameters "
   ]
  },
  {
   "cell_type": "code",
   "execution_count": 8,
   "metadata": {},
   "outputs": [],
   "source": [
    "# loss\n",
    "MSE_loss = nn.MSELoss().to(device)\n",
    "L1_loss = nn.L1Loss().to(device)"
   ]
  },
  {
   "cell_type": "code",
   "execution_count": 9,
   "metadata": {},
   "outputs": [],
   "source": [
    "G_optimizer = optim.Adam(itertools.chain(G_A.parameters(), G_B.parameters()), lr=lrG, betas=(beta1, beta2))\n",
    "D_A_optimizer = optim.Adam(D_A.parameters(), lr=lrD, betas=(beta1, beta2))\n",
    "D_B_optimizer = optim.Adam(D_B.parameters(), lr=lrD, betas=(beta1, beta2))"
   ]
  },
  {
   "cell_type": "code",
   "execution_count": 10,
   "metadata": {},
   "outputs": [],
   "source": [
    "train_hist = {}\n",
    "train_hist['G_loss'] = []\n",
    "train_hist['D_A_loss'] = []\n",
    "train_hist['D_B_loss'] = []\n",
    "train_hist['per_epoch_time'] = []\n",
    "train_hist['total_time'] = []\n",
    "train_hist['G_loss_one_epoch']=[]\n",
    "train_hist['D_A_loss_one_epoch']=[]\n",
    "train_hist['D_B_loss_one_epoch']=[]"
   ]
  },
  {
   "cell_type": "code",
   "execution_count": 11,
   "metadata": {},
   "outputs": [
    {
     "name": "stdout",
     "output_type": "stream",
     "text": [
      "training start!\n",
      "==> Epoch 1/10\n",
      "[1/10] - time: 2072.28, G loss: 2.618, D_A loss: 0.231, D_B loss: 0.157\n",
      "==> Epoch 2/10\n",
      "[2/10] - time: 2046.40, G loss: 2.837, D_A loss: 0.187, D_B loss: 0.132\n",
      "==> Epoch 3/10\n",
      "[3/10] - time: 2042.19, G loss: 2.962, D_A loss: 0.177, D_B loss: 0.051\n",
      "==> Epoch 4/10\n",
      "[4/10] - time: 2043.79, G loss: 3.078, D_A loss: 0.162, D_B loss: 0.021\n",
      "==> Epoch 5/10\n",
      "[5/10] - time: 2044.19, G loss: 3.102, D_A loss: 0.148, D_B loss: 0.030\n",
      "==> Epoch 6/10\n",
      "[6/10] - time: 2044.24, G loss: 3.105, D_A loss: 0.141, D_B loss: 0.000\n",
      "==> Epoch 7/10\n",
      "[7/10] - time: 2044.32, G loss: 3.099, D_A loss: 0.129, D_B loss: 0.000\n",
      "==> Epoch 8/10\n",
      "[8/10] - time: 2044.93, G loss: 3.125, D_A loss: 0.110, D_B loss: 0.000\n",
      "==> Epoch 9/10\n",
      "[9/10] - time: 2060.48, G loss: 3.089, D_A loss: 0.112, D_B loss: 0.000\n",
      "==> Epoch 10/10\n",
      "[10/10] - time: 2061.34, G loss: 2.880, D_A loss: 0.161, D_B loss: 0.000\n"
     ]
    }
   ],
   "source": [
    "print('training start!')\n",
    "start_time = time.time()\n",
    "num_pool = 50\n",
    "fake_A_pool = utils.ImagePool(num_pool)\n",
    "fake_B_pool = utils.ImagePool(num_pool)\n",
    "for epoch in range(train_epoch):\n",
    "    epoch_start_time = time.time()\n",
    "    print(\"==> Epoch {}/{}\".format(epoch + 1, train_epoch))\n",
    "    if (epoch + 1) > decay_epoch:\n",
    "        D_A_optimizer.param_groups[0]['lr'] -= lrD / 10\n",
    "        D_B_optimizer.param_groups[0]['lr'] -= lrD / 10\n",
    "        G_optimizer.param_groups[0]['lr'] -= lrG / 10\n",
    "    \n",
    "    G_losses = []\n",
    "    D_A_losses = []\n",
    "    D_B_losses = []\n",
    "    for (real_A,_),(real_B,_) in zip(train_loader_A, train_loader_B):\n",
    "        G_A.train()\n",
    "        G_B.train()\n",
    "\n",
    "        # input image data\n",
    "        real_A = real_A.to(device)\n",
    "        real_B = real_B.to(device)\n",
    "\n",
    "        # Train generator G\n",
    "        # A -> B\n",
    "        fake_B = G_A(real_A)\n",
    "        D_B_fake_decision = D_B(fake_B)\n",
    "        G_A_loss = MSE_loss(D_B_fake_decision, torch.ones(D_B_fake_decision.size(), device=device))\n",
    "\n",
    "        # forward cycle loss\n",
    "        recon_A = G_B(fake_B)\n",
    "        cycle_A_loss = L1_loss(recon_A, real_A) * lambdaA\n",
    "\n",
    "        # B -> A\n",
    "        fake_A = G_B(real_B)\n",
    "        D_A_fake_decision = D_A(fake_A)\n",
    "        G_B_loss = MSE_loss(D_A_fake_decision, torch.ones(D_A_fake_decision.size(), device=device))\n",
    "\n",
    "        # backward cycle loss\n",
    "        recon_B = G_A(fake_A)\n",
    "        cycle_B_loss = L1_loss(recon_B, real_B) * lambdaB\n",
    "        \n",
    "        #fix D parameters\n",
    "        for model in [D_A, D_B]:\n",
    "            for param in D_A.parameters():\n",
    "                param.requires_grad = False\n",
    "        \n",
    "        \n",
    "        # Back propagation\n",
    "        G_loss = G_A_loss + G_B_loss + cycle_A_loss + cycle_B_loss\n",
    "        G_losses.append(G_loss)\n",
    "        G_optimizer.zero_grad()\n",
    "        G_loss.backward()\n",
    "        G_optimizer.step()\n",
    "\n",
    "        #train D parameters\n",
    "        for model in [D_A, D_B]:\n",
    "            for param in D_A.parameters():\n",
    "                param.requires_grad = True\n",
    "                \n",
    "        # Train discriminator D_A\n",
    "        D_A_real_decision = D_A(real_A)\n",
    "        D_A_real_loss = MSE_loss(D_A_real_decision, torch.ones(D_A_real_decision.size(), device=device))\n",
    "        fake_A = fake_A_pool.query(fake_A)\n",
    "        D_A_fake_decision = D_A(fake_A)\n",
    "        D_A_fake_loss = MSE_loss(D_A_fake_decision, torch.zeros(D_A_fake_decision.size(), device=device))\n",
    "\n",
    "        # Back propagation\n",
    "        D_A_loss = (D_A_real_loss + D_A_fake_loss) * 0.5\n",
    "        D_A_losses.append(D_A_loss)\n",
    "        D_A_optimizer.zero_grad()\n",
    "        D_A_loss.backward()\n",
    "        D_A_optimizer.step()\n",
    "\n",
    "        # Train discriminator D_B\n",
    "        D_B_real_decision = D_B(real_B)\n",
    "        D_B_real_loss = MSE_loss(D_B_real_decision, torch.ones(D_B_real_decision.size(), device=device))\n",
    "        fake_B = fake_B_pool.query(fake_B)\n",
    "        D_B_fake_decision = D_B(fake_B)\n",
    "        D_B_fake_loss = MSE_loss(D_B_fake_decision, torch.zeros(D_B_fake_decision.size(), device=device))\n",
    "\n",
    "        # Back propagation\n",
    "        D_B_loss = (D_B_real_loss + D_B_fake_loss) * 0.5\n",
    "        D_B_losses.append(D_B_loss)\n",
    "        D_B_optimizer.zero_grad()\n",
    "        D_B_loss.backward()\n",
    "        D_B_optimizer.step()\n",
    "    \n",
    "    per_epoch_time = time.time() - epoch_start_time\n",
    "    train_hist['per_epoch_time'].append(per_epoch_time)\n",
    "    \n",
    "    G_loss_avg = torch.mean(torch.FloatTensor(G_losses))\n",
    "    D_A_loss_avg = torch.mean(torch.FloatTensor(D_A_losses))\n",
    "    D_B_loss_avg =  torch.mean(torch.FloatTensor(D_B_losses))\n",
    "    \n",
    "    train_hist['G_loss_one_epoch'].append(G_loss_avg)\n",
    "    train_hist['D_A_loss_one_epoch'].append(D_A_loss_avg)\n",
    "    train_hist['D_B_loss_one_epoch'].append(D_B_loss_avg)\n",
    "    \n",
    "    print(\n",
    "    '[%d/%d] - time: %.2f, G loss: %.3f, D_A loss: %.3f, D_B loss: %.3f' % ((epoch + 1), train_epoch, per_epoch_time, G_loss_avg, D_A_loss_avg, D_B_loss_avg))\n",
    "    \n",
    "    #Save image result\n",
    "    with torch.no_grad():\n",
    "        G_A.eval()\n",
    "        G_B.eval()\n",
    "        for n, (x, _) in enumerate(train_loader_A):\n",
    "            x = x.to(device)\n",
    "            G_A_result = G_A(x)\n",
    "            G_A_recon = G_B(G_A_result)\n",
    "            result = torch.cat((x[0], G_A_recon[0], G_A_result[0]), 2)\n",
    "            path = os.path.join(name + '_results', 'Cycle_G_A', str(epoch+6) + '_epoch_'  + '_train_' + str(n + 1) + '.png')\n",
    "            plt.imsave(path, (result.cpu().numpy().transpose(1, 2, 0) + 1) / 2)\n",
    "            if n == 4:\n",
    "                break\n",
    "\n",
    "        for n, (x, _) in enumerate(test_loader_A):\n",
    "            x = x.to(device)\n",
    "            G_A_result = G_A(x)\n",
    "            G_A_recon = G_B(G_A_result)\n",
    "            result = torch.cat((x[0], G_A_recon[0], G_A_result[0]), 2)\n",
    "            path = os.path.join(name + '_results', 'Cycle_G_A', str(epoch+6) + '_epoch_'  + '_test_' + str(n + 1) + '.png')\n",
    "            plt.imsave(path, (result.cpu().numpy().transpose(1, 2, 0) + 1) / 2)\n",
    "            if n == 4:\n",
    "                break\n",
    "\n",
    "        for n, (x,_) in enumerate(train_loader_B):\n",
    "            x = x.to(device)\n",
    "            G_B_result = G_B(x)\n",
    "            G_B_recon = G_A(G_B_result)\n",
    "            result = torch.cat((x[0],G_B_result[0],G_B_recon[0]),2)\n",
    "            path = os.path.join(name+'_results','Cycle_G_B',str(epoch+1) + '_epoch_' +'_train_'+str(n+1)+'.png')\n",
    "            plt.imsave(path, (result.cpu().numpy().transpose(1, 2, 0) + 1) / 2)\n",
    "            if n == 4:\n",
    "                break\n",
    "                \n",
    "        torch.save(G_A.state_dict(), os.path.join(name + '_results', 'G_A.pkl'))\n",
    "        torch.save(G_B.state_dict(), os.path.join(name + '_results', 'G_B.pkl')) \n",
    "        torch.save(D_A.state_dict(), os.path.join(name + '_results', 'D_A.pkl'))\n",
    "        torch.save(D_B.state_dict(), os.path.join(name + '_results', 'D_B.pkl'))\n"
   ]
  }
 ],
 "metadata": {
  "kernelspec": {
   "display_name": "Python 3",
   "language": "python",
   "name": "python3"
  },
  "language_info": {
   "codemirror_mode": {
    "name": "ipython",
    "version": 3
   },
   "file_extension": ".py",
   "mimetype": "text/x-python",
   "name": "python",
   "nbconvert_exporter": "python",
   "pygments_lexer": "ipython3",
   "version": "3.5.5"
  }
 },
 "nbformat": 4,
 "nbformat_minor": 2
}
