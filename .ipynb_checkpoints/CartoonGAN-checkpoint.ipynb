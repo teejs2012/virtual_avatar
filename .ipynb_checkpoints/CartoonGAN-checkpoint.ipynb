{
 "cells": [
  {
   "cell_type": "code",
   "execution_count": 2,
   "metadata": {},
   "outputs": [],
   "source": [
    "import os, time, pickle, argparse,json\n",
    "from lib import networks, utils\n",
    "from lib.edge_promoting import edge_promoting\n",
    "import torch\n",
    "import torch.nn as nn\n",
    "import torch.optim as optim\n",
    "import matplotlib.pyplot as plt\n",
    "from torchvision import transforms"
   ]
  },
  {
   "cell_type": "markdown",
   "metadata": {},
   "source": [
    "### Parameters"
   ]
  },
  {
   "cell_type": "code",
   "execution_count": 3,
   "metadata": {},
   "outputs": [],
   "source": [
    "name='project_name'\n",
    "#source data path\n",
    "src_data='src_data_path'\n",
    "#target data path\n",
    "tgt_data='tgt_data_path'\n",
    "#pre-trained VGG19 model path\n",
    "vgg_model='pre_trained_VGG19_model_path/vgg19.pth'\n",
    "#input channel for generator\n",
    "in_ngc=3\n",
    "#output channel for generator\n",
    "out_ngc=3\n",
    "#input channel for discriminator\n",
    "in_ndc=3\n",
    "#output channel for discriminator\n",
    "out_ndc=1\n",
    "batch_size=8\n",
    "ngf=64\n",
    "ndf=32\n",
    "#the number of resnet block layer for generator\n",
    "nb=8\n",
    "#input size\n",
    "input_size=256\n",
    "train_epoch=50\n",
    "pre_train_epoch=10\n",
    "#Discriminator learning rate, default=0.0002\n",
    "lrD=0.0002\n",
    "#Generator learning rate, default=0.0002\n",
    "lrG=0.0002\n",
    "#lambda for content loss\n",
    "con_lambda=10\n",
    "#beta1 for Adam optimizer\n",
    "beta1=0.5\n",
    "#beta2 for Adam optimizer\n",
    "beta2=0.999"
   ]
  },
  {
   "cell_type": "code",
   "execution_count": 3,
   "metadata": {},
   "outputs": [],
   "source": [
    "device = torch.device('cuda' if torch.cuda.is_available() else 'cpu')\n",
    "if torch.backends.cudnn.enabled:\n",
    "    torch.backends.cudnn.benchmark = True"
   ]
  },
  {
   "cell_type": "code",
   "execution_count": 4,
   "metadata": {},
   "outputs": [
    {
     "data": {
      "text/plain": [
       "device(type='cuda')"
      ]
     },
     "execution_count": 4,
     "metadata": {},
     "output_type": "execute_result"
    }
   ],
   "source": [
    "device"
   ]
  },
  {
   "cell_type": "code",
   "execution_count": 4,
   "metadata": {},
   "outputs": [],
   "source": [
    "# results save path\n",
    "if not os.path.isdir(os.path.join(name + '_results', 'Reconstruction')):\n",
    "    os.makedirs(os.path.join(name + '_results', 'Reconstruction'))\n",
    "if not os.path.isdir(os.path.join(name + '_results', 'Transfer')):\n",
    "    os.makedirs(os.path.join(name + '_results', 'Transfer'))"
   ]
  },
  {
   "cell_type": "code",
   "execution_count": 5,
   "metadata": {},
   "outputs": [],
   "source": [
    "#setup source and target folder\n",
    "if not os.path.isdir(os.path.join('data',tgt_data,'train')):\n",
    "    os.makedirs(os.path.join('data',tgt_data,'train'))\n",
    "if not os.path.isdir(os.path.join('data',src_data,'train')):\n",
    "    os.makedirs(os.path.join('data',src_data,'train'))\n",
    "if not os.path.isdir(os.path.join('data',src_data,'test')):\n",
    "    os.makedirs(os.path.join('data',src_data,'test'))"
   ]
  },
  {
   "cell_type": "code",
   "execution_count": 7,
   "metadata": {
    "scrolled": true
   },
   "outputs": [
    {
     "name": "stdout",
     "output_type": "stream",
     "text": [
      "edge-promoting already done\n"
     ]
    }
   ],
   "source": [
    "# edge-promoting\n",
    "if not os.path.isdir(os.path.join('data', tgt_data, 'pair')):\n",
    "    print('edge-promoting start!!')\n",
    "    edge_promoting(os.path.join('data', tgt_data, 'train'), os.path.join('data', tgt_data, 'pair'))\n",
    "else:\n",
    "    print('edge-promoting already done')"
   ]
  },
  {
   "cell_type": "code",
   "execution_count": 6,
   "metadata": {},
   "outputs": [
    {
     "ename": "KeyError",
     "evalue": "'pair'",
     "output_type": "error",
     "traceback": [
      "\u001b[1;31m---------------------------------------------------------------------------\u001b[0m",
      "\u001b[1;31mKeyError\u001b[0m                                  Traceback (most recent call last)",
      "\u001b[1;32m<ipython-input-6-38d08f542af8>\u001b[0m in \u001b[0;36m<module>\u001b[1;34m()\u001b[0m\n\u001b[0;32m     10\u001b[0m ])\n\u001b[0;32m     11\u001b[0m \u001b[0mtrain_loader_src\u001b[0m \u001b[1;33m=\u001b[0m \u001b[0mutils\u001b[0m\u001b[1;33m.\u001b[0m\u001b[0mdata_load\u001b[0m\u001b[1;33m(\u001b[0m\u001b[0mos\u001b[0m\u001b[1;33m.\u001b[0m\u001b[0mpath\u001b[0m\u001b[1;33m.\u001b[0m\u001b[0mjoin\u001b[0m\u001b[1;33m(\u001b[0m\u001b[1;34m'data'\u001b[0m\u001b[1;33m,\u001b[0m \u001b[0msrc_data\u001b[0m\u001b[1;33m)\u001b[0m\u001b[1;33m,\u001b[0m \u001b[1;34m'train'\u001b[0m\u001b[1;33m,\u001b[0m \u001b[0msrc_transform\u001b[0m\u001b[1;33m,\u001b[0m \u001b[0mbatch_size\u001b[0m\u001b[1;33m,\u001b[0m \u001b[0mshuffle\u001b[0m\u001b[1;33m=\u001b[0m\u001b[1;32mTrue\u001b[0m\u001b[1;33m,\u001b[0m \u001b[0mdrop_last\u001b[0m\u001b[1;33m=\u001b[0m\u001b[1;32mTrue\u001b[0m\u001b[1;33m)\u001b[0m\u001b[1;33m\u001b[0m\u001b[0m\n\u001b[1;32m---> 12\u001b[1;33m \u001b[0mtrain_loader_tgt\u001b[0m \u001b[1;33m=\u001b[0m \u001b[0mutils\u001b[0m\u001b[1;33m.\u001b[0m\u001b[0mdata_load\u001b[0m\u001b[1;33m(\u001b[0m\u001b[0mos\u001b[0m\u001b[1;33m.\u001b[0m\u001b[0mpath\u001b[0m\u001b[1;33m.\u001b[0m\u001b[0mjoin\u001b[0m\u001b[1;33m(\u001b[0m\u001b[1;34m'data'\u001b[0m\u001b[1;33m,\u001b[0m \u001b[0mtgt_data\u001b[0m\u001b[1;33m)\u001b[0m\u001b[1;33m,\u001b[0m \u001b[1;34m'pair'\u001b[0m\u001b[1;33m,\u001b[0m \u001b[0mtgt_transform\u001b[0m\u001b[1;33m,\u001b[0m \u001b[0mbatch_size\u001b[0m\u001b[1;33m,\u001b[0m \u001b[0mshuffle\u001b[0m\u001b[1;33m=\u001b[0m\u001b[1;32mTrue\u001b[0m\u001b[1;33m,\u001b[0m \u001b[0mdrop_last\u001b[0m\u001b[1;33m=\u001b[0m\u001b[1;32mTrue\u001b[0m\u001b[1;33m)\u001b[0m\u001b[1;33m\u001b[0m\u001b[0m\n\u001b[0m\u001b[0;32m     13\u001b[0m \u001b[0mtest_loader_src\u001b[0m \u001b[1;33m=\u001b[0m \u001b[0mutils\u001b[0m\u001b[1;33m.\u001b[0m\u001b[0mdata_load\u001b[0m\u001b[1;33m(\u001b[0m\u001b[0mos\u001b[0m\u001b[1;33m.\u001b[0m\u001b[0mpath\u001b[0m\u001b[1;33m.\u001b[0m\u001b[0mjoin\u001b[0m\u001b[1;33m(\u001b[0m\u001b[1;34m'data'\u001b[0m\u001b[1;33m,\u001b[0m \u001b[0msrc_data\u001b[0m\u001b[1;33m)\u001b[0m\u001b[1;33m,\u001b[0m \u001b[1;34m'test'\u001b[0m\u001b[1;33m,\u001b[0m \u001b[0msrc_transform\u001b[0m\u001b[1;33m,\u001b[0m \u001b[1;36m1\u001b[0m\u001b[1;33m,\u001b[0m \u001b[0mshuffle\u001b[0m\u001b[1;33m=\u001b[0m\u001b[1;32mTrue\u001b[0m\u001b[1;33m,\u001b[0m \u001b[0mdrop_last\u001b[0m\u001b[1;33m=\u001b[0m\u001b[1;32mTrue\u001b[0m\u001b[1;33m)\u001b[0m\u001b[1;33m\u001b[0m\u001b[0m\n",
      "\u001b[1;32m~\\Documents\\Dev\\Persona\\pytorch-CartoonGAN\\lib\\utils.py\u001b[0m in \u001b[0;36mdata_load\u001b[1;34m(path, subfolder, transform, batch_size, shuffle, drop_last)\u001b[0m\n\u001b[0;32m      9\u001b[0m \u001b[1;32mdef\u001b[0m \u001b[0mdata_load\u001b[0m\u001b[1;33m(\u001b[0m\u001b[0mpath\u001b[0m\u001b[1;33m,\u001b[0m \u001b[0msubfolder\u001b[0m\u001b[1;33m,\u001b[0m \u001b[0mtransform\u001b[0m\u001b[1;33m,\u001b[0m \u001b[0mbatch_size\u001b[0m\u001b[1;33m,\u001b[0m \u001b[0mshuffle\u001b[0m\u001b[1;33m=\u001b[0m\u001b[1;32mFalse\u001b[0m\u001b[1;33m,\u001b[0m \u001b[0mdrop_last\u001b[0m\u001b[1;33m=\u001b[0m\u001b[1;32mTrue\u001b[0m\u001b[1;33m)\u001b[0m\u001b[1;33m:\u001b[0m\u001b[1;33m\u001b[0m\u001b[0m\n\u001b[0;32m     10\u001b[0m     \u001b[0mdset\u001b[0m \u001b[1;33m=\u001b[0m \u001b[0mdatasets\u001b[0m\u001b[1;33m.\u001b[0m\u001b[0mImageFolder\u001b[0m\u001b[1;33m(\u001b[0m\u001b[0mpath\u001b[0m\u001b[1;33m,\u001b[0m \u001b[0mtransform\u001b[0m\u001b[1;33m)\u001b[0m\u001b[1;33m\u001b[0m\u001b[0m\n\u001b[1;32m---> 11\u001b[1;33m     \u001b[0mind\u001b[0m \u001b[1;33m=\u001b[0m \u001b[0mdset\u001b[0m\u001b[1;33m.\u001b[0m\u001b[0mclass_to_idx\u001b[0m\u001b[1;33m[\u001b[0m\u001b[0msubfolder\u001b[0m\u001b[1;33m]\u001b[0m\u001b[1;33m\u001b[0m\u001b[0m\n\u001b[0m\u001b[0;32m     12\u001b[0m \u001b[1;33m\u001b[0m\u001b[0m\n\u001b[0;32m     13\u001b[0m     \u001b[0mn\u001b[0m \u001b[1;33m=\u001b[0m \u001b[1;36m0\u001b[0m\u001b[1;33m\u001b[0m\u001b[0m\n",
      "\u001b[1;31mKeyError\u001b[0m: 'pair'"
     ]
    }
   ],
   "source": [
    "# data_loader\n",
    "src_transform = transforms.Compose([\n",
    "        transforms.Resize((input_size, input_size)),\n",
    "        transforms.ToTensor(),\n",
    "        transforms.Normalize(mean=(0.5, 0.5, 0.5), std=(0.5, 0.5, 0.5))\n",
    "])\n",
    "tgt_transform = transforms.Compose([\n",
    "        transforms.ToTensor(),\n",
    "        transforms.Normalize(mean=(0.5, 0.5, 0.5), std=(0.5, 0.5, 0.5))\n",
    "])\n",
    "train_loader_src = utils.data_load(os.path.join('data', src_data), 'train', src_transform, batch_size, shuffle=True, drop_last=True)\n",
    "train_loader_tgt = utils.data_load(os.path.join('data', tgt_data), 'pair', tgt_transform, batch_size, shuffle=True, drop_last=True)\n",
    "test_loader_src = utils.data_load(os.path.join('data', src_data), 'test', src_transform, 1, shuffle=True, drop_last=True)"
   ]
  },
  {
   "cell_type": "code",
   "execution_count": 7,
   "metadata": {},
   "outputs": [
    {
     "ename": "NameError",
     "evalue": "name 'device' is not defined",
     "output_type": "error",
     "traceback": [
      "\u001b[1;31m---------------------------------------------------------------------------\u001b[0m",
      "\u001b[1;31mNameError\u001b[0m                                 Traceback (most recent call last)",
      "\u001b[1;32m<ipython-input-7-4af7a8c75ec2>\u001b[0m in \u001b[0;36m<module>\u001b[1;34m()\u001b[0m\n\u001b[0;32m      3\u001b[0m \u001b[0mD\u001b[0m \u001b[1;33m=\u001b[0m \u001b[0mnetworks\u001b[0m\u001b[1;33m.\u001b[0m\u001b[0mdiscriminator\u001b[0m\u001b[1;33m(\u001b[0m\u001b[0min_ndc\u001b[0m\u001b[1;33m,\u001b[0m \u001b[0mout_ndc\u001b[0m\u001b[1;33m,\u001b[0m \u001b[0mndf\u001b[0m\u001b[1;33m)\u001b[0m\u001b[1;33m\u001b[0m\u001b[0m\n\u001b[0;32m      4\u001b[0m \u001b[0mVGG\u001b[0m \u001b[1;33m=\u001b[0m \u001b[0mnetworks\u001b[0m\u001b[1;33m.\u001b[0m\u001b[0mVGG19\u001b[0m\u001b[1;33m(\u001b[0m\u001b[0minit_weights\u001b[0m\u001b[1;33m=\u001b[0m\u001b[0mvgg_model\u001b[0m\u001b[1;33m,\u001b[0m \u001b[0mfeature_mode\u001b[0m\u001b[1;33m=\u001b[0m\u001b[1;32mTrue\u001b[0m\u001b[1;33m)\u001b[0m\u001b[1;33m\u001b[0m\u001b[0m\n\u001b[1;32m----> 5\u001b[1;33m \u001b[0mG\u001b[0m\u001b[1;33m.\u001b[0m\u001b[0mto\u001b[0m\u001b[1;33m(\u001b[0m\u001b[0mdevice\u001b[0m\u001b[1;33m)\u001b[0m\u001b[1;33m\u001b[0m\u001b[0m\n\u001b[0m\u001b[0;32m      6\u001b[0m \u001b[0mD\u001b[0m\u001b[1;33m.\u001b[0m\u001b[0mto\u001b[0m\u001b[1;33m(\u001b[0m\u001b[0mdevice\u001b[0m\u001b[1;33m)\u001b[0m\u001b[1;33m\u001b[0m\u001b[0m\n\u001b[0;32m      7\u001b[0m \u001b[0mVGG\u001b[0m\u001b[1;33m.\u001b[0m\u001b[0mto\u001b[0m\u001b[1;33m(\u001b[0m\u001b[0mdevice\u001b[0m\u001b[1;33m)\u001b[0m\u001b[1;33m\u001b[0m\u001b[0m\n",
      "\u001b[1;31mNameError\u001b[0m: name 'device' is not defined"
     ]
    }
   ],
   "source": [
    "# network\n",
    "G = networks.generator(in_ngc, out_ngc, ngf, nb)\n",
    "D = networks.discriminator(in_ndc, out_ndc, ndf)\n",
    "VGG = networks.VGG19(init_weights=vgg_model, feature_mode=True)\n",
    "G.to(device)\n",
    "D.to(device)\n",
    "VGG.to(device)\n",
    "G.train()\n",
    "D.train()\n",
    "VGG.eval()\n",
    "print('---------- Networks initialized -------------')\n",
    "utils.print_network(G)\n",
    "utils.print_network(D)\n",
    "utils.print_network(VGG)\n",
    "print('-----------------------------------------------')"
   ]
  },
  {
   "cell_type": "code",
   "execution_count": 10,
   "metadata": {},
   "outputs": [],
   "source": [
    "# loss\n",
    "BCE_loss = nn.BCELoss().to(device)\n",
    "L1_loss = nn.L1Loss().to(device)"
   ]
  },
  {
   "cell_type": "code",
   "execution_count": 11,
   "metadata": {},
   "outputs": [],
   "source": [
    "# Adam optimizer\n",
    "G_optimizer = optim.Adam(G.parameters(), lr=lrG, betas=(beta1, beta2))\n",
    "D_optimizer = optim.Adam(D.parameters(), lr=lrD, betas=(beta1, beta2))\n",
    "G_scheduler = optim.lr_scheduler.MultiStepLR(optimizer=G_optimizer, milestones=[train_epoch // 2, train_epoch // 4 * 3], gamma=0.1)\n",
    "D_scheduler = optim.lr_scheduler.MultiStepLR(optimizer=D_optimizer, milestones=[train_epoch // 2, train_epoch // 4 * 3], gamma=0.1)\n",
    "\n",
    "pre_train_hist = {}\n",
    "pre_train_hist['Recon_loss'] = []\n",
    "pre_train_hist['per_epoch_time'] = []\n",
    "pre_train_hist['total_time'] = []"
   ]
  },
  {
   "cell_type": "markdown",
   "metadata": {},
   "source": [
    "### Pre-train"
   ]
  },
  {
   "cell_type": "code",
   "execution_count": 12,
   "metadata": {},
   "outputs": [
    {
     "name": "stdout",
     "output_type": "stream",
     "text": [
      "Pre-training start!\n",
      "[1/10] - time: 6.81, Recon loss: 24.140\n",
      "[2/10] - time: 0.22, Recon loss: 26.363\n",
      "[3/10] - time: 0.42, Recon loss: 26.182\n",
      "[4/10] - time: 0.42, Recon loss: 24.677\n",
      "[5/10] - time: 0.42, Recon loss: 23.091\n",
      "[6/10] - time: 0.42, Recon loss: 25.020\n",
      "[7/10] - time: 0.42, Recon loss: 24.514\n",
      "[8/10] - time: 0.42, Recon loss: 22.543\n",
      "[9/10] - time: 0.42, Recon loss: 21.546\n",
      "[10/10] - time: 0.42, Recon loss: 22.108\n"
     ]
    }
   ],
   "source": [
    "print('Pre-training start!')\n",
    "start_time = time.time()\n",
    "for epoch in range(pre_train_epoch):\n",
    "    epoch_start_time = time.time()\n",
    "    Recon_losses = []\n",
    "    for x, _ in train_loader_src:\n",
    "        x = x.to(device)\n",
    "\n",
    "        # train generator G\n",
    "        G_optimizer.zero_grad()\n",
    "\n",
    "        x_feature = VGG((x + 1) / 2)\n",
    "        G_ = G(x)\n",
    "        G_feature = VGG((G_ + 1) / 2)\n",
    "\n",
    "        Recon_loss = 10 * L1_loss(G_feature, x_feature.detach())\n",
    "        Recon_losses.append(Recon_loss.item())\n",
    "        pre_train_hist['Recon_loss'].append(Recon_loss.item())\n",
    "\n",
    "        Recon_loss.backward()\n",
    "        G_optimizer.step()\n",
    "\n",
    "        break\n",
    "\n",
    "    per_epoch_time = time.time() - epoch_start_time\n",
    "    pre_train_hist['per_epoch_time'].append(per_epoch_time)\n",
    "    print('[%d/%d] - time: %.2f, Recon loss: %.3f' % ((epoch + 1), pre_train_epoch, per_epoch_time, torch.mean(torch.FloatTensor(Recon_losses))))\n",
    "\n",
    "total_time = time.time() - start_time\n",
    "pre_train_hist['total_time'].append(total_time)\n",
    "with open(os.path.join(name + '_results',  'pre_train_hist.pkl'), 'wb') as f:\n",
    "    pickle.dump(pre_train_hist, f)\n",
    "\n",
    "with torch.no_grad():\n",
    "    G.eval()\n",
    "    for n, (x, _) in enumerate(train_loader_src):\n",
    "        x = x.to(device)\n",
    "        G_recon = G(x)\n",
    "        result = torch.cat((x[0], G_recon[0]), 2)\n",
    "        path = os.path.join(name + '_results', 'Reconstruction', name + '_train_recon_' + str(n + 1) + '.png')\n",
    "        plt.imsave(path, (result.cpu().numpy().transpose(1, 2, 0) + 1) / 2)\n",
    "        if n == 4:\n",
    "            break\n",
    "\n",
    "    for n, (x, _) in enumerate(test_loader_src):\n",
    "        x = x.to(device)\n",
    "        G_recon = G(x)\n",
    "        result = torch.cat((x[0], G_recon[0]), 2)\n",
    "        path = os.path.join(name + '_results', 'Reconstruction', name + '_test_recon_' + str(n + 1) + '.png')\n",
    "        plt.imsave(path, (result.cpu().numpy().transpose(1, 2, 0) + 1) / 2)\n",
    "        if n == 4:\n",
    "            break\n",
    "\n"
   ]
  },
  {
   "cell_type": "code",
   "execution_count": 13,
   "metadata": {},
   "outputs": [],
   "source": [
    "train_hist = {}\n",
    "train_hist['Disc_loss'] = []\n",
    "train_hist['Gen_loss'] = []\n",
    "train_hist['Con_loss'] = []\n",
    "train_hist['per_epoch_time'] = []\n",
    "train_hist['total_time'] = []\n",
    "train_hist['Gen_loss_one_epoch']=[]\n",
    "train_hist['Disc_loss_one_epoch']=[]\n",
    "train_hist['Con_loss_one_epoch']=[]"
   ]
  },
  {
   "cell_type": "code",
   "execution_count": null,
   "metadata": {},
   "outputs": [
    {
     "name": "stdout",
     "output_type": "stream",
     "text": [
      "training start!\n",
      "[1/50] - time: 1239.92, Disc loss: 1.313, Gen loss: 1.846, Con loss: 8.588\n",
      "[2/50] - time: 1239.15, Disc loss: 0.792, Gen loss: 2.150, Con loss: 6.918\n",
      "[3/50] - time: 1239.31, Disc loss: 0.618, Gen loss: 2.665, Con loss: 7.291\n",
      "[4/50] - time: 1238.95, Disc loss: 0.557, Gen loss: 2.914, Con loss: 7.643\n",
      "[5/50] - time: 1238.71, Disc loss: 0.577, Gen loss: 2.784, Con loss: 7.788\n",
      "[6/50] - time: 1238.82, Disc loss: 0.468, Gen loss: 3.021, Con loss: 8.066\n",
      "[7/50] - time: 1238.73, Disc loss: 0.413, Gen loss: 3.151, Con loss: 8.266\n",
      "[8/50] - time: 1238.63, Disc loss: 0.356, Gen loss: 3.365, Con loss: 8.512\n",
      "[9/50] - time: 1238.43, Disc loss: 0.301, Gen loss: 3.653, Con loss: 8.766\n",
      "[10/50] - time: 1238.35, Disc loss: 0.406, Gen loss: 3.578, Con loss: 9.021\n",
      "[11/50] - time: 1238.73, Disc loss: 0.576, Gen loss: 2.986, Con loss: 8.877\n",
      "[12/50] - time: 1238.84, Disc loss: 0.531, Gen loss: 3.078, Con loss: 9.016\n",
      "[13/50] - time: 1238.53, Disc loss: 0.441, Gen loss: 3.349, Con loss: 9.114\n",
      "[14/50] - time: 1238.49, Disc loss: 0.324, Gen loss: 3.871, Con loss: 8.741\n",
      "[15/50] - time: 1238.42, Disc loss: 0.293, Gen loss: 3.804, Con loss: 9.077\n",
      "[16/50] - time: 1238.55, Disc loss: 0.247, Gen loss: 4.080, Con loss: 9.277\n",
      "[17/50] - time: 1238.22, Disc loss: 0.126, Gen loss: 4.881, Con loss: 8.098\n",
      "[18/50] - time: 1238.61, Disc loss: 0.141, Gen loss: 5.759, Con loss: 8.764\n",
      "[19/50] - time: 1238.69, Disc loss: 0.507, Gen loss: 2.949, Con loss: 8.504\n",
      "[20/50] - time: 1238.57, Disc loss: 0.401, Gen loss: 3.540, Con loss: 8.584\n",
      "[21/50] - time: 1238.67, Disc loss: 0.422, Gen loss: 3.307, Con loss: 9.043\n",
      "[22/50] - time: 1238.54, Disc loss: 0.383, Gen loss: 3.513, Con loss: 8.971\n",
      "[23/50] - time: 1238.53, Disc loss: 0.400, Gen loss: 3.441, Con loss: 9.159\n",
      "[24/50] - time: 1239.29, Disc loss: 0.479, Gen loss: 3.199, Con loss: 9.441\n",
      "[25/50] - time: 1239.24, Disc loss: 0.384, Gen loss: 3.512, Con loss: 8.805\n",
      "[26/50] - time: 1239.04, Disc loss: 0.399, Gen loss: 2.491, Con loss: 9.394\n",
      "[27/50] - time: 1239.01, Disc loss: 0.360, Gen loss: 2.706, Con loss: 9.341\n",
      "[28/50] - time: 1238.84, Disc loss: 0.383, Gen loss: 2.687, Con loss: 9.513\n",
      "[29/50] - time: 1238.71, Disc loss: 0.459, Gen loss: 2.507, Con loss: 9.223\n",
      "[30/50] - time: 1238.66, Disc loss: 0.368, Gen loss: 2.754, Con loss: 8.436\n",
      "[31/50] - time: 1238.64, Disc loss: 0.418, Gen loss: 2.643, Con loss: 9.053\n",
      "[32/50] - time: 1238.51, Disc loss: 0.438, Gen loss: 2.670, Con loss: 8.987\n",
      "[33/50] - time: 1238.68, Disc loss: 0.428, Gen loss: 2.570, Con loss: 9.412\n"
     ]
    }
   ],
   "source": [
    "print('training start!')\n",
    "start_time = time.time()\n",
    "real = torch.ones(batch_size, 1, input_size // 4, input_size // 4).to(device)\n",
    "fake = torch.zeros(batch_size, 1, input_size // 4, input_size // 4).to(device)\n",
    "for epoch in range(train_epoch):\n",
    "    epoch_start_time = time.time()\n",
    "    G.train()\n",
    "    G_scheduler.step()\n",
    "    D_scheduler.step()\n",
    "    Disc_losses = []\n",
    "    Gen_losses = []\n",
    "    Con_losses = []\n",
    "    for (x, _), (y, _) in zip(train_loader_src, train_loader_tgt):\n",
    "        e = y[:, :, :, input_size:]\n",
    "        y = y[:, :, :, :input_size]\n",
    "        x, y, e = x.to(device), y.to(device), e.to(device)\n",
    "\n",
    "        # train D\n",
    "        D_optimizer.zero_grad()\n",
    "\n",
    "        D_real = D(y)\n",
    "        D_real_loss = BCE_loss(D_real, real)\n",
    "\n",
    "        G_ = G(x)\n",
    "        D_fake = D(G_)\n",
    "        D_fake_loss = BCE_loss(D_fake, fake)\n",
    "\n",
    "        D_edge = D(e)\n",
    "        D_edge_loss = BCE_loss(D_edge, fake)\n",
    "\n",
    "        Disc_loss = D_real_loss + D_fake_loss + D_edge_loss\n",
    "        Disc_losses.append(Disc_loss.item())\n",
    "        train_hist['Disc_loss'].append(Disc_loss.item())\n",
    "\n",
    "        Disc_loss.backward()\n",
    "        D_optimizer.step()\n",
    "\n",
    "        # train G\n",
    "        G_optimizer.zero_grad()\n",
    "\n",
    "        G_ = G(x)\n",
    "        D_fake = D(G_)\n",
    "        D_fake_loss = BCE_loss(D_fake, real)\n",
    "\n",
    "        x_feature = VGG((x + 1) / 2)\n",
    "        G_feature = VGG((G_ + 1) / 2)\n",
    "        Con_loss = con_lambda * L1_loss(G_feature, x_feature.detach())\n",
    "\n",
    "#         Gen_loss = D_fake_loss + Con_loss\n",
    "#         Gen_loss = D_fake_loss\n",
    "        Gen_loss = D_fake_loss + 0.5 * Con_loss\n",
    "\n",
    "        Gen_losses.append(D_fake_loss.item())\n",
    "        train_hist['Gen_loss'].append(D_fake_loss.item())\n",
    "        Con_losses.append(Con_loss.item())\n",
    "        train_hist['Con_loss'].append(Con_loss.item())\n",
    "\n",
    "        Gen_loss.backward()\n",
    "        G_optimizer.step()\n",
    "\n",
    "\n",
    "    per_epoch_time = time.time() - epoch_start_time\n",
    "    train_hist['per_epoch_time'].append(per_epoch_time)\n",
    "    \n",
    "    Gen_loss_avg = torch.mean(torch.FloatTensor(Gen_losses))\n",
    "    Con_loss_avg = torch.mean(torch.FloatTensor(Con_losses))\n",
    "    Disc_loss_avg =  torch.mean(torch.FloatTensor(Disc_losses))\n",
    "    \n",
    "    train_hist['Gen_loss_one_epoch'].append(Gen_loss_avg)\n",
    "    train_hist['Disc_loss_one_epoch'].append(Disc_loss_avg)\n",
    "    train_hist['Con_loss_one_epoch'].append(Con_loss_avg)\n",
    "    \n",
    "    print(\n",
    "    '[%d/%d] - time: %.2f, Disc loss: %.3f, Gen loss: %.3f, Con loss: %.3f' % ((epoch + 1), train_epoch, per_epoch_time, Disc_loss_avg, Gen_loss_avg, Con_loss_avg))\n",
    "\n",
    "    with torch.no_grad():\n",
    "        G.eval()\n",
    "        for n, (x, _) in enumerate(train_loader_src):\n",
    "            x = x.to(device)\n",
    "            G_recon = G(x)\n",
    "            result = torch.cat((x[0], G_recon[0]), 2)\n",
    "            path = os.path.join(name + '_results', 'Transfer', str(epoch+1) + '_epoch_' + name + '_train_' + str(n + 1) + '.png')\n",
    "            plt.imsave(path, (result.cpu().numpy().transpose(1, 2, 0) + 1) / 2)\n",
    "            if n == 4:\n",
    "                break\n",
    "\n",
    "        for n, (x, _) in enumerate(test_loader_src):\n",
    "            x = x.to(device)\n",
    "            G_recon = G(x)\n",
    "            result = torch.cat((x[0], G_recon[0]), 2)\n",
    "            path = os.path.join(name + '_results', 'Transfer', str(epoch+1) + '_epoch_' + name + '_test_' + str(n + 1) + '.png')\n",
    "            plt.imsave(path, (result.cpu().numpy().transpose(1, 2, 0) + 1) / 2)\n",
    "            if n == 4:\n",
    "                break\n",
    "\n",
    "        torch.save(G.state_dict(), os.path.join(name + '_results', 'generator_latest.pkl'))\n",
    "        torch.save(D.state_dict(), os.path.join(name + '_results', 'discriminator_latest.pkl'))\n",
    "\n",
    "total_time = time.time() - start_time\n",
    "train_hist['total_time'].append(total_time)\n",
    "\n",
    "print(\"Avg one epoch time: %.2f, total %d epochs time: %.2f\" % (torch.mean(torch.FloatTensor(train_hist['per_epoch_time'])), train_epoch, total_time))"
   ]
  },
  {
   "cell_type": "code",
   "execution_count": 27,
   "metadata": {},
   "outputs": [],
   "source": [
    "torch.save(G.state_dict(), os.path.join(name + '_results',  'generator_param.pkl'))\n",
    "torch.save(D.state_dict(), os.path.join(name + '_results',  'discriminator_param.pkl'))\n",
    "with open(os.path.join(name + '_results',  'train_hist.pkl'), 'wb') as f:\n",
    "    pickle.dump(train_hist, f)"
   ]
  }
 ],
 "metadata": {
  "kernelspec": {
   "display_name": "Python 3",
   "language": "python",
   "name": "python3"
  },
  "language_info": {
   "codemirror_mode": {
    "name": "ipython",
    "version": 3
   },
   "file_extension": ".py",
   "mimetype": "text/x-python",
   "name": "python",
   "nbconvert_exporter": "python",
   "pygments_lexer": "ipython3",
   "version": "3.5.5"
  }
 },
 "nbformat": 4,
 "nbformat_minor": 2
}
