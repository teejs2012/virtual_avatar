{
 "cells": [
  {
   "cell_type": "code",
   "execution_count": null,
   "metadata": {},
   "outputs": [],
   "source": [
    "import os, time, pickle, json\n",
    "from lib import networks, utils\n",
    "import torch\n",
    "import torch.nn as nn\n",
    "import torch.optim as optim\n",
    "import matplotlib.pyplot as plt\n",
    "from torchvision import transforms\n",
    "from torchvision import datasets"
   ]
  },
  {
   "cell_type": "code",
   "execution_count": null,
   "metadata": {},
   "outputs": [],
   "source": [
    "device = torch.device('cuda' if torch.cuda.is_available() else 'cpu')\n",
    "if torch.backends.cudnn.enabled:\n",
    "    torch.backends.cudnn.benchmark = True\n",
    "device"
   ]
  },
  {
   "cell_type": "markdown",
   "metadata": {},
   "source": [
    "### Hyper-parameters"
   ]
  },
  {
   "cell_type": "code",
   "execution_count": null,
   "metadata": {},
   "outputs": [],
   "source": [
    "#input channel for generator\n",
    "in_ngc=3\n",
    "#output channel for generator\n",
    "out_ngc=3\n",
    "#input channel for discriminator\n",
    "in_ndc=3\n",
    "#output channel for discriminator\n",
    "out_ndc=1\n",
    "\n",
    "batch_size=7\n",
    "ngf=64\n",
    "ndf=32\n",
    "#the number of resnet block layer for generator\n",
    "nb=8\n",
    "#input size\n",
    "input_size=256\n",
    "train_epoch=20\n",
    "\n",
    "#Discriminator learning rate, default=0.0002\n",
    "lrD=0.0002\n",
    "#Generator learning rate, default=0.0002\n",
    "lrG=0.0002\n",
    "\n",
    "lrC = 0.0002\n",
    "#lambda for content loss\n",
    "con_lambda=1\n",
    "#beta1 for Adam optimizer\n",
    "beta1=0.5\n",
    "#beta2 for Adam optimizer\n",
    "beta2=0.999"
   ]
  },
  {
   "cell_type": "markdown",
   "metadata": {},
   "source": [
    "### Folder structure"
   ]
  },
  {
   "cell_type": "code",
   "execution_count": null,
   "metadata": {},
   "outputs": [],
   "source": [
    "# results save path\n",
    "project_name = 'XGAN_1'\n",
    "result_path = project_name+'_results'\n",
    "if not os.path.isdir(os.path.join(project_name, 'G_S')):\n",
    "    os.makedirs(os.path.join(name + '_results', '_G_S'))\n",
    "if not os.path.isdir(os.path.join(project_name, 'G_T')):\n",
    "    os.makedirs(os.path.join(name + '_results', 'G_T'))\n",
    "\n",
    "#ensure data folder exists\n",
    "if not os.path.isdir(os.path.join('data',tgt_data,'train')):\n",
    "    os.makedirs(os.path.join('data',tgt_data,'train'))\n",
    "if not os.path.isdir(os.path.join('data',tgt_data,'test')):\n",
    "    os.makedirs(os.path.join('data',tgt_data,'test'))\n",
    "if not os.path.isdir(os.path.join('data',src_data,'train')):\n",
    "    os.makedirs(os.path.join('data',src_data,'train'))\n",
    "if not os.path.isdir(os.path.join('data',src_data,'test')):\n",
    "    os.makedirs(os.path.join('data',src_data,'test'))"
   ]
  },
  {
   "cell_type": "markdown",
   "metadata": {},
   "source": [
    "### Load Data"
   ]
  },
  {
   "cell_type": "code",
   "execution_count": null,
   "metadata": {},
   "outputs": [],
   "source": [
    "# data_loader\n",
    "transform = transforms.Compose([\n",
    "        transforms.Resize((input_size, input_size)),\n",
    "        transforms.ToTensor(),\n",
    "        transforms.Normalize(mean=(0.5, 0.5, 0.5), std=(0.5, 0.5, 0.5))\n",
    "])\n",
    "train_loader_S = utils.data_load(os.path.join('data', src_data), 'train', transform, batch_size, shuffle=True, drop_last=True)\n",
    "train_loader_T = utils.data_load(os.path.join('data', tgt_data), 'train', transform, batch_size, shuffle=True, drop_last=True)\n",
    "test_loader_S = utils.data_load(os.path.join('data', src_data), 'test', transform, 1, shuffle=True, drop_last=True)"
   ]
  },
  {
   "cell_type": "markdown",
   "metadata": {},
   "source": [
    "### Model define"
   ]
  },
  {
   "cell_type": "code",
   "execution_count": null,
   "metadata": {},
   "outputs": [],
   "source": [
    "# network\n",
    "G = networks.xgan_generator()\n",
    "D = networks.discriminator(in_ndc, out_ndc, ndf)\n",
    "C = networks.latent_classifier()\n",
    "\n",
    "G.to(device)\n",
    "D.to(device)\n",
    "C.to(device)"
   ]
  },
  {
   "cell_type": "code",
   "execution_count": null,
   "metadata": {},
   "outputs": [],
   "source": [
    "# loss\n",
    "MSE_loss = nn.MSELoss().to(device)\n",
    "L1_loss = nn.L1Loss().to(device)\n",
    "Cross_Entropy_loss = nn.CrossEntropyLoss().to(device)"
   ]
  },
  {
   "cell_type": "code",
   "execution_count": null,
   "metadata": {},
   "outputs": [],
   "source": [
    "G_optimizer = optim.Adam(G.parameters(), lr=lrG, betas=(beta1, beta2))\n",
    "D_optimizer = optim.Adam(D.parameters(), lr=lrD, betas=(beta1, beta2))\n",
    "C_optimizer = optim.Adam(C.parameters(), lr=lrC, betas=(beta1,beta2))"
   ]
  },
  {
   "cell_type": "markdown",
   "metadata": {},
   "source": [
    "### Load existing model parameters"
   ]
  },
  {
   "cell_type": "code",
   "execution_count": null,
   "metadata": {},
   "outputs": [],
   "source": [
    "G.load_state_dict(torch.load(os.path.join(name + '_results', 'G.pkl')))\n",
    "C.load_state_dict(torch.load(os.path.join(name + '_results', 'C.pkl')))\n",
    "D.load_state_dict(torch.load(os.path.join(name + '_results', 'D.pkl')))"
   ]
  },
  {
   "cell_type": "markdown",
   "metadata": {},
   "source": [
    "### Load train hist"
   ]
  },
  {
   "cell_type": "code",
   "execution_count": null,
   "metadata": {},
   "outputs": [],
   "source": [
    "with open(os.path.join(name + '_results', 'train_hist.pkl'), 'rb') as pickle_file:\n",
    "    train_hist = pickle.load(pickle_file)"
   ]
  },
  {
   "cell_type": "markdown",
   "metadata": {},
   "source": [
    "### Starting epoch"
   ]
  },
  {
   "cell_type": "code",
   "execution_count": null,
   "metadata": {},
   "outputs": [],
   "source": [
    "#starting_epoch is used to avoid overriding of the previously generated results\n",
    "starting_epoch = 0"
   ]
  },
  {
   "cell_type": "markdown",
   "metadata": {},
   "source": [
    "### Train"
   ]
  },
  {
   "cell_type": "code",
   "execution_count": null,
   "metadata": {},
   "outputs": [],
   "source": [
    "print('training start!')\n",
    "start_time = time.time()\n",
    "num_pool = 50\n",
    "fake_pool = utils.ImagePool(num_pool)\n",
    "# fake_B_pool = utils.ImagePool(num_pool)\n",
    "for epoch in range(train_epoch):\n",
    "    epoch_start_time = time.time()\n",
    "    print(\"==> Epoch {}/{}\".format(epoch + 1, train_epoch))\n",
    "#     if (epoch + 1) > decay_epoch:\n",
    "#         D_A_optimizer.param_groups[0]['lr'] -= lrD / 10\n",
    "#         D_B_optimizer.param_groups[0]['lr'] -= lrD / 10\n",
    "#         G_optimizer.param_groups[0]['lr'] -= lrG / 10\n",
    "    \n",
    "    G_losses = []\n",
    "    D_losses = []\n",
    "    C_losses = []\n",
    "    for (real_S,_),(real_T,_) in zip(train_loader_S, train_loader_T):\n",
    "        G.train()\n",
    "\n",
    "        # input image data\n",
    "        real_S = real_S.to(device)\n",
    "        real_T = real_T.to(device)\n",
    "\n",
    "        # Train generator G\n",
    "        # S->T\n",
    "        real_S_latent = G.enc_s2t(real_S)     \n",
    "        real_S_recon = G.dec_t2s(real_S_latent)\n",
    "        fake_T = G.dec_s2t(real_S_latent)\n",
    "        fake_T_latent = G.enc_t2s(fake_T)\n",
    "              \n",
    "        #T->S\n",
    "        real_T_latent = G.enc_t2s(real_T)     \n",
    "        real_T_recon = G.dec_s2t(real_T_latent)      \n",
    "        fake_S = G.dec_t2s(real_T_latent)\n",
    "        fake_S_latent = G.enc_s2t(fake_S)\n",
    "        \n",
    "        # rec loss\n",
    "        G_S_rec_loss = L1_loss(real_S, real_S_recon)\n",
    "        G_T_rec_loss = L1_loss(real_T, real_T_recon)\n",
    "        \n",
    "        # semantic loss\n",
    "        G_S_sem_loss = MSE_loss(real_S_latent,fake_T_latent)\n",
    "        G_T_sem_loss = MSE_loss(real_T_latent, fake_S_latent)\n",
    "        \n",
    "        # gan loss\n",
    "        D_decision = D(fake_T)\n",
    "        G_gan_loss = MSE_loss(D_decision, torch.ones(D_decision.size(), device=device))\n",
    "\n",
    "        # domain adversarial loss\n",
    "        # source should be 0, so we want it to classify as 1, target should be 1, so we want it to classify as 0\n",
    "        C_S_decision = C(real_S_latent)\n",
    "        C_T_decision = C(real_T_latent)\n",
    "        G_dann_loss = Cross_Entropy_loss(C_S_decision, torch.ones(C_S_decision.size(),device=device)) + Cross_Entropy_loss(C_T_decision, torch.zeros(C_T_decision.size(),device=device))     \n",
    "        \n",
    "        #fix D and C parameters\n",
    "        for model in [D, C]:\n",
    "            for param in model.parameters():\n",
    "                param.requires_grad = False\n",
    "        \n",
    "        # Back propagation\n",
    "        G_loss = G_S_rec_loss + G_T_rec_loss + G_S_sem_loss + G_T_sem_loss + G_gan_loss + G_dann_loss\n",
    "        G_losses.append(G_loss)\n",
    "        G_optimizer.zero_grad()\n",
    "        G_loss.backward()\n",
    "        G_optimizer.step()\n",
    "\n",
    "        #train D and C parameters\n",
    "        for model in [D, C]:\n",
    "            for param in model.parameters():\n",
    "                param.requires_grad = True\n",
    "                \n",
    "        # Train discriminator D\n",
    "        D_real_decision = D(real_S)\n",
    "        D_real_loss = MSE_loss(D_real_decision, torch.ones(D_real_decision.size(), device=device))\n",
    "        fake_T = fake_pool.query(fake_T)\n",
    "        D_fake_decision = D_A(fake_T)\n",
    "        D_fake_loss = MSE_loss(D_fake_decision, torch.zeros(D_fake_decision.size(), device=device))\n",
    "        D_loss = (D_real_loss + D_fake_loss) * 0.5\n",
    "        D_losses.append(D_loss)\n",
    "        D_optimizer.zero_grad()\n",
    "        D_loss.backward()\n",
    "        D_optimizer.step()\n",
    "\n",
    "        #Train classifier C\n",
    "        C_loss = Cross_Entropy_loss(C_S_decision, torch.zeros(C_S_decision.size(),device=device)) + Cross_Entropy_loss(C_T_decision, torch.ones(C_T_decision.size(),device=device))     \n",
    "        C_losses.append(C_loss)\n",
    "        C_optimizer.zero_grad()\n",
    "        C_loss.backward()\n",
    "        C_optimizer.step()\n",
    "        \n",
    "    per_epoch_time = time.time() - epoch_start_time\n",
    "    train_hist['per_epoch_time'].append(per_epoch_time)\n",
    "    \n",
    "    G_loss_avg = float(torch.mean(torch.FloatTensor(G_losses)).cpu().numpy())\n",
    "    D_loss_avg = float(torch.mean(torch.FloatTensor(D_losses)).cpu().numpy())\n",
    "    C_loss_avg = float(torch.mean(torch.FloatTensor(C_losses)).cpu().numpy())\n",
    "\n",
    "    train_hist['G_loss_one_epoch'].append(G_loss_avg)\n",
    "    train_hist['D_loss_one_epoch'].append(D_loss_avg)\n",
    "    train_hist['C_loss_one_epoch'].append(C_loss_avg)\n",
    "\n",
    "    \n",
    "    print(\n",
    "    '[%d/%d] - time: %.2f, G loss: %.3f, D loss: %.3f' % ((epoch + 1), train_epoch, per_epoch_time, G_loss_avg, D_loss_avg))\n",
    "    \n",
    "    #Save image result\n",
    "    with torch.no_grad():\n",
    "        G.eval()\n",
    "        for n, (x, _) in enumerate(train_loader_S):\n",
    "            x = x.to(device)\n",
    "            G_latent = G.enc_s2t(x)\n",
    "            G_result = G.dec_s2t(G_latent)\n",
    "            G_recon = G.dec_t2s(G_latent)\n",
    "            result = torch.cat((x[0], G_result[0], G_recon[0]), 2)\n",
    "            path = os.path.join(name + '_results', 'G_S', str(epoch+starting_epoch) + '_epoch_'  + '_train_' + str(n + 1) + '.png')\n",
    "            plt.imsave(path, (result.cpu().numpy().transpose(1, 2, 0) + 1) / 2)\n",
    "            if n == 4:\n",
    "                break\n",
    "\n",
    "        for n, (x,_) in enumerate(train_loader_T):\n",
    "            x = x.to(device)\n",
    "            G_latent = G.enc_t2s(x)\n",
    "            G_result = G.dec_t2s(G_latent)\n",
    "            G_recon = G.dec_s2t(G_latent)\n",
    "            result = torch.cat((x[0],G_result[0],G_recon[0]),2)\n",
    "            path = os.path.join(name+'_results','G_T',str(epoch+starting_epoch) + '_epoch_' +'_train_'+str(n+1)+'.png')\n",
    "            plt.imsave(path, (result.cpu().numpy().transpose(1, 2, 0) + 1) / 2)\n",
    "            if n == 4:\n",
    "                break\n",
    "                \n",
    "        torch.save(G.state_dict(), os.path.join(name + '_results', 'G.pkl'))\n",
    "        torch.save(D.state_dict(), os.path.join(name + '_results', 'D.pkl'))\n",
    "        torch.save(C.state_dict(), os.path.join(name + '_results', 'C.pkl'))\n"
   ]
  }
 ],
 "metadata": {
  "kernelspec": {
   "display_name": "Python 3",
   "language": "python",
   "name": "python3"
  },
  "language_info": {
   "codemirror_mode": {
    "name": "ipython",
    "version": 3
   },
   "file_extension": ".py",
   "mimetype": "text/x-python",
   "name": "python",
   "nbconvert_exporter": "python",
   "pygments_lexer": "ipython3",
   "version": "3.5.5"
  }
 },
 "nbformat": 4,
 "nbformat_minor": 2
}
