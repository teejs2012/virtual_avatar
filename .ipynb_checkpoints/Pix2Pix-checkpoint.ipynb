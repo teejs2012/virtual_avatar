{
 "cells": [
  {
   "cell_type": "code",
   "execution_count": 1,
   "metadata": {},
   "outputs": [],
   "source": [
    "import os, time, pickle\n",
    "from lib import networks, utils\n",
    "import torch\n",
    "import torch.nn as nn\n",
    "import torch.optim as optim\n",
    "import matplotlib.pyplot as plt\n",
    "from torchvision import transforms\n",
    "from torchvision import datasets"
   ]
  },
  {
   "cell_type": "code",
   "execution_count": 2,
   "metadata": {},
   "outputs": [
    {
     "data": {
      "text/plain": [
       "device(type='cuda', index=3)"
      ]
     },
     "execution_count": 2,
     "metadata": {},
     "output_type": "execute_result"
    }
   ],
   "source": [
    "device = torch.device('cuda:3' if torch.cuda.is_available() else 'cpu')\n",
    "if torch.backends.cudnn.enabled:\n",
    "    torch.backends.cudnn.benchmark = True\n",
    "device"
   ]
  },
  {
   "cell_type": "markdown",
   "metadata": {},
   "source": [
    "### Hyper-parameters"
   ]
  },
  {
   "cell_type": "code",
   "execution_count": 3,
   "metadata": {},
   "outputs": [],
   "source": [
    "#input channel for generator\n",
    "in_ngc=3\n",
    "#output channel for generator\n",
    "out_ngc=3\n",
    "#input channel for discriminator\n",
    "in_ndc=6\n",
    "#output channel for discriminator\n",
    "out_ndc=1\n",
    "\n",
    "batch_size=1\n",
    "#number of filters in the first layer of generator\n",
    "ngf=64\n",
    "#number of filters in the first layer of discriminator\n",
    "ndf=32\n",
    "#the number of resnet block layer for generator\n",
    "# nb=9\n",
    "#input size\n",
    "input_size=64\n",
    "train_epoch=300\n",
    "\n",
    "#Discriminator learning rate, default=0.0002\n",
    "lrD=0.0002\n",
    "#Generator learning rate, default=0.0002\n",
    "lrG=0.0002\n",
    "#lambda for content loss\n",
    "con_lambda=5\n",
    "#beta1 for Adam optimizer\n",
    "beta1=0.5\n",
    "#beta2 for Adam optimizer\n",
    "beta2=0.999\n",
    "\n",
    "# n_downsampling = 3"
   ]
  },
  {
   "cell_type": "code",
   "execution_count": 4,
   "metadata": {},
   "outputs": [],
   "source": [
    "project_name = 'pix2pix_mouth_1'\n",
    "result_path = project_name+'_results'\n",
    "data_name = '/data/pix2pix/mouth_train'\n",
    "# data_name = 'data/combine_w_blur_curated'\n",
    "test_data_name = 'data/mouth_test'\n",
    "# results save path\n",
    "if not os.path.isdir(result_path):\n",
    "    os.makedirs(result_path)\n",
    "#ensure data folder exists\n",
    "if not os.path.isdir(data_name):\n",
    "    os.makedirs(data_name)\n",
    "    print(\"data folder does not exist!!\")\n"
   ]
  },
  {
   "cell_type": "code",
   "execution_count": 5,
   "metadata": {},
   "outputs": [],
   "source": [
    "# data_loader\n",
    "train_transform = transforms.Compose([\n",
    "        transforms.Resize((input_size, 2*input_size)),\n",
    "        transforms.ColorJitter(0.1,0.1,0.1,0.1),\n",
    "#         transforms.RandomVerticalFlip(),\n",
    "        transforms.ToTensor(),\n",
    "        transforms.Normalize(mean=(0.5, 0.5, 0.5), std=(0.5, 0.5, 0.5))\n",
    "])\n",
    "\n",
    "test_transform = transforms.Compose([\n",
    "        transforms.Resize((input_size, input_size)),\n",
    "        transforms.ColorJitter(0.1,0.1,0.1,0.1),\n",
    "        transforms.ToTensor(),\n",
    "        transforms.Normalize(mean=(0.5, 0.5, 0.5), std=(0.5, 0.5, 0.5))\n",
    "])\n",
    "\n",
    "# train_loader = utils.data_load(data_name, 'train', train_transform, batch_size, shuffle=False, drop_last=True)\n",
    "# test_loader = utils.data_load(data_name, 'test', train_transform, batch_size, shuffle=False, drop_last=True)\n",
    "train_loader = torch.utils.data.DataLoader(datasets.ImageFolder(data_name, train_transform), batch_size=batch_size, shuffle=True, drop_last=True)\n",
    "test_loader = torch.utils.data.DataLoader(datasets.ImageFolder(test_data_name, test_transform), batch_size=1, shuffle=True, drop_last=True)"
   ]
  },
  {
   "cell_type": "code",
   "execution_count": 6,
   "metadata": {},
   "outputs": [
    {
     "name": "stdout",
     "output_type": "stream",
     "text": [
      "---------- Networks initialized -------------\n",
      "G has 29244035 number of parameters\n",
      "D has 1129249 number of parameters\n",
      "-----------------------------------------------\n"
     ]
    }
   ],
   "source": [
    "# network\n",
    "\n",
    "# G = networks.generator(in_ngc, out_ngc, ngf, nb)\n",
    "G = networks.UnetGenerator(in_ngc, out_ngc, 6, ngf)\n",
    "D = networks.discriminator(in_ndc, out_ndc, ndf, False)\n",
    "# D = networks.wgan_discriminator(in_ndc, ndf, input_size, n_downsampling)\n",
    "\n",
    "G.to(device)\n",
    "D.to(device)\n",
    "G.train()\n",
    "D.train();\n",
    "print('---------- Networks initialized -------------')\n",
    "for name,model in [('G',G),('D',D)]:\n",
    "    num_params = 0\n",
    "    for param in model.parameters():\n",
    "        num_params += param.numel()\n",
    "    print(str.format('{} has {} number of parameters', name, num_params))\n",
    "print('-----------------------------------------------')"
   ]
  },
  {
   "cell_type": "code",
   "execution_count": 7,
   "metadata": {},
   "outputs": [],
   "source": [
    "# loss\n",
    "# GAN_loss = nn.BCELoss().to(device)\n",
    "GAN_loss = nn.MSELoss().to(device)\n",
    "L1_loss = nn.L1Loss().to(device)\n",
    "# def D_loss_criterion(D_decision):\n",
    "#     return D_decision.mean()"
   ]
  },
  {
   "cell_type": "code",
   "execution_count": 8,
   "metadata": {},
   "outputs": [],
   "source": [
    "# Adam optimizer\n",
    "G_optimizer = optim.Adam(G.parameters(), lr=lrG, betas=(beta1, beta2))\n",
    "D_optimizer = optim.Adam(D.parameters(), lr=lrD, betas=(beta1, beta2))\n",
    "G_scheduler = optim.lr_scheduler.MultiStepLR(optimizer=G_optimizer, milestones=[train_epoch // 2, train_epoch // 4 * 3], gamma=0.1)\n",
    "D_scheduler = optim.lr_scheduler.MultiStepLR(optimizer=D_optimizer, milestones=[train_epoch // 2, train_epoch // 4 * 3], gamma=0.1)"
   ]
  },
  {
   "cell_type": "code",
   "execution_count": 9,
   "metadata": {},
   "outputs": [],
   "source": [
    "train_hist = {}\n",
    "train_hist['Disc_loss'] = []\n",
    "train_hist['Gen_loss'] = []\n",
    "train_hist['Con_loss'] = []\n",
    "train_hist['per_epoch_time'] = []\n",
    "train_hist['Gen_loss_one_epoch']=[]\n",
    "train_hist['Disc_loss_one_epoch']=[]\n",
    "train_hist['Con_loss_one_epoch']=[]"
   ]
  },
  {
   "cell_type": "code",
   "execution_count": 10,
   "metadata": {},
   "outputs": [],
   "source": [
    "#starting_epoch is used to avoid overriding of the previously generated results\n",
    "starting_epoch = 0"
   ]
  },
  {
   "cell_type": "code",
   "execution_count": null,
   "metadata": {
    "scrolled": true
   },
   "outputs": [
    {
     "name": "stdout",
     "output_type": "stream",
     "text": [
      "training start!\n",
      "[1/300] - time: 15.12, Disc loss: 0.173, Gen loss: 0.492, Con loss: 1.437\n",
      "[2/300] - time: 15.20, Disc loss: 0.164, Gen loss: 0.525, Con loss: 1.459\n",
      "[3/300] - time: 14.92, Disc loss: 0.160, Gen loss: 0.537, Con loss: 1.476\n",
      "[4/300] - time: 14.88, Disc loss: 0.158, Gen loss: 0.515, Con loss: 1.455\n",
      "[5/300] - time: 15.04, Disc loss: 0.160, Gen loss: 0.518, Con loss: 1.467\n",
      "[6/300] - time: 14.88, Disc loss: 0.140, Gen loss: 0.610, Con loss: 1.466\n",
      "[7/300] - time: 14.95, Disc loss: 0.123, Gen loss: 0.633, Con loss: 1.493\n",
      "[8/300] - time: 14.93, Disc loss: 0.113, Gen loss: 0.643, Con loss: 1.473\n",
      "[9/300] - time: 16.84, Disc loss: 0.112, Gen loss: 0.662, Con loss: 1.478\n",
      "[10/300] - time: 15.17, Disc loss: 0.078, Gen loss: 0.767, Con loss: 1.472\n",
      "[11/300] - time: 15.01, Disc loss: 0.063, Gen loss: 0.808, Con loss: 1.438\n",
      "[12/300] - time: 14.71, Disc loss: 0.075, Gen loss: 0.765, Con loss: 1.474\n",
      "[13/300] - time: 15.86, Disc loss: 0.070, Gen loss: 0.785, Con loss: 1.447\n",
      "[14/300] - time: 15.25, Disc loss: 0.087, Gen loss: 0.741, Con loss: 1.438\n",
      "[15/300] - time: 14.95, Disc loss: 0.082, Gen loss: 0.737, Con loss: 1.462\n",
      "[16/300] - time: 14.91, Disc loss: 0.048, Gen loss: 0.852, Con loss: 1.405\n",
      "[17/300] - time: 14.99, Disc loss: 0.027, Gen loss: 0.915, Con loss: 1.419\n",
      "[18/300] - time: 16.35, Disc loss: 0.012, Gen loss: 0.947, Con loss: 1.365\n",
      "[19/300] - time: 16.25, Disc loss: 0.003, Gen loss: 0.985, Con loss: 1.322\n",
      "[20/300] - time: 14.96, Disc loss: 0.003, Gen loss: 0.990, Con loss: 1.290\n",
      "[21/300] - time: 15.02, Disc loss: 0.001, Gen loss: 0.994, Con loss: 1.274\n",
      "[22/300] - time: 15.38, Disc loss: 0.001, Gen loss: 0.995, Con loss: 1.269\n",
      "[23/300] - time: 16.05, Disc loss: 0.001, Gen loss: 0.996, Con loss: 1.263\n",
      "[24/300] - time: 15.44, Disc loss: 0.002, Gen loss: 0.999, Con loss: 1.232\n",
      "[25/300] - time: 15.26, Disc loss: 0.001, Gen loss: 0.998, Con loss: 1.197\n",
      "[26/300] - time: 15.28, Disc loss: 0.001, Gen loss: 0.996, Con loss: 1.181\n",
      "[27/300] - time: 15.08, Disc loss: 0.016, Gen loss: 0.964, Con loss: 1.183\n",
      "[28/300] - time: 15.32, Disc loss: 0.002, Gen loss: 0.994, Con loss: 1.128\n"
     ]
    }
   ],
   "source": [
    "print('training start!')\n",
    "start_time = time.time()\n",
    "num_pool = 50\n",
    "fake_pool = utils.ImagePool(num_pool)\n",
    "for epoch in range(train_epoch):\n",
    "    epoch_start_time = time.time()\n",
    "    G.train()\n",
    "    G_scheduler.step()\n",
    "    D_scheduler.step()\n",
    "    Disc_losses = []\n",
    "    Gen_losses = []\n",
    "    Con_losses = []\n",
    "    for d, _ in train_loader:\n",
    "        # x is the image at left, the source image\n",
    "        # y is the image at right, the target image\n",
    "        x = d[:, :, :, :input_size]\n",
    "        y = d[:, :, :, input_size:input_size*2]\n",
    "        x, y= x.to(device), y.to(device)\n",
    "        \n",
    "        # train D\n",
    "        for param in D.parameters():\n",
    "            param.requires_grad = True\n",
    "        D_optimizer.zero_grad()\n",
    "\n",
    "        real = torch.cat((y,x),1)\n",
    "        D_real = D(real)\n",
    "#         D_real_loss = D_loss_criterion(D_real)\n",
    "#         D_real_loss = GAN_loss(D_real, 1-torch.rand(D_real.size(),device = device)/10.0)\n",
    "        D_real_loss = GAN_loss(D_real, torch.ones(D_real.size(),device = device))\n",
    "\n",
    "        with torch.no_grad():\n",
    "            G_ = G(x)\n",
    "        generated = torch.cat((G_,x), 1)\n",
    "        generated = fake_pool.query(generated.detach())\n",
    "        D_fake = D(generated)\n",
    "#         D_fake_loss = D_loss_criterion(D_fake)\n",
    "#         D_fake_loss = GAN_loss(D_fake, torch.rand(D_fake.size(),device = device)/10.0)\n",
    "        D_fake_loss = GAN_loss(D_fake, torch.zeros(D_fake.size(),device = device))\n",
    "\n",
    "        Disc_loss = 0.5*(D_real_loss + D_fake_loss)\n",
    "        Disc_losses.append(Disc_loss.item())\n",
    "        train_hist['Disc_loss'].append(Disc_loss.item())\n",
    "        Disc_loss.backward()\n",
    "        D_optimizer.step()\n",
    "\n",
    "        # train G\n",
    "        for param in D.parameters():\n",
    "            param.requires_grad = False\n",
    "        G_optimizer.zero_grad()\n",
    "\n",
    "        G_ = G(x)\n",
    "        generated = torch.cat((G_,x), 1)\n",
    "        D_fake = D(generated)\n",
    "#         D_fake_loss = D_loss_criterion(D_fake)\n",
    "        D_fake_loss = GAN_loss(D_fake, torch.ones(D_fake.size(),device = device))\n",
    "\n",
    "        Con_loss = con_lambda * L1_loss(G_, y)\n",
    "\n",
    "        Gen_loss = D_fake_loss + Con_loss\n",
    "\n",
    "        Gen_losses.append(D_fake_loss.item())\n",
    "        train_hist['Gen_loss'].append(D_fake_loss.item())\n",
    "        Con_losses.append(Con_loss.item())\n",
    "        train_hist['Con_loss'].append(Con_loss.item())\n",
    "\n",
    "        Gen_loss.backward()\n",
    "        G_optimizer.step()\n",
    "\n",
    "\n",
    "    per_epoch_time = time.time() - epoch_start_time\n",
    "    train_hist['per_epoch_time'].append(per_epoch_time)\n",
    "    \n",
    "    Gen_loss_avg = torch.mean(torch.FloatTensor(Gen_losses))\n",
    "    Con_loss_avg = torch.mean(torch.FloatTensor(Con_losses))\n",
    "    Disc_loss_avg =  torch.mean(torch.FloatTensor(Disc_losses))\n",
    "    \n",
    "    train_hist['Gen_loss_one_epoch'].append(Gen_loss_avg)\n",
    "    train_hist['Disc_loss_one_epoch'].append(Disc_loss_avg)\n",
    "    train_hist['Con_loss_one_epoch'].append(Con_loss_avg)\n",
    "    \n",
    "    print(\n",
    "    '[%d/%d] - time: %.2f, Disc loss: %.3f, Gen loss: %.3f, Con loss: %.3f' % ((starting_epoch + epoch + 1), train_epoch, per_epoch_time, Disc_loss_avg, Gen_loss_avg, Con_loss_avg))\n",
    "    \n",
    "    if(epoch%10 == 0):\n",
    "        with torch.no_grad():\n",
    "            G.eval()\n",
    "            for n, (d, _) in enumerate(train_loader):\n",
    "                x = d[:, :, :, :input_size]\n",
    "                y = d[:, :, :, input_size:input_size*2]\n",
    "                x,y = x.to(device),y.to(device)\n",
    "                G_recon = G(x)\n",
    "                result = torch.cat((x[0], G_recon[0],y[0]), 2)\n",
    "                path = os.path.join(result_path, str(starting_epoch+epoch+1) + '_epoch_' + project_name + '_train_' + str(n + 1) + '.png')\n",
    "                plt.imsave(path, (result.cpu().numpy().transpose(1, 2, 0) + 1) / 2)\n",
    "                if n == 1:\n",
    "                    break\n",
    "            for n, (d, _) in enumerate(test_loader):\n",
    "                d = d.to(device)\n",
    "                G_recon = G(d)\n",
    "                result = torch.cat((d[0], G_recon[0]), 2)\n",
    "                path = os.path.join(result_path, str(starting_epoch+epoch+1) + '_epoch_' + project_name + '_test_' + str(n + 1) + '.png')\n",
    "                plt.imsave(path, (result.cpu().numpy().transpose(1, 2, 0) + 1) / 2)\n",
    "                if n == 1:\n",
    "                    break\n",
    "    if(epoch%40 == 0):\n",
    "        torch.save(G.state_dict(), os.path.join(result_path, str(epoch)+'_generator_latest.pkl'))\n",
    "        torch.save(D.state_dict(), os.path.join(result_path, str(epoch)+'_discriminator_latest.pkl'))\n",
    "        with open(os.path.join(result_path,  'train_hist.pkl'), 'wb') as f:\n",
    "            pickle.dump(train_hist, f)\n"
   ]
  }
 ],
 "metadata": {
  "kernelspec": {
   "display_name": "Python 3",
   "language": "python",
   "name": "python3"
  },
  "language_info": {
   "codemirror_mode": {
    "name": "ipython",
    "version": 3
   },
   "file_extension": ".py",
   "mimetype": "text/x-python",
   "name": "python",
   "nbconvert_exporter": "python",
   "pygments_lexer": "ipython3",
   "version": "3.6.6"
  }
 },
 "nbformat": 4,
 "nbformat_minor": 2
}
