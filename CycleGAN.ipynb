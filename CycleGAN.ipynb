{
 "cells": [
  {
   "cell_type": "code",
   "execution_count": 1,
   "metadata": {},
   "outputs": [],
   "source": [
    "import os, time, pickle, json\n",
    "import torch\n",
    "import torch.nn as nn\n",
    "import torch.optim as optim\n",
    "import matplotlib.pyplot as plt\n",
    "from torchvision import transforms\n",
    "from lib import utils, networks\n",
    "import itertools\n",
    "from torchvision import datasets"
   ]
  },
  {
   "cell_type": "markdown",
   "metadata": {},
   "source": [
    "### Parameters "
   ]
  },
  {
   "cell_type": "code",
   "execution_count": 2,
   "metadata": {},
   "outputs": [],
   "source": [
    "#input channel for generator\n",
    "in_ngc=3\n",
    "#output channel for generator\n",
    "out_ngc=3\n",
    "#input channel for discriminator\n",
    "in_ndc=3\n",
    "#output channel for discriminator\n",
    "out_ndc=1\n",
    "batch_size=8\n",
    "ngf=64\n",
    "ndf=16\n",
    "#the number of resnet block layer for generator\n",
    "nb=5\n",
    "#input size\n",
    "input_size=64\n",
    "ng_downsampling=3\n",
    "nd_downsampling=3\n",
    "\n",
    "train_epoch=20\n",
    "#Discriminator learning rate, default=0.0002\n",
    "lrD=0.0002\n",
    "#Generator learning rate, default=0.0002\n",
    "lrG=0.0002\n",
    "#lambda for loss\n",
    "lambdaA=10\n",
    "lambdaB=10\n",
    "lambda_cycle = 1\n",
    "# lambda_idt = 1\n",
    "decay_epoch = 10\n",
    "\n",
    "#beta1 for Adam optimizer\n",
    "beta1=0.5\n",
    "#beta2 for Adam optimizer\n",
    "beta2=0.999"
   ]
  },
  {
   "cell_type": "code",
   "execution_count": 3,
   "metadata": {},
   "outputs": [],
   "source": [
    "#results path\n",
    "project_result_path='cycleGAN_4'\n",
    "cycle_A_path = os.path.join(project_result_path, 'Cycle_G_A')\n",
    "cycle_B_path = os.path.join(project_result_path, 'Cycle_G_B')\n",
    "if not os.path.isdir(cycle_A_path):\n",
    "    os.makedirs(cycle_A_path)\n",
    "if not os.path.isdir(cycle_B_path):\n",
    "    os.makedirs(cycle_B_path)\n",
    "\n",
    "#data path\n",
    "data_path = 'data'\n",
    "src_data_path= os.path.join(data_path,'src_data_path_new')\n",
    "tgt_data_path= os.path.join(data_path,'tgt_data_path')"
   ]
  },
  {
   "cell_type": "code",
   "execution_count": 4,
   "metadata": {},
   "outputs": [
    {
     "data": {
      "text/plain": [
       "device(type='cuda')"
      ]
     },
     "execution_count": 4,
     "metadata": {},
     "output_type": "execute_result"
    }
   ],
   "source": [
    "device = torch.device('cuda' if torch.cuda.is_available() else 'cpu')\n",
    "if torch.backends.cudnn.enabled:\n",
    "    torch.backends.cudnn.benchmark = True\n",
    "device"
   ]
  },
  {
   "cell_type": "code",
   "execution_count": 5,
   "metadata": {},
   "outputs": [],
   "source": [
    "# data_loader\n",
    "transform = transforms.Compose([\n",
    "        transforms.Resize((input_size, input_size)),\n",
    "        transforms.ToTensor(),\n",
    "        transforms.Normalize(mean=(0.5, 0.5, 0.5), std=(0.5, 0.5, 0.5))\n",
    "])\n",
    "\n",
    "train_loader_A = torch.utils.data.DataLoader(datasets.ImageFolder(src_data_path, transform), batch_size=batch_size, shuffle=True, drop_last=True)\n",
    "train_loader_B = torch.utils.data.DataLoader(datasets.ImageFolder(tgt_data_path, transform), batch_size=batch_size, shuffle=True, drop_last=True)\n"
   ]
  },
  {
   "cell_type": "code",
   "execution_count": 8,
   "metadata": {},
   "outputs": [],
   "source": [
    "# network\n",
    "G_A = networks.cyclegan_generator1(in_ngc, out_ngc, ngf, nb, ng_downsampling)\n",
    "G_B = networks.cyclegan_generator1(in_ngc, out_ngc, ngf, nb, ng_downsampling)\n",
    "D_A = networks.wgan_discriminator(in_ndc, ndf, input_size, nd_downsampling)\n",
    "D_B = networks.wgan_discriminator(in_ndc, ndf, input_size, nd_downsampling)\n",
    "\n",
    "G_A.to(device)\n",
    "G_B.to(device)\n",
    "D_A.to(device)\n",
    "D_B.to(device);"
   ]
  },
  {
   "cell_type": "code",
   "execution_count": 9,
   "metadata": {},
   "outputs": [],
   "source": [
    "# loss\n",
    "BCE_loss = nn.BCELoss().to(device)\n",
    "MSE_loss = nn.MSELoss().to(device)\n",
    "L1_loss = nn.L1Loss().to(device)"
   ]
  },
  {
   "cell_type": "code",
   "execution_count": 10,
   "metadata": {},
   "outputs": [],
   "source": [
    "G_optimizer = optim.Adam(itertools.chain(G_A.parameters(), G_B.parameters()), lr=lrG, betas=(beta1, beta2))\n",
    "D_A_optimizer = optim.Adam(D_A.parameters(), lr=lrD, betas=(beta1, beta2))\n",
    "D_B_optimizer = optim.Adam(D_B.parameters(), lr=lrD, betas=(beta1, beta2))"
   ]
  },
  {
   "cell_type": "code",
   "execution_count": 11,
   "metadata": {},
   "outputs": [],
   "source": [
    "train_hist = {}\n",
    "train_hist['per_epoch_time'] = []\n",
    "train_hist['total_time'] = []\n",
    "train_hist['G_loss_one_epoch']=[]\n",
    "train_hist['G_gan_loss_one_epoch']=[]\n",
    "train_hist['G_cycle_loss_one_epoch']=[]\n",
    "train_hist['G_idt_loss_one_epoch']=[]\n",
    "train_hist['D_A_loss_one_epoch']=[]\n",
    "train_hist['D_B_loss_one_epoch']=[]"
   ]
  },
  {
   "cell_type": "markdown",
   "metadata": {},
   "source": [
    "### Load existing model parameters"
   ]
  },
  {
   "cell_type": "code",
   "execution_count": 11,
   "metadata": {},
   "outputs": [],
   "source": [
    "G_A.load_state_dict(torch.load(os.path.join(project_result_path, 'G_A.pkl')))\n",
    "G_B.load_state_dict(torch.load(os.path.join(project_result_path, 'G_B.pkl')))\n",
    "D_A.load_state_dict(torch.load(os.path.join(project_result_path, 'D_A.pkl')))\n",
    "D_B.load_state_dict(torch.load(os.path.join(project_result_path, 'D_B.pkl')))"
   ]
  },
  {
   "cell_type": "markdown",
   "metadata": {},
   "source": [
    "### Load train hist"
   ]
  },
  {
   "cell_type": "code",
   "execution_count": 12,
   "metadata": {
    "collapsed": true
   },
   "outputs": [
    {
     "ename": "FileNotFoundError",
     "evalue": "[Errno 2] No such file or directory: 'cycleGAN_1_results/train_hist.json'",
     "output_type": "error",
     "traceback": [
      "\u001b[0;31m---------------------------------------------------------------------------\u001b[0m",
      "\u001b[0;31mFileNotFoundError\u001b[0m                         Traceback (most recent call last)",
      "\u001b[0;32m<ipython-input-12-ef58792cdfa8>\u001b[0m in \u001b[0;36m<module>\u001b[0;34m()\u001b[0m\n\u001b[1;32m      1\u001b[0m \u001b[0mtrain_hist_path\u001b[0m \u001b[0;34m=\u001b[0m \u001b[0mos\u001b[0m\u001b[0;34m.\u001b[0m\u001b[0mpath\u001b[0m\u001b[0;34m.\u001b[0m\u001b[0mjoin\u001b[0m\u001b[0;34m(\u001b[0m\u001b[0mproject_result_path\u001b[0m\u001b[0;34m,\u001b[0m \u001b[0;34m'train_hist.json'\u001b[0m\u001b[0;34m)\u001b[0m\u001b[0;34m\u001b[0m\u001b[0m\n\u001b[0;32m----> 2\u001b[0;31m \u001b[0;32mwith\u001b[0m \u001b[0mopen\u001b[0m\u001b[0;34m(\u001b[0m\u001b[0mtrain_hist_path\u001b[0m\u001b[0;34m,\u001b[0m \u001b[0;34m'r'\u001b[0m\u001b[0;34m)\u001b[0m \u001b[0;32mas\u001b[0m \u001b[0mfile\u001b[0m\u001b[0;34m:\u001b[0m\u001b[0;34m\u001b[0m\u001b[0m\n\u001b[0m\u001b[1;32m      3\u001b[0m     \u001b[0mtrain_hist\u001b[0m \u001b[0;34m=\u001b[0m \u001b[0mjson\u001b[0m\u001b[0;34m.\u001b[0m\u001b[0mload\u001b[0m\u001b[0;34m(\u001b[0m\u001b[0mfile\u001b[0m\u001b[0;34m)\u001b[0m\u001b[0;34m\u001b[0m\u001b[0m\n",
      "\u001b[0;31mFileNotFoundError\u001b[0m: [Errno 2] No such file or directory: 'cycleGAN_1_results/train_hist.json'"
     ]
    }
   ],
   "source": [
    "train_hist_path = os.path.join(project_result_path, 'train_hist.json')\n",
    "with open(train_hist_path, 'r') as file:\n",
    "    train_hist = json.load(file)"
   ]
  },
  {
   "cell_type": "markdown",
   "metadata": {},
   "source": [
    "### Train"
   ]
  },
  {
   "cell_type": "code",
   "execution_count": 13,
   "metadata": {},
   "outputs": [],
   "source": [
    "#change the starting_epoch if needed\n",
    "starting_epoch = 0"
   ]
  },
  {
   "cell_type": "code",
   "execution_count": 12,
   "metadata": {},
   "outputs": [],
   "source": [
    "# for wgan\n",
    "one = torch.FloatTensor([1])\n",
    "mone = one * -1\n",
    "one, mone = one.to(device),mone.to(device)"
   ]
  },
  {
   "cell_type": "code",
   "execution_count": 14,
   "metadata": {},
   "outputs": [
    {
     "name": "stdout",
     "output_type": "stream",
     "text": [
      "training start!\n",
      "==> Epoch 1/20\n"
     ]
    },
    {
     "ename": "RuntimeError",
     "evalue": "invalid gradient at index 0 - expected shape [] but got [1]",
     "output_type": "error",
     "traceback": [
      "\u001b[0;31m---------------------------------------------------------------------------\u001b[0m",
      "\u001b[0;31mRuntimeError\u001b[0m                              Traceback (most recent call last)",
      "\u001b[0;32m<ipython-input-14-cc7a542eb424>\u001b[0m in \u001b[0;36m<module>\u001b[0;34m()\u001b[0m\n\u001b[1;32m     38\u001b[0m \u001b[0;31m#         G_A_loss = BCE_loss(D_B_fake_decision, torch.ones(D_B_fake_decision.size(), device=device))\u001b[0m\u001b[0;34m\u001b[0m\u001b[0;34m\u001b[0m\u001b[0m\n\u001b[1;32m     39\u001b[0m         \u001b[0mD_B_fake_decision\u001b[0m \u001b[0;34m=\u001b[0m \u001b[0mD_B_fake_decision\u001b[0m\u001b[0;34m.\u001b[0m\u001b[0mmean\u001b[0m\u001b[0;34m(\u001b[0m\u001b[0;34m)\u001b[0m\u001b[0;34m\u001b[0m\u001b[0m\n\u001b[0;32m---> 40\u001b[0;31m         \u001b[0mD_B_fake_decision\u001b[0m\u001b[0;34m.\u001b[0m\u001b[0mbackward\u001b[0m\u001b[0;34m(\u001b[0m\u001b[0mmone\u001b[0m\u001b[0;34m)\u001b[0m\u001b[0;34m\u001b[0m\u001b[0m\n\u001b[0m\u001b[1;32m     41\u001b[0m \u001b[0;34m\u001b[0m\u001b[0m\n\u001b[1;32m     42\u001b[0m         \u001b[0;31m# identity loss\u001b[0m\u001b[0;34m\u001b[0m\u001b[0;34m\u001b[0m\u001b[0m\n",
      "\u001b[0;32m~/anaconda3/envs/pytorch/lib/python3.5/site-packages/torch/tensor.py\u001b[0m in \u001b[0;36mbackward\u001b[0;34m(self, gradient, retain_graph, create_graph)\u001b[0m\n\u001b[1;32m     91\u001b[0m                 \u001b[0mproducts\u001b[0m\u001b[0;34m.\u001b[0m \u001b[0mDefaults\u001b[0m \u001b[0mto\u001b[0m\u001b[0;31m \u001b[0m\u001b[0;31m`\u001b[0m\u001b[0;31m`\u001b[0m\u001b[0;32mFalse\u001b[0m\u001b[0;31m`\u001b[0m\u001b[0;31m`\u001b[0m\u001b[0;34m.\u001b[0m\u001b[0;34m\u001b[0m\u001b[0m\n\u001b[1;32m     92\u001b[0m         \"\"\"\n\u001b[0;32m---> 93\u001b[0;31m         \u001b[0mtorch\u001b[0m\u001b[0;34m.\u001b[0m\u001b[0mautograd\u001b[0m\u001b[0;34m.\u001b[0m\u001b[0mbackward\u001b[0m\u001b[0;34m(\u001b[0m\u001b[0mself\u001b[0m\u001b[0;34m,\u001b[0m \u001b[0mgradient\u001b[0m\u001b[0;34m,\u001b[0m \u001b[0mretain_graph\u001b[0m\u001b[0;34m,\u001b[0m \u001b[0mcreate_graph\u001b[0m\u001b[0;34m)\u001b[0m\u001b[0;34m\u001b[0m\u001b[0m\n\u001b[0m\u001b[1;32m     94\u001b[0m \u001b[0;34m\u001b[0m\u001b[0m\n\u001b[1;32m     95\u001b[0m     \u001b[0;32mdef\u001b[0m \u001b[0mregister_hook\u001b[0m\u001b[0;34m(\u001b[0m\u001b[0mself\u001b[0m\u001b[0;34m,\u001b[0m \u001b[0mhook\u001b[0m\u001b[0;34m)\u001b[0m\u001b[0;34m:\u001b[0m\u001b[0;34m\u001b[0m\u001b[0m\n",
      "\u001b[0;32m~/anaconda3/envs/pytorch/lib/python3.5/site-packages/torch/autograd/__init__.py\u001b[0m in \u001b[0;36mbackward\u001b[0;34m(tensors, grad_tensors, retain_graph, create_graph, grad_variables)\u001b[0m\n\u001b[1;32m     88\u001b[0m     Variable._execution_engine.run_backward(\n\u001b[1;32m     89\u001b[0m         \u001b[0mtensors\u001b[0m\u001b[0;34m,\u001b[0m \u001b[0mgrad_tensors\u001b[0m\u001b[0;34m,\u001b[0m \u001b[0mretain_graph\u001b[0m\u001b[0;34m,\u001b[0m \u001b[0mcreate_graph\u001b[0m\u001b[0;34m,\u001b[0m\u001b[0;34m\u001b[0m\u001b[0m\n\u001b[0;32m---> 90\u001b[0;31m         allow_unreachable=True)  # allow_unreachable flag\n\u001b[0m\u001b[1;32m     91\u001b[0m \u001b[0;34m\u001b[0m\u001b[0m\n\u001b[1;32m     92\u001b[0m \u001b[0;34m\u001b[0m\u001b[0m\n",
      "\u001b[0;31mRuntimeError\u001b[0m: invalid gradient at index 0 - expected shape [] but got [1]"
     ]
    }
   ],
   "source": [
    "print('training start!')\n",
    "start_time = time.time()\n",
    "num_pool = 50\n",
    "fake_A_pool = utils.ImagePool(num_pool)\n",
    "fake_B_pool = utils.ImagePool(num_pool)\n",
    "for epoch in range(train_epoch):\n",
    "    epoch_start_time = time.time()\n",
    "    print(\"==> Epoch {}/{}\".format(starting_epoch+epoch + 1, starting_epoch+train_epoch))\n",
    "    if (epoch + 1) > decay_epoch:\n",
    "        D_A_optimizer.param_groups[0]['lr'] -= lrD / 10\n",
    "        D_B_optimizer.param_groups[0]['lr'] -= lrD / 10\n",
    "        G_optimizer.param_groups[0]['lr'] -= lrG / 10\n",
    "    \n",
    "    G_losses = []\n",
    "    G_gan_losses = []\n",
    "    G_cycle_losses = []\n",
    "    G_idt_losses = []\n",
    "\n",
    "    D_A_losses = []\n",
    "    D_B_losses = []\n",
    "    for (real_A,_),(real_B,_) in zip(train_loader_A, train_loader_B):\n",
    "        G_A.train()\n",
    "        G_B.train()\n",
    "\n",
    "        # input image data\n",
    "        real_A = real_A.to(device)\n",
    "        real_B = real_B.to(device)\n",
    "\n",
    "        #fix D parameters\n",
    "        for model in [D_A, D_B]:\n",
    "            for param in model.parameters():\n",
    "                param.requires_grad = False\n",
    "        \n",
    "        # Train generator G\n",
    "        # A -> B\n",
    "        fake_B = G_A(real_A)\n",
    "        D_B_fake_decision = D_B(fake_B)\n",
    "#         G_A_loss = BCE_loss(D_B_fake_decision, torch.ones(D_B_fake_decision.size(), device=device))\n",
    "        D_B_fake_decision = D_B_fake_decision.mean()\n",
    "        D_B_fake_decision.backward(mone)\n",
    "\n",
    "        # identity loss\n",
    "#         G_A_idt_loss = L1_loss(fake_B, real_A) * lambdaA * lambda_idt\n",
    "        \n",
    "        # forward cycle loss\n",
    "        recon_A = G_B(fake_B)\n",
    "        cycle_A_loss = L1_loss(recon_A, real_A) * lambdaA * lambda_cycle\n",
    "\n",
    "        # B -> A\n",
    "        fake_A = G_B(real_B)\n",
    "        D_A_fake_decision = D_A(fake_A)\n",
    "#         G_B_loss = BCE_loss(D_A_fake_decision, torch.ones(D_A_fake_decision.size(), device=device))\n",
    "        D_A_fake_decision = D_A_fake_decision.mean()\n",
    "        D_A_fake_decision.backward(mone)\n",
    "    \n",
    "        # identity loss\n",
    "#         G_B_idt_loss = L1_loss(fake_A, real_B) * lambdaB * lambda_idt\n",
    "        \n",
    "        # backward cycle loss\n",
    "        recon_B = G_A(fake_A)\n",
    "        cycle_B_loss = L1_loss(recon_B, real_B) * lambdaB * lambda_cycle\n",
    "        \n",
    "        # Back propagation\n",
    "#         G_gan_loss = G_A_loss + G_B_loss\n",
    "        G_gan_loss = D_A_fake_decision + D_B_fake_decision\n",
    "        G_gan_losses.append(G_gan_loss)\n",
    "        G_cycle_loss = cycle_A_loss + cycle_B_loss\n",
    "        G_cycle_losses.append(G_cycle_loss)\n",
    "#         G_idt_loss = G_A_idt_loss + G_B_idt_loss\n",
    "#         G_idt_losses.append(G_idt_loss)\n",
    "\n",
    "#         G_loss = G_gan_loss + G_cycle_loss + G_idt_loss\n",
    "        G_loss = G_gan_loss + G_cycle_loss\n",
    "        G_losses.append(G_loss)\n",
    "        G_optimizer.zero_grad()\n",
    "        G_loss.backward()\n",
    "        G_optimizer.step()\n",
    "\n",
    "        #train D parameters\n",
    "        for model in [D_A, D_B]:\n",
    "            for param in model.parameters():\n",
    "                param.requires_grad = True\n",
    "                param.data.clamp_(-0.01,0.01)\n",
    "        \n",
    "        # Train discriminator D_A\n",
    "        D_A_optimizer.zero_grad()\n",
    "        D_A_real_decision = D_A(real_A)\n",
    "        \n",
    "        D_A_real_decision = D_A_real_decision.mean()\n",
    "        D_A_real_decision.backward(mone)\n",
    "#         D_A_real_loss = BCE_loss(D_A_real_decision, 1-torch.rand(D_A_real_decision.size(), device=device)/10.0)\n",
    "        \n",
    "        fake_A = fake_A_pool.query(fake_A.detach())\n",
    "        D_A_fake_decision = D_A(fake_A)\n",
    "        \n",
    "        D_A_fake_decision = D_A_fake_decision.mean()\n",
    "        D_A_fake_decision.backward(one)\n",
    "#         D_A_fake_loss = BCE_loss(D_A_fake_decision, torch.rand(D_A_fake_decision.size(), device=device)/10.0)\n",
    "\n",
    "        # Back propagation\n",
    "        D_A_loss = D_A_fake_decision\n",
    "#         D_A_loss = (D_A_real_loss + D_A_fake_loss) * 0.5\n",
    "#         D_A_losses.append(D_A_loss)\n",
    "#         D_A_optimizer.zero_grad()\n",
    "#         D_A_loss.backward()\n",
    "#         D_A_optimizer.step()\n",
    "\n",
    "        # Train discriminator D_B\n",
    "        D_B_optimizer.zero_grad()\n",
    "        D_B_real_decision = D_B(real_B)\n",
    "        \n",
    "        D_B_real_decision = D_B_real_decision.mean()\n",
    "        D_B_real_decision.backward(mone)\n",
    "#         D_B_real_loss = BCE_loss(D_B_real_decision, 1-torch.rand(D_B_real_decision.size(), device=device)/10.0)\n",
    "        \n",
    "        fake_B = fake_B_pool.query(fake_B.detach())\n",
    "        D_B_fake_decision = D_B(fake_B)\n",
    "        D_B_fake_decision = D_B_fake_decision.mean()\n",
    "        D_B_fake_decision.backward(one)\n",
    "#         D_B_fake_loss = BCE_loss(D_B_fake_decision, torch.rand(D_B_fake_decision.size(), device=device)/10.0)\n",
    "\n",
    "        # Back propagation\n",
    "        D_B_loss = D_B_fake_decision\n",
    "\n",
    "#         D_B_loss = (D_B_real_loss + D_B_fake_loss) * 0.5\n",
    "#         D_B_losses.append(D_B_loss)\n",
    "#         D_B_optimizer.zero_grad()\n",
    "#         D_B_loss.backward()\n",
    "#         D_B_optimizer.step()\n",
    "    \n",
    "    per_epoch_time = time.time() - epoch_start_time\n",
    "    train_hist['per_epoch_time'].append(per_epoch_time)\n",
    "    \n",
    "    G_loss_avg = torch.mean(torch.FloatTensor(G_losses))\n",
    "    G_gan_loss_avg = torch.mean(torch.FloatTensor(G_gan_losses))\n",
    "    G_cycle_loss_avg = torch.mean(torch.FloatTensor(G_cycle_losses))\n",
    "#     G_idt_loss_avg = torch.mean(torch.FloatTensor(G_idt_losses))\n",
    "    D_A_loss_avg = torch.mean(torch.FloatTensor(D_A_losses))\n",
    "    D_B_loss_avg =  torch.mean(torch.FloatTensor(D_B_losses))\n",
    "    \n",
    "    train_hist['G_loss_one_epoch'].append(G_loss_avg)\n",
    "    train_hist['G_gan_loss_one_epoch'].append(G_gan_loss_avg)\n",
    "    train_hist['G_cycle_loss_one_epoch'].append(G_cycle_loss_avg)\n",
    "#     train_hist['G_idt_loss_one_epoch'].append(G_idt_loss_avg)\n",
    "\n",
    "    train_hist['D_A_loss_one_epoch'].append(D_A_loss_avg)\n",
    "    train_hist['D_B_loss_one_epoch'].append(D_B_loss_avg)\n",
    "    \n",
    "    print(\n",
    "    '[%d/%d] - time: %.2f, G loss: %.3f, gan loss: %.3f, cycle loss: %.3f, D_A loss: %.3f, D_B loss: %.3f' \n",
    "    % ((starting_epoch+epoch+1),starting_epoch+train_epoch, per_epoch_time, G_loss_avg, G_gan_loss_avg, G_cycle_loss_avg, D_A_loss_avg, D_B_loss_avg))\n",
    "    \n",
    "    #Save image result\n",
    "    with torch.no_grad():\n",
    "        G_A.eval()\n",
    "        G_B.eval()\n",
    "        for n, (x, _) in enumerate(train_loader_A):\n",
    "            x = x.to(device)\n",
    "            G_A_result = G_A(x)\n",
    "            G_A_recon = G_B(G_A_result)\n",
    "            result = torch.cat((x[0], G_A_result[0], G_A_recon[0]), 2)\n",
    "            path = os.path.join(project_result_path, 'Cycle_G_A', str(epoch+starting_epoch) + '_epoch_'  + '_train_' + str(n + 1) + '.png')\n",
    "            plt.imsave(path, (result.cpu().numpy().transpose(1, 2, 0) + 1) / 2)\n",
    "            if n == 4:\n",
    "                break\n",
    "\n",
    "        for n, (x,_) in enumerate(train_loader_B):\n",
    "            x = x.to(device)\n",
    "            G_B_result = G_B(x)\n",
    "            G_B_recon = G_A(G_B_result)\n",
    "            result = torch.cat((x[0],G_B_result[0],G_B_recon[0]),2)\n",
    "            path = os.path.join(project_result_path,'Cycle_G_B',str(epoch+starting_epoch) + '_epoch_' +'_train_'+str(n+1)+'.png')\n",
    "            plt.imsave(path, (result.cpu().numpy().transpose(1, 2, 0) + 1) / 2)\n",
    "            if n == 4:\n",
    "                break\n",
    "                \n",
    "        torch.save(G_A.state_dict(), os.path.join(project_result_path, 'G_A.pkl'))\n",
    "        torch.save(G_B.state_dict(), os.path.join(project_result_path, 'G_B.pkl')) \n",
    "        torch.save(D_A.state_dict(), os.path.join(project_result_path, 'D_A.pkl'))\n",
    "        torch.save(D_B.state_dict(), os.path.join(project_result_path, 'D_B.pkl'))\n",
    "        with open(os.path.join(project_result_path,  'train_hist.pkl'), 'wb') as f:\n",
    "            pickle.dump(train_hist, f)"
   ]
  },
  {
   "cell_type": "code",
   "execution_count": 15,
   "metadata": {
    "collapsed": true
   },
   "outputs": [
    {
     "name": "stdout",
     "output_type": "stream",
     "text": [
      "> \u001b[0;32m/root/anaconda3/envs/pytorch/lib/python3.5/site-packages/torch/autograd/__init__.py\u001b[0m(90)\u001b[0;36mbackward\u001b[0;34m()\u001b[0m\n",
      "\u001b[0;32m     88 \u001b[0;31m    Variable._execution_engine.run_backward(\n",
      "\u001b[0m\u001b[0;32m     89 \u001b[0;31m        \u001b[0mtensors\u001b[0m\u001b[0;34m,\u001b[0m \u001b[0mgrad_tensors\u001b[0m\u001b[0;34m,\u001b[0m \u001b[0mretain_graph\u001b[0m\u001b[0;34m,\u001b[0m \u001b[0mcreate_graph\u001b[0m\u001b[0;34m,\u001b[0m\u001b[0;34m\u001b[0m\u001b[0m\n",
      "\u001b[0m\u001b[0;32m---> 90 \u001b[0;31m        allow_unreachable=True)  # allow_unreachable flag\n",
      "\u001b[0m\u001b[0;32m     91 \u001b[0;31m\u001b[0;34m\u001b[0m\u001b[0m\n",
      "\u001b[0m\u001b[0;32m     92 \u001b[0;31m\u001b[0;34m\u001b[0m\u001b[0m\n",
      "\u001b[0m\n",
      "ipdb> up\n",
      "> \u001b[0;32m/root/anaconda3/envs/pytorch/lib/python3.5/site-packages/torch/tensor.py\u001b[0m(93)\u001b[0;36mbackward\u001b[0;34m()\u001b[0m\n",
      "\u001b[0;32m     91 \u001b[0;31m                \u001b[0mproducts\u001b[0m\u001b[0;34m.\u001b[0m \u001b[0mDefaults\u001b[0m \u001b[0mto\u001b[0m\u001b[0;31m \u001b[0m\u001b[0;31m`\u001b[0m\u001b[0;31m`\u001b[0m\u001b[0;32mFalse\u001b[0m\u001b[0;31m`\u001b[0m\u001b[0;31m`\u001b[0m\u001b[0;34m.\u001b[0m\u001b[0;34m\u001b[0m\u001b[0m\n",
      "\u001b[0m\u001b[0;32m     92 \u001b[0;31m        \"\"\"\n",
      "\u001b[0m\u001b[0;32m---> 93 \u001b[0;31m        \u001b[0mtorch\u001b[0m\u001b[0;34m.\u001b[0m\u001b[0mautograd\u001b[0m\u001b[0;34m.\u001b[0m\u001b[0mbackward\u001b[0m\u001b[0;34m(\u001b[0m\u001b[0mself\u001b[0m\u001b[0;34m,\u001b[0m \u001b[0mgradient\u001b[0m\u001b[0;34m,\u001b[0m \u001b[0mretain_graph\u001b[0m\u001b[0;34m,\u001b[0m \u001b[0mcreate_graph\u001b[0m\u001b[0;34m)\u001b[0m\u001b[0;34m\u001b[0m\u001b[0m\n",
      "\u001b[0m\u001b[0;32m     94 \u001b[0;31m\u001b[0;34m\u001b[0m\u001b[0m\n",
      "\u001b[0m\u001b[0;32m     95 \u001b[0;31m    \u001b[0;32mdef\u001b[0m \u001b[0mregister_hook\u001b[0m\u001b[0;34m(\u001b[0m\u001b[0mself\u001b[0m\u001b[0;34m,\u001b[0m \u001b[0mhook\u001b[0m\u001b[0;34m)\u001b[0m\u001b[0;34m:\u001b[0m\u001b[0;34m\u001b[0m\u001b[0m\n",
      "\u001b[0m\n",
      "ipdb> up\n",
      "> \u001b[0;32m<ipython-input-14-cc7a542eb424>\u001b[0m(40)\u001b[0;36m<module>\u001b[0;34m()\u001b[0m\n",
      "\u001b[0;32m     38 \u001b[0;31m\u001b[0;31m#         G_A_loss = BCE_loss(D_B_fake_decision, torch.ones(D_B_fake_decision.size(), device=device))\u001b[0m\u001b[0;34m\u001b[0m\u001b[0;34m\u001b[0m\u001b[0m\n",
      "\u001b[0m\u001b[0;32m     39 \u001b[0;31m        \u001b[0mD_B_fake_decision\u001b[0m \u001b[0;34m=\u001b[0m \u001b[0mD_B_fake_decision\u001b[0m\u001b[0;34m.\u001b[0m\u001b[0mmean\u001b[0m\u001b[0;34m(\u001b[0m\u001b[0;34m)\u001b[0m\u001b[0;34m\u001b[0m\u001b[0m\n",
      "\u001b[0m\u001b[0;32m---> 40 \u001b[0;31m        \u001b[0mD_B_fake_decision\u001b[0m\u001b[0;34m.\u001b[0m\u001b[0mbackward\u001b[0m\u001b[0;34m(\u001b[0m\u001b[0mmone\u001b[0m\u001b[0;34m)\u001b[0m\u001b[0;34m\u001b[0m\u001b[0m\n",
      "\u001b[0m\u001b[0;32m     41 \u001b[0;31m\u001b[0;34m\u001b[0m\u001b[0m\n",
      "\u001b[0m\u001b[0;32m     42 \u001b[0;31m        \u001b[0;31m# identity loss\u001b[0m\u001b[0;34m\u001b[0m\u001b[0;34m\u001b[0m\u001b[0m\n",
      "\u001b[0m\n",
      "ipdb> D_B_fake_decision\n",
      "tensor(0.0162, device='cuda:0', grad_fn=<MeanBackward1>)\n",
      "ipdb> D_B_fake_decision.shape\n",
      "torch.Size([])\n",
      "ipdb> quit\n"
     ]
    }
   ],
   "source": [
    "%debug"
   ]
  }
 ],
 "metadata": {
  "kernelspec": {
   "display_name": "Python 3",
   "language": "python",
   "name": "python3"
  },
  "language_info": {
   "codemirror_mode": {
    "name": "ipython",
    "version": 3
   },
   "file_extension": ".py",
   "mimetype": "text/x-python",
   "name": "python",
   "nbconvert_exporter": "python",
   "pygments_lexer": "ipython3",
   "version": "3.5.5"
  }
 },
 "nbformat": 4,
 "nbformat_minor": 2
}
