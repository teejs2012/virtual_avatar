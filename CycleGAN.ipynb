{
 "cells": [
  {
   "cell_type": "code",
   "execution_count": 1,
   "metadata": {},
   "outputs": [],
   "source": [
    "import os, time, pickle, argparse, networks, utils\n",
    "import torch\n",
    "import torch.nn as nn\n",
    "import torch.optim as optim\n",
    "import matplotlib.pyplot as plt\n",
    "from torchvision import transforms\n",
    "from edge_promoting import edge_promoting"
   ]
  },
  {
   "cell_type": "markdown",
   "metadata": {},
   "source": [
    "### Parameters "
   ]
  },
  {
   "cell_type": "code",
   "execution_count": 2,
   "metadata": {},
   "outputs": [],
   "source": [
    "name='project_name'\n",
    "#source data path\n",
    "src_data='src_data_path'\n",
    "#target data path\n",
    "tgt_data='tgt_data_path'\n",
    "#pre-trained VGG19 model path\n",
    "vgg_model='pre_trained_VGG19_model_path/vgg19.pth'\n",
    "#input channel for generator\n",
    "in_ngc=3\n",
    "#output channel for generator\n",
    "out_ngc=3\n",
    "#input channel for discriminator\n",
    "in_ndc=3\n",
    "#output channel for discriminator\n",
    "out_ndc=1\n",
    "batch_size=8\n",
    "ngf=64\n",
    "ndf=32\n",
    "#the number of resnet block layer for generator\n",
    "nb=8\n",
    "#input size\n",
    "input_size=256\n",
    "train_epoch=50\n",
    "pre_train_epoch=10\n",
    "#Discriminator learning rate, default=0.0002\n",
    "lrD=0.0002\n",
    "#Generator learning rate, default=0.0002\n",
    "lrG=0.0002\n",
    "#lambda for content loss\n",
    "con_lambda=10\n",
    "#beta1 for Adam optimizer\n",
    "beta1=0.5\n",
    "#beta2 for Adam optimizer\n",
    "beta2=0.999"
   ]
  },
  {
   "cell_type": "code",
   "execution_count": null,
   "metadata": {},
   "outputs": [],
   "source": [
    "device = torch.device('cuda' if torch.cuda.is_available() else 'cpu')\n",
    "if torch.backends.cudnn.enabled:\n",
    "    torch.backends.cudnn.benchmark = True"
   ]
  },
  {
   "cell_type": "code",
   "execution_count": null,
   "metadata": {},
   "outputs": [],
   "source": [
    "device"
   ]
  },
  {
   "cell_type": "code",
   "execution_count": null,
   "metadata": {},
   "outputs": [],
   "source": [
    "# results save path\n",
    "if not os.path.isdir(os.path.join(name + '_results', 'Reconstruction')):\n",
    "    os.makedirs(os.path.join(name + '_results', 'Reconstruction'))\n",
    "if not os.path.isdir(os.path.join(name + '_results', 'Transfer')):\n",
    "    os.makedirs(os.path.join(name + '_results', 'Transfer'))"
   ]
  },
  {
   "cell_type": "code",
   "execution_count": null,
   "metadata": {},
   "outputs": [],
   "source": [
    "#setup source and target folder\n",
    "if not os.path.isdir(os.path.join('data',tgt_data,'train')):\n",
    "    os.makedirs(os.path.join('data',tgt_data,'train'))\n",
    "if not os.path.isdir(os.path.join('data',src_data,'train')):\n",
    "    os.makedirs(os.path.join('data',src_data,'train'))\n",
    "if not os.path.isdir(os.path.join('data',src_data,'test')):\n",
    "    os.makedirs(os.path.join('data',src_data,'test'))"
   ]
  },
  {
   "cell_type": "code",
   "execution_count": null,
   "metadata": {},
   "outputs": [],
   "source": [
    "# edge-promoting\n",
    "if not os.path.isdir(os.path.join('data', tgt_data, 'pair')):\n",
    "    print('edge-promoting start!!')\n",
    "    edge_promoting(os.path.join('data', tgt_data, 'train'), os.path.join('data', tgt_data, 'pair'))\n",
    "else:\n",
    "    print('edge-promoting already done')"
   ]
  },
  {
   "cell_type": "code",
   "execution_count": null,
   "metadata": {},
   "outputs": [],
   "source": [
    "# data_loader\n",
    "src_transform = transforms.Compose([\n",
    "        transforms.Resize((input_size, input_size)),\n",
    "        transforms.ToTensor(),\n",
    "        transforms.Normalize(mean=(0.5, 0.5, 0.5), std=(0.5, 0.5, 0.5))\n",
    "])\n",
    "tgt_transform = transforms.Compose([\n",
    "        transforms.ToTensor(),\n",
    "        transforms.Normalize(mean=(0.5, 0.5, 0.5), std=(0.5, 0.5, 0.5))\n",
    "])\n",
    "train_loader_src = utils.data_load(os.path.join('data', src_data), 'train', src_transform, batch_size, shuffle=True, drop_last=True)\n",
    "train_loader_tgt = utils.data_load(os.path.join('data', tgt_data), 'pair', tgt_transform, batch_size, shuffle=True, drop_last=True)\n",
    "test_loader_src = utils.data_load(os.path.join('data', src_data), 'test', src_transform, 1, shuffle=True, drop_last=True)"
   ]
  },
  {
   "cell_type": "code",
   "execution_count": null,
   "metadata": {},
   "outputs": [],
   "source": []
  },
  {
   "cell_type": "code",
   "execution_count": null,
   "metadata": {},
   "outputs": [],
   "source": []
  }
 ],
 "metadata": {
  "kernelspec": {
   "display_name": "Python 3",
   "language": "python",
   "name": "python3"
  },
  "language_info": {
   "codemirror_mode": {
    "name": "ipython",
    "version": 3
   },
   "file_extension": ".py",
   "mimetype": "text/x-python",
   "name": "python",
   "nbconvert_exporter": "python",
   "pygments_lexer": "ipython3",
   "version": "3.5.5"
  }
 },
 "nbformat": 4,
 "nbformat_minor": 2
}
